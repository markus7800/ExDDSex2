{
 "cells": [
  {
   "cell_type": "markdown",
   "metadata": {},
   "source": [
    "# Measuring Influence on Instagram"
   ]
  },
  {
   "cell_type": "code",
   "execution_count": 4,
   "metadata": {},
   "outputs": [],
   "source": [
    "import pandas as pd\n",
    "import numpy as np\n",
    "import matplotlib.pyplot as plt\n",
    "import math "
   ]
  },
  {
   "cell_type": "code",
   "execution_count": 5,
   "metadata": {},
   "outputs": [
    {
     "data": {
      "text/plain": [
       "(114781, 7)"
      ]
     },
     "metadata": {},
     "output_type": "display_data"
    },
    {
     "data": {
      "text/html": [
       "<div>\n",
       "<style scoped>\n",
       "    .dataframe tbody tr th:only-of-type {\n",
       "        vertical-align: middle;\n",
       "    }\n",
       "\n",
       "    .dataframe tbody tr th {\n",
       "        vertical-align: top;\n",
       "    }\n",
       "\n",
       "    .dataframe thead th {\n",
       "        text-align: right;\n",
       "    }\n",
       "</style>\n",
       "<table border=\"1\" class=\"dataframe\">\n",
       "  <thead>\n",
       "    <tr style=\"text-align: right;\">\n",
       "      <th></th>\n",
       "      <th>avg_likes</th>\n",
       "      <th>avg_comments</th>\n",
       "      <th>avg_followers</th>\n",
       "      <th>avg_posts</th>\n",
       "      <th>max_likes</th>\n",
       "      <th>min_likes</th>\n",
       "      <th>avg_views</th>\n",
       "    </tr>\n",
       "  </thead>\n",
       "  <tbody>\n",
       "    <tr>\n",
       "      <th>0</th>\n",
       "      <td>97.5000</td>\n",
       "      <td>3.0000</td>\n",
       "      <td>13178.0</td>\n",
       "      <td>1967.0</td>\n",
       "      <td>113</td>\n",
       "      <td>59</td>\n",
       "      <td>333.1667</td>\n",
       "    </tr>\n",
       "    <tr>\n",
       "      <th>1</th>\n",
       "      <td>91.7500</td>\n",
       "      <td>9.2500</td>\n",
       "      <td>4228.0</td>\n",
       "      <td>1402.0</td>\n",
       "      <td>174</td>\n",
       "      <td>39</td>\n",
       "      <td>308.6250</td>\n",
       "    </tr>\n",
       "    <tr>\n",
       "      <th>2</th>\n",
       "      <td>33.0000</td>\n",
       "      <td>3.5000</td>\n",
       "      <td>2212.0</td>\n",
       "      <td>2471.0</td>\n",
       "      <td>46</td>\n",
       "      <td>23</td>\n",
       "      <td>126.7500</td>\n",
       "    </tr>\n",
       "    <tr>\n",
       "      <th>3</th>\n",
       "      <td>20.0000</td>\n",
       "      <td>3.5000</td>\n",
       "      <td>203.0</td>\n",
       "      <td>1838.0</td>\n",
       "      <td>26</td>\n",
       "      <td>16</td>\n",
       "      <td>65.5000</td>\n",
       "    </tr>\n",
       "    <tr>\n",
       "      <th>4</th>\n",
       "      <td>13.2000</td>\n",
       "      <td>1.2000</td>\n",
       "      <td>132.0</td>\n",
       "      <td>309.0</td>\n",
       "      <td>18</td>\n",
       "      <td>9</td>\n",
       "      <td>61.2000</td>\n",
       "    </tr>\n",
       "    <tr>\n",
       "      <th>5</th>\n",
       "      <td>109.1111</td>\n",
       "      <td>8.8889</td>\n",
       "      <td>2074.0</td>\n",
       "      <td>1583.0</td>\n",
       "      <td>215</td>\n",
       "      <td>60</td>\n",
       "      <td>638.4444</td>\n",
       "    </tr>\n",
       "    <tr>\n",
       "      <th>6</th>\n",
       "      <td>153.0000</td>\n",
       "      <td>12.6667</td>\n",
       "      <td>1718.0</td>\n",
       "      <td>4865.0</td>\n",
       "      <td>246</td>\n",
       "      <td>37</td>\n",
       "      <td>428.6667</td>\n",
       "    </tr>\n",
       "    <tr>\n",
       "      <th>7</th>\n",
       "      <td>50.5000</td>\n",
       "      <td>12.5000</td>\n",
       "      <td>511.0</td>\n",
       "      <td>739.0</td>\n",
       "      <td>62</td>\n",
       "      <td>35</td>\n",
       "      <td>148.1667</td>\n",
       "    </tr>\n",
       "    <tr>\n",
       "      <th>8</th>\n",
       "      <td>35.0000</td>\n",
       "      <td>0.6000</td>\n",
       "      <td>1216.0</td>\n",
       "      <td>2435.0</td>\n",
       "      <td>42</td>\n",
       "      <td>25</td>\n",
       "      <td>117.6000</td>\n",
       "    </tr>\n",
       "    <tr>\n",
       "      <th>9</th>\n",
       "      <td>32.0000</td>\n",
       "      <td>6.0000</td>\n",
       "      <td>1019.0</td>\n",
       "      <td>8328.0</td>\n",
       "      <td>53</td>\n",
       "      <td>14</td>\n",
       "      <td>90.0000</td>\n",
       "    </tr>\n",
       "    <tr>\n",
       "      <th>10</th>\n",
       "      <td>6082.7500</td>\n",
       "      <td>185.0000</td>\n",
       "      <td>149786.0</td>\n",
       "      <td>827.0</td>\n",
       "      <td>7833</td>\n",
       "      <td>5197</td>\n",
       "      <td>27327.2500</td>\n",
       "    </tr>\n",
       "    <tr>\n",
       "      <th>11</th>\n",
       "      <td>63.2857</td>\n",
       "      <td>3.7143</td>\n",
       "      <td>3336.0</td>\n",
       "      <td>4268.0</td>\n",
       "      <td>100</td>\n",
       "      <td>45</td>\n",
       "      <td>239.8571</td>\n",
       "    </tr>\n",
       "    <tr>\n",
       "      <th>12</th>\n",
       "      <td>18.2500</td>\n",
       "      <td>1.1250</td>\n",
       "      <td>956.0</td>\n",
       "      <td>489.0</td>\n",
       "      <td>31</td>\n",
       "      <td>11</td>\n",
       "      <td>118.5000</td>\n",
       "    </tr>\n",
       "    <tr>\n",
       "      <th>13</th>\n",
       "      <td>13.3333</td>\n",
       "      <td>0.0000</td>\n",
       "      <td>775.0</td>\n",
       "      <td>2955.0</td>\n",
       "      <td>15</td>\n",
       "      <td>12</td>\n",
       "      <td>83.3333</td>\n",
       "    </tr>\n",
       "    <tr>\n",
       "      <th>14</th>\n",
       "      <td>46.6000</td>\n",
       "      <td>0.8000</td>\n",
       "      <td>66986.0</td>\n",
       "      <td>1665.0</td>\n",
       "      <td>57</td>\n",
       "      <td>42</td>\n",
       "      <td>588.0000</td>\n",
       "    </tr>\n",
       "    <tr>\n",
       "      <th>15</th>\n",
       "      <td>13.0769</td>\n",
       "      <td>0.6923</td>\n",
       "      <td>2451.0</td>\n",
       "      <td>12115.0</td>\n",
       "      <td>25</td>\n",
       "      <td>5</td>\n",
       "      <td>55.6923</td>\n",
       "    </tr>\n",
       "    <tr>\n",
       "      <th>16</th>\n",
       "      <td>17.2105</td>\n",
       "      <td>0.3158</td>\n",
       "      <td>1448.0</td>\n",
       "      <td>3540.0</td>\n",
       "      <td>35</td>\n",
       "      <td>4</td>\n",
       "      <td>94.6842</td>\n",
       "    </tr>\n",
       "    <tr>\n",
       "      <th>17</th>\n",
       "      <td>26.2500</td>\n",
       "      <td>0.5000</td>\n",
       "      <td>472.0</td>\n",
       "      <td>896.0</td>\n",
       "      <td>32</td>\n",
       "      <td>19</td>\n",
       "      <td>123.5000</td>\n",
       "    </tr>\n",
       "    <tr>\n",
       "      <th>18</th>\n",
       "      <td>80.5000</td>\n",
       "      <td>5.5000</td>\n",
       "      <td>1198.0</td>\n",
       "      <td>182.0</td>\n",
       "      <td>93</td>\n",
       "      <td>64</td>\n",
       "      <td>327.2500</td>\n",
       "    </tr>\n",
       "    <tr>\n",
       "      <th>19</th>\n",
       "      <td>36.2500</td>\n",
       "      <td>1.2500</td>\n",
       "      <td>335.0</td>\n",
       "      <td>1017.0</td>\n",
       "      <td>47</td>\n",
       "      <td>29</td>\n",
       "      <td>67.7500</td>\n",
       "    </tr>\n",
       "  </tbody>\n",
       "</table>\n",
       "</div>"
      ],
      "text/plain": [
       "    avg_likes  avg_comments  avg_followers  avg_posts  max_likes  min_likes  \\\n",
       "0     97.5000        3.0000        13178.0     1967.0        113         59   \n",
       "1     91.7500        9.2500         4228.0     1402.0        174         39   \n",
       "2     33.0000        3.5000         2212.0     2471.0         46         23   \n",
       "3     20.0000        3.5000          203.0     1838.0         26         16   \n",
       "4     13.2000        1.2000          132.0      309.0         18          9   \n",
       "5    109.1111        8.8889         2074.0     1583.0        215         60   \n",
       "6    153.0000       12.6667         1718.0     4865.0        246         37   \n",
       "7     50.5000       12.5000          511.0      739.0         62         35   \n",
       "8     35.0000        0.6000         1216.0     2435.0         42         25   \n",
       "9     32.0000        6.0000         1019.0     8328.0         53         14   \n",
       "10  6082.7500      185.0000       149786.0      827.0       7833       5197   \n",
       "11    63.2857        3.7143         3336.0     4268.0        100         45   \n",
       "12    18.2500        1.1250          956.0      489.0         31         11   \n",
       "13    13.3333        0.0000          775.0     2955.0         15         12   \n",
       "14    46.6000        0.8000        66986.0     1665.0         57         42   \n",
       "15    13.0769        0.6923         2451.0    12115.0         25          5   \n",
       "16    17.2105        0.3158         1448.0     3540.0         35          4   \n",
       "17    26.2500        0.5000          472.0      896.0         32         19   \n",
       "18    80.5000        5.5000         1198.0      182.0         93         64   \n",
       "19    36.2500        1.2500          335.0     1017.0         47         29   \n",
       "\n",
       "     avg_views  \n",
       "0     333.1667  \n",
       "1     308.6250  \n",
       "2     126.7500  \n",
       "3      65.5000  \n",
       "4      61.2000  \n",
       "5     638.4444  \n",
       "6     428.6667  \n",
       "7     148.1667  \n",
       "8     117.6000  \n",
       "9      90.0000  \n",
       "10  27327.2500  \n",
       "11    239.8571  \n",
       "12    118.5000  \n",
       "13     83.3333  \n",
       "14    588.0000  \n",
       "15     55.6923  \n",
       "16     94.6842  \n",
       "17    123.5000  \n",
       "18    327.2500  \n",
       "19     67.7500  "
      ]
     },
     "execution_count": 5,
     "metadata": {},
     "output_type": "execute_result"
    }
   ],
   "source": [
    "usersData = pd.read_csv('instagram_data/usersData.csv', sep=',')\n",
    "display(usersData.shape)\n",
    "usersData.head(20)"
   ]
  },
  {
   "cell_type": "code",
   "execution_count": 6,
   "metadata": {},
   "outputs": [
    {
     "data": {
      "text/html": [
       "<div>\n",
       "<style scoped>\n",
       "    .dataframe tbody tr th:only-of-type {\n",
       "        vertical-align: middle;\n",
       "    }\n",
       "\n",
       "    .dataframe tbody tr th {\n",
       "        vertical-align: top;\n",
       "    }\n",
       "\n",
       "    .dataframe thead th {\n",
       "        text-align: right;\n",
       "    }\n",
       "</style>\n",
       "<table border=\"1\" class=\"dataframe\">\n",
       "  <thead>\n",
       "    <tr style=\"text-align: right;\">\n",
       "      <th></th>\n",
       "      <th>avg_likes</th>\n",
       "      <th>avg_comments</th>\n",
       "      <th>avg_followers</th>\n",
       "      <th>avg_posts</th>\n",
       "      <th>max_likes</th>\n",
       "      <th>min_likes</th>\n",
       "      <th>avg_views</th>\n",
       "    </tr>\n",
       "  </thead>\n",
       "  <tbody>\n",
       "    <tr>\n",
       "      <th>count</th>\n",
       "      <td>1.147810e+05</td>\n",
       "      <td>114781.000000</td>\n",
       "      <td>1.147810e+05</td>\n",
       "      <td>114781.000000</td>\n",
       "      <td>1.147810e+05</td>\n",
       "      <td>1.147810e+05</td>\n",
       "      <td>1.147810e+05</td>\n",
       "    </tr>\n",
       "    <tr>\n",
       "      <th>mean</th>\n",
       "      <td>8.980949e+02</td>\n",
       "      <td>27.756262</td>\n",
       "      <td>6.016005e+04</td>\n",
       "      <td>995.570356</td>\n",
       "      <td>1.365752e+03</td>\n",
       "      <td>5.694098e+02</td>\n",
       "      <td>7.276758e+03</td>\n",
       "    </tr>\n",
       "    <tr>\n",
       "      <th>std</th>\n",
       "      <td>1.063233e+04</td>\n",
       "      <td>774.559009</td>\n",
       "      <td>1.115905e+06</td>\n",
       "      <td>1927.328265</td>\n",
       "      <td>1.490799e+04</td>\n",
       "      <td>7.615014e+03</td>\n",
       "      <td>7.385628e+04</td>\n",
       "    </tr>\n",
       "    <tr>\n",
       "      <th>min</th>\n",
       "      <td>1.000000e+00</td>\n",
       "      <td>0.000000</td>\n",
       "      <td>3.000000e+00</td>\n",
       "      <td>1.000000</td>\n",
       "      <td>1.000000e+00</td>\n",
       "      <td>1.000000e+00</td>\n",
       "      <td>1.500000e+00</td>\n",
       "    </tr>\n",
       "    <tr>\n",
       "      <th>25%</th>\n",
       "      <td>7.966670e+01</td>\n",
       "      <td>2.833300</td>\n",
       "      <td>1.384000e+03</td>\n",
       "      <td>194.000000</td>\n",
       "      <td>1.080000e+02</td>\n",
       "      <td>4.800000e+01</td>\n",
       "      <td>2.213333e+02</td>\n",
       "    </tr>\n",
       "    <tr>\n",
       "      <th>50%</th>\n",
       "      <td>1.579286e+02</td>\n",
       "      <td>6.571400</td>\n",
       "      <td>4.583000e+03</td>\n",
       "      <td>479.000000</td>\n",
       "      <td>2.150000e+02</td>\n",
       "      <td>1.050000e+02</td>\n",
       "      <td>6.073333e+02</td>\n",
       "    </tr>\n",
       "    <tr>\n",
       "      <th>75%</th>\n",
       "      <td>3.745000e+02</td>\n",
       "      <td>14.800000</td>\n",
       "      <td>1.626000e+04</td>\n",
       "      <td>1105.000000</td>\n",
       "      <td>5.460000e+02</td>\n",
       "      <td>2.400000e+02</td>\n",
       "      <td>2.072500e+03</td>\n",
       "    </tr>\n",
       "    <tr>\n",
       "      <th>max</th>\n",
       "      <td>1.629037e+06</td>\n",
       "      <td>242543.187500</td>\n",
       "      <td>2.316562e+08</td>\n",
       "      <td>140014.000000</td>\n",
       "      <td>2.068986e+06</td>\n",
       "      <td>1.279511e+06</td>\n",
       "      <td>1.283367e+07</td>\n",
       "    </tr>\n",
       "  </tbody>\n",
       "</table>\n",
       "</div>"
      ],
      "text/plain": [
       "          avg_likes   avg_comments  avg_followers      avg_posts  \\\n",
       "count  1.147810e+05  114781.000000   1.147810e+05  114781.000000   \n",
       "mean   8.980949e+02      27.756262   6.016005e+04     995.570356   \n",
       "std    1.063233e+04     774.559009   1.115905e+06    1927.328265   \n",
       "min    1.000000e+00       0.000000   3.000000e+00       1.000000   \n",
       "25%    7.966670e+01       2.833300   1.384000e+03     194.000000   \n",
       "50%    1.579286e+02       6.571400   4.583000e+03     479.000000   \n",
       "75%    3.745000e+02      14.800000   1.626000e+04    1105.000000   \n",
       "max    1.629037e+06  242543.187500   2.316562e+08  140014.000000   \n",
       "\n",
       "          max_likes     min_likes     avg_views  \n",
       "count  1.147810e+05  1.147810e+05  1.147810e+05  \n",
       "mean   1.365752e+03  5.694098e+02  7.276758e+03  \n",
       "std    1.490799e+04  7.615014e+03  7.385628e+04  \n",
       "min    1.000000e+00  1.000000e+00  1.500000e+00  \n",
       "25%    1.080000e+02  4.800000e+01  2.213333e+02  \n",
       "50%    2.150000e+02  1.050000e+02  6.073333e+02  \n",
       "75%    5.460000e+02  2.400000e+02  2.072500e+03  \n",
       "max    2.068986e+06  1.279511e+06  1.283367e+07  "
      ]
     },
     "execution_count": 6,
     "metadata": {},
     "output_type": "execute_result"
    }
   ],
   "source": [
    "usersData.describe()"
   ]
  },
  {
   "cell_type": "code",
   "execution_count": 7,
   "metadata": {},
   "outputs": [
    {
     "data": {
      "text/plain": [
       "(1422894, 2)"
      ]
     },
     "metadata": {},
     "output_type": "display_data"
    },
    {
     "data": {
      "text/html": [
       "<div>\n",
       "<style scoped>\n",
       "    .dataframe tbody tr th:only-of-type {\n",
       "        vertical-align: middle;\n",
       "    }\n",
       "\n",
       "    .dataframe tbody tr th {\n",
       "        vertical-align: top;\n",
       "    }\n",
       "\n",
       "    .dataframe thead th {\n",
       "        text-align: right;\n",
       "    }\n",
       "</style>\n",
       "<table border=\"1\" class=\"dataframe\">\n",
       "  <thead>\n",
       "    <tr style=\"text-align: right;\">\n",
       "      <th></th>\n",
       "      <th>followers</th>\n",
       "      <th>views</th>\n",
       "    </tr>\n",
       "  </thead>\n",
       "  <tbody>\n",
       "    <tr>\n",
       "      <th>0</th>\n",
       "      <td>13178</td>\n",
       "      <td>250</td>\n",
       "    </tr>\n",
       "    <tr>\n",
       "      <th>1</th>\n",
       "      <td>13178</td>\n",
       "      <td>604</td>\n",
       "    </tr>\n",
       "    <tr>\n",
       "      <th>2</th>\n",
       "      <td>13178</td>\n",
       "      <td>239</td>\n",
       "    </tr>\n",
       "    <tr>\n",
       "      <th>3</th>\n",
       "      <td>13178</td>\n",
       "      <td>858</td>\n",
       "    </tr>\n",
       "    <tr>\n",
       "      <th>4</th>\n",
       "      <td>13178</td>\n",
       "      <td>271</td>\n",
       "    </tr>\n",
       "    <tr>\n",
       "      <th>5</th>\n",
       "      <td>13178</td>\n",
       "      <td>317</td>\n",
       "    </tr>\n",
       "    <tr>\n",
       "      <th>6</th>\n",
       "      <td>13178</td>\n",
       "      <td>318</td>\n",
       "    </tr>\n",
       "    <tr>\n",
       "      <th>7</th>\n",
       "      <td>13178</td>\n",
       "      <td>126</td>\n",
       "    </tr>\n",
       "    <tr>\n",
       "      <th>8</th>\n",
       "      <td>4228</td>\n",
       "      <td>372</td>\n",
       "    </tr>\n",
       "    <tr>\n",
       "      <th>9</th>\n",
       "      <td>4228</td>\n",
       "      <td>404</td>\n",
       "    </tr>\n",
       "    <tr>\n",
       "      <th>10</th>\n",
       "      <td>4228</td>\n",
       "      <td>296</td>\n",
       "    </tr>\n",
       "    <tr>\n",
       "      <th>11</th>\n",
       "      <td>4228</td>\n",
       "      <td>313</td>\n",
       "    </tr>\n",
       "    <tr>\n",
       "      <th>12</th>\n",
       "      <td>4228</td>\n",
       "      <td>286</td>\n",
       "    </tr>\n",
       "    <tr>\n",
       "      <th>13</th>\n",
       "      <td>4228</td>\n",
       "      <td>264</td>\n",
       "    </tr>\n",
       "    <tr>\n",
       "      <th>14</th>\n",
       "      <td>4228</td>\n",
       "      <td>182</td>\n",
       "    </tr>\n",
       "    <tr>\n",
       "      <th>15</th>\n",
       "      <td>4228</td>\n",
       "      <td>328</td>\n",
       "    </tr>\n",
       "    <tr>\n",
       "      <th>16</th>\n",
       "      <td>4228</td>\n",
       "      <td>285</td>\n",
       "    </tr>\n",
       "    <tr>\n",
       "      <th>17</th>\n",
       "      <td>4228</td>\n",
       "      <td>234</td>\n",
       "    </tr>\n",
       "    <tr>\n",
       "      <th>18</th>\n",
       "      <td>4228</td>\n",
       "      <td>347</td>\n",
       "    </tr>\n",
       "    <tr>\n",
       "      <th>19</th>\n",
       "      <td>4228</td>\n",
       "      <td>350</td>\n",
       "    </tr>\n",
       "  </tbody>\n",
       "</table>\n",
       "</div>"
      ],
      "text/plain": [
       "    followers  views\n",
       "0       13178    250\n",
       "1       13178    604\n",
       "2       13178    239\n",
       "3       13178    858\n",
       "4       13178    271\n",
       "5       13178    317\n",
       "6       13178    318\n",
       "7       13178    126\n",
       "8        4228    372\n",
       "9        4228    404\n",
       "10       4228    296\n",
       "11       4228    313\n",
       "12       4228    286\n",
       "13       4228    264\n",
       "14       4228    182\n",
       "15       4228    328\n",
       "16       4228    285\n",
       "17       4228    234\n",
       "18       4228    347\n",
       "19       4228    350"
      ]
     },
     "execution_count": 7,
     "metadata": {},
     "output_type": "execute_result"
    }
   ],
   "source": [
    "followers_views = pd.read_csv('instagram_data/followers_views.csv', sep=',')\n",
    "display(followers_views.shape)\n",
    "followers_views.head(20)"
   ]
  },
  {
   "cell_type": "code",
   "execution_count": 8,
   "metadata": {},
   "outputs": [
    {
     "data": {
      "text/html": [
       "<div>\n",
       "<style scoped>\n",
       "    .dataframe tbody tr th:only-of-type {\n",
       "        vertical-align: middle;\n",
       "    }\n",
       "\n",
       "    .dataframe tbody tr th {\n",
       "        vertical-align: top;\n",
       "    }\n",
       "\n",
       "    .dataframe thead th {\n",
       "        text-align: right;\n",
       "    }\n",
       "</style>\n",
       "<table border=\"1\" class=\"dataframe\">\n",
       "  <thead>\n",
       "    <tr style=\"text-align: right;\">\n",
       "      <th></th>\n",
       "      <th>followers</th>\n",
       "      <th>views</th>\n",
       "    </tr>\n",
       "  </thead>\n",
       "  <tbody>\n",
       "    <tr>\n",
       "      <th>226</th>\n",
       "      <td>11592</td>\n",
       "      <td>20880</td>\n",
       "    </tr>\n",
       "    <tr>\n",
       "      <th>244</th>\n",
       "      <td>6693</td>\n",
       "      <td>12449</td>\n",
       "    </tr>\n",
       "    <tr>\n",
       "      <th>245</th>\n",
       "      <td>6693</td>\n",
       "      <td>7031</td>\n",
       "    </tr>\n",
       "    <tr>\n",
       "      <th>365</th>\n",
       "      <td>19985</td>\n",
       "      <td>23627</td>\n",
       "    </tr>\n",
       "    <tr>\n",
       "      <th>468</th>\n",
       "      <td>41142</td>\n",
       "      <td>69495</td>\n",
       "    </tr>\n",
       "    <tr>\n",
       "      <th>469</th>\n",
       "      <td>41142</td>\n",
       "      <td>55574</td>\n",
       "    </tr>\n",
       "    <tr>\n",
       "      <th>870</th>\n",
       "      <td>481</td>\n",
       "      <td>971</td>\n",
       "    </tr>\n",
       "    <tr>\n",
       "      <th>871</th>\n",
       "      <td>481</td>\n",
       "      <td>882</td>\n",
       "    </tr>\n",
       "    <tr>\n",
       "      <th>872</th>\n",
       "      <td>481</td>\n",
       "      <td>993</td>\n",
       "    </tr>\n",
       "    <tr>\n",
       "      <th>883</th>\n",
       "      <td>1089</td>\n",
       "      <td>1363</td>\n",
       "    </tr>\n",
       "    <tr>\n",
       "      <th>886</th>\n",
       "      <td>1089</td>\n",
       "      <td>1201</td>\n",
       "    </tr>\n",
       "    <tr>\n",
       "      <th>888</th>\n",
       "      <td>1089</td>\n",
       "      <td>1094</td>\n",
       "    </tr>\n",
       "    <tr>\n",
       "      <th>905</th>\n",
       "      <td>460</td>\n",
       "      <td>621</td>\n",
       "    </tr>\n",
       "    <tr>\n",
       "      <th>910</th>\n",
       "      <td>460</td>\n",
       "      <td>889</td>\n",
       "    </tr>\n",
       "    <tr>\n",
       "      <th>975</th>\n",
       "      <td>819</td>\n",
       "      <td>866</td>\n",
       "    </tr>\n",
       "    <tr>\n",
       "      <th>977</th>\n",
       "      <td>819</td>\n",
       "      <td>1162</td>\n",
       "    </tr>\n",
       "    <tr>\n",
       "      <th>979</th>\n",
       "      <td>819</td>\n",
       "      <td>1228</td>\n",
       "    </tr>\n",
       "    <tr>\n",
       "      <th>980</th>\n",
       "      <td>819</td>\n",
       "      <td>1379</td>\n",
       "    </tr>\n",
       "    <tr>\n",
       "      <th>985</th>\n",
       "      <td>819</td>\n",
       "      <td>1241</td>\n",
       "    </tr>\n",
       "    <tr>\n",
       "      <th>1031</th>\n",
       "      <td>475</td>\n",
       "      <td>552</td>\n",
       "    </tr>\n",
       "    <tr>\n",
       "      <th>1034</th>\n",
       "      <td>475</td>\n",
       "      <td>512</td>\n",
       "    </tr>\n",
       "    <tr>\n",
       "      <th>1122</th>\n",
       "      <td>986</td>\n",
       "      <td>2215</td>\n",
       "    </tr>\n",
       "    <tr>\n",
       "      <th>1123</th>\n",
       "      <td>986</td>\n",
       "      <td>1197</td>\n",
       "    </tr>\n",
       "    <tr>\n",
       "      <th>1124</th>\n",
       "      <td>986</td>\n",
       "      <td>2081</td>\n",
       "    </tr>\n",
       "    <tr>\n",
       "      <th>1155</th>\n",
       "      <td>8311</td>\n",
       "      <td>11034</td>\n",
       "    </tr>\n",
       "    <tr>\n",
       "      <th>1157</th>\n",
       "      <td>8311</td>\n",
       "      <td>22226</td>\n",
       "    </tr>\n",
       "    <tr>\n",
       "      <th>1159</th>\n",
       "      <td>8311</td>\n",
       "      <td>14750</td>\n",
       "    </tr>\n",
       "    <tr>\n",
       "      <th>1161</th>\n",
       "      <td>8311</td>\n",
       "      <td>20376</td>\n",
       "    </tr>\n",
       "    <tr>\n",
       "      <th>1164</th>\n",
       "      <td>8311</td>\n",
       "      <td>14477</td>\n",
       "    </tr>\n",
       "    <tr>\n",
       "      <th>1281</th>\n",
       "      <td>6644</td>\n",
       "      <td>9394</td>\n",
       "    </tr>\n",
       "    <tr>\n",
       "      <th>...</th>\n",
       "      <td>...</td>\n",
       "      <td>...</td>\n",
       "    </tr>\n",
       "    <tr>\n",
       "      <th>1422672</th>\n",
       "      <td>97</td>\n",
       "      <td>501</td>\n",
       "    </tr>\n",
       "    <tr>\n",
       "      <th>1422673</th>\n",
       "      <td>97</td>\n",
       "      <td>316</td>\n",
       "    </tr>\n",
       "    <tr>\n",
       "      <th>1422674</th>\n",
       "      <td>97</td>\n",
       "      <td>605</td>\n",
       "    </tr>\n",
       "    <tr>\n",
       "      <th>1422675</th>\n",
       "      <td>97</td>\n",
       "      <td>425</td>\n",
       "    </tr>\n",
       "    <tr>\n",
       "      <th>1422676</th>\n",
       "      <td>97</td>\n",
       "      <td>425</td>\n",
       "    </tr>\n",
       "    <tr>\n",
       "      <th>1422677</th>\n",
       "      <td>97</td>\n",
       "      <td>480</td>\n",
       "    </tr>\n",
       "    <tr>\n",
       "      <th>1422678</th>\n",
       "      <td>97</td>\n",
       "      <td>659</td>\n",
       "    </tr>\n",
       "    <tr>\n",
       "      <th>1422679</th>\n",
       "      <td>97</td>\n",
       "      <td>146</td>\n",
       "    </tr>\n",
       "    <tr>\n",
       "      <th>1422686</th>\n",
       "      <td>14</td>\n",
       "      <td>20</td>\n",
       "    </tr>\n",
       "    <tr>\n",
       "      <th>1422687</th>\n",
       "      <td>14</td>\n",
       "      <td>16</td>\n",
       "    </tr>\n",
       "    <tr>\n",
       "      <th>1422689</th>\n",
       "      <td>14</td>\n",
       "      <td>26</td>\n",
       "    </tr>\n",
       "    <tr>\n",
       "      <th>1422723</th>\n",
       "      <td>113</td>\n",
       "      <td>124</td>\n",
       "    </tr>\n",
       "    <tr>\n",
       "      <th>1422724</th>\n",
       "      <td>113</td>\n",
       "      <td>117</td>\n",
       "    </tr>\n",
       "    <tr>\n",
       "      <th>1422725</th>\n",
       "      <td>113</td>\n",
       "      <td>120</td>\n",
       "    </tr>\n",
       "    <tr>\n",
       "      <th>1422753</th>\n",
       "      <td>2298</td>\n",
       "      <td>3004</td>\n",
       "    </tr>\n",
       "    <tr>\n",
       "      <th>1422754</th>\n",
       "      <td>2298</td>\n",
       "      <td>3182</td>\n",
       "    </tr>\n",
       "    <tr>\n",
       "      <th>1422779</th>\n",
       "      <td>1248</td>\n",
       "      <td>32049</td>\n",
       "    </tr>\n",
       "    <tr>\n",
       "      <th>1422780</th>\n",
       "      <td>1248</td>\n",
       "      <td>3851</td>\n",
       "    </tr>\n",
       "    <tr>\n",
       "      <th>1422781</th>\n",
       "      <td>1248</td>\n",
       "      <td>2838</td>\n",
       "    </tr>\n",
       "    <tr>\n",
       "      <th>1422782</th>\n",
       "      <td>1248</td>\n",
       "      <td>18004</td>\n",
       "    </tr>\n",
       "    <tr>\n",
       "      <th>1422783</th>\n",
       "      <td>1248</td>\n",
       "      <td>87531</td>\n",
       "    </tr>\n",
       "    <tr>\n",
       "      <th>1422784</th>\n",
       "      <td>1248</td>\n",
       "      <td>8343</td>\n",
       "    </tr>\n",
       "    <tr>\n",
       "      <th>1422785</th>\n",
       "      <td>1248</td>\n",
       "      <td>2948</td>\n",
       "    </tr>\n",
       "    <tr>\n",
       "      <th>1422786</th>\n",
       "      <td>1248</td>\n",
       "      <td>26884</td>\n",
       "    </tr>\n",
       "    <tr>\n",
       "      <th>1422798</th>\n",
       "      <td>103</td>\n",
       "      <td>1334</td>\n",
       "    </tr>\n",
       "    <tr>\n",
       "      <th>1422799</th>\n",
       "      <td>103</td>\n",
       "      <td>364</td>\n",
       "    </tr>\n",
       "    <tr>\n",
       "      <th>1422800</th>\n",
       "      <td>103</td>\n",
       "      <td>207</td>\n",
       "    </tr>\n",
       "    <tr>\n",
       "      <th>1422801</th>\n",
       "      <td>103</td>\n",
       "      <td>214</td>\n",
       "    </tr>\n",
       "    <tr>\n",
       "      <th>1422887</th>\n",
       "      <td>27493</td>\n",
       "      <td>95484</td>\n",
       "    </tr>\n",
       "    <tr>\n",
       "      <th>1422889</th>\n",
       "      <td>27493</td>\n",
       "      <td>54348</td>\n",
       "    </tr>\n",
       "  </tbody>\n",
       "</table>\n",
       "<p>112063 rows × 2 columns</p>\n",
       "</div>"
      ],
      "text/plain": [
       "         followers  views\n",
       "226          11592  20880\n",
       "244           6693  12449\n",
       "245           6693   7031\n",
       "365          19985  23627\n",
       "468          41142  69495\n",
       "469          41142  55574\n",
       "870            481    971\n",
       "871            481    882\n",
       "872            481    993\n",
       "883           1089   1363\n",
       "886           1089   1201\n",
       "888           1089   1094\n",
       "905            460    621\n",
       "910            460    889\n",
       "975            819    866\n",
       "977            819   1162\n",
       "979            819   1228\n",
       "980            819   1379\n",
       "985            819   1241\n",
       "1031           475    552\n",
       "1034           475    512\n",
       "1122           986   2215\n",
       "1123           986   1197\n",
       "1124           986   2081\n",
       "1155          8311  11034\n",
       "1157          8311  22226\n",
       "1159          8311  14750\n",
       "1161          8311  20376\n",
       "1164          8311  14477\n",
       "1281          6644   9394\n",
       "...            ...    ...\n",
       "1422672         97    501\n",
       "1422673         97    316\n",
       "1422674         97    605\n",
       "1422675         97    425\n",
       "1422676         97    425\n",
       "1422677         97    480\n",
       "1422678         97    659\n",
       "1422679         97    146\n",
       "1422686         14     20\n",
       "1422687         14     16\n",
       "1422689         14     26\n",
       "1422723        113    124\n",
       "1422724        113    117\n",
       "1422725        113    120\n",
       "1422753       2298   3004\n",
       "1422754       2298   3182\n",
       "1422779       1248  32049\n",
       "1422780       1248   3851\n",
       "1422781       1248   2838\n",
       "1422782       1248  18004\n",
       "1422783       1248  87531\n",
       "1422784       1248   8343\n",
       "1422785       1248   2948\n",
       "1422786       1248  26884\n",
       "1422798        103   1334\n",
       "1422799        103    364\n",
       "1422800        103    207\n",
       "1422801        103    214\n",
       "1422887      27493  95484\n",
       "1422889      27493  54348\n",
       "\n",
       "[112063 rows x 2 columns]"
      ]
     },
     "execution_count": 8,
     "metadata": {},
     "output_type": "execute_result"
    }
   ],
   "source": [
    "followers_views[followers_views.followers<followers_views.views]"
   ]
  },
  {
   "cell_type": "code",
   "execution_count": 9,
   "metadata": {},
   "outputs": [
    {
     "data": {
      "text/html": [
       "<div>\n",
       "<style scoped>\n",
       "    .dataframe tbody tr th:only-of-type {\n",
       "        vertical-align: middle;\n",
       "    }\n",
       "\n",
       "    .dataframe tbody tr th {\n",
       "        vertical-align: top;\n",
       "    }\n",
       "\n",
       "    .dataframe thead th {\n",
       "        text-align: right;\n",
       "    }\n",
       "</style>\n",
       "<table border=\"1\" class=\"dataframe\">\n",
       "  <thead>\n",
       "    <tr style=\"text-align: right;\">\n",
       "      <th></th>\n",
       "      <th>followers</th>\n",
       "      <th>views</th>\n",
       "    </tr>\n",
       "  </thead>\n",
       "  <tbody>\n",
       "    <tr>\n",
       "      <th>count</th>\n",
       "      <td>1.422894e+06</td>\n",
       "      <td>1.422894e+06</td>\n",
       "    </tr>\n",
       "    <tr>\n",
       "      <th>mean</th>\n",
       "      <td>1.019482e+05</td>\n",
       "      <td>1.697887e+04</td>\n",
       "    </tr>\n",
       "    <tr>\n",
       "      <th>std</th>\n",
       "      <td>1.426782e+06</td>\n",
       "      <td>3.572234e+05</td>\n",
       "    </tr>\n",
       "    <tr>\n",
       "      <th>min</th>\n",
       "      <td>0.000000e+00</td>\n",
       "      <td>1.000000e+00</td>\n",
       "    </tr>\n",
       "    <tr>\n",
       "      <th>25%</th>\n",
       "      <td>1.786000e+03</td>\n",
       "      <td>2.620000e+02</td>\n",
       "    </tr>\n",
       "    <tr>\n",
       "      <th>50%</th>\n",
       "      <td>6.393000e+03</td>\n",
       "      <td>8.350000e+02</td>\n",
       "    </tr>\n",
       "    <tr>\n",
       "      <th>75%</th>\n",
       "      <td>2.342400e+04</td>\n",
       "      <td>3.814000e+03</td>\n",
       "    </tr>\n",
       "    <tr>\n",
       "      <th>max</th>\n",
       "      <td>2.312398e+08</td>\n",
       "      <td>2.825005e+08</td>\n",
       "    </tr>\n",
       "  </tbody>\n",
       "</table>\n",
       "</div>"
      ],
      "text/plain": [
       "          followers         views\n",
       "count  1.422894e+06  1.422894e+06\n",
       "mean   1.019482e+05  1.697887e+04\n",
       "std    1.426782e+06  3.572234e+05\n",
       "min    0.000000e+00  1.000000e+00\n",
       "25%    1.786000e+03  2.620000e+02\n",
       "50%    6.393000e+03  8.350000e+02\n",
       "75%    2.342400e+04  3.814000e+03\n",
       "max    2.312398e+08  2.825005e+08"
      ]
     },
     "execution_count": 9,
     "metadata": {},
     "output_type": "execute_result"
    }
   ],
   "source": [
    "followers_views.describe()"
   ]
  },
  {
   "cell_type": "code",
   "execution_count": 10,
   "metadata": {},
   "outputs": [
    {
     "data": {
      "text/plain": [
       "(1426188, 2)"
      ]
     },
     "metadata": {},
     "output_type": "display_data"
    },
    {
     "data": {
      "text/html": [
       "<div>\n",
       "<style scoped>\n",
       "    .dataframe tbody tr th:only-of-type {\n",
       "        vertical-align: middle;\n",
       "    }\n",
       "\n",
       "    .dataframe tbody tr th {\n",
       "        vertical-align: top;\n",
       "    }\n",
       "\n",
       "    .dataframe thead th {\n",
       "        text-align: right;\n",
       "    }\n",
       "</style>\n",
       "<table border=\"1\" class=\"dataframe\">\n",
       "  <thead>\n",
       "    <tr style=\"text-align: right;\">\n",
       "      <th></th>\n",
       "      <th>likes</th>\n",
       "      <th>views</th>\n",
       "    </tr>\n",
       "  </thead>\n",
       "  <tbody>\n",
       "    <tr>\n",
       "      <th>0</th>\n",
       "      <td>98</td>\n",
       "      <td>250</td>\n",
       "    </tr>\n",
       "    <tr>\n",
       "      <th>1</th>\n",
       "      <td>100</td>\n",
       "      <td>604</td>\n",
       "    </tr>\n",
       "    <tr>\n",
       "      <th>2</th>\n",
       "      <td>109</td>\n",
       "      <td>239</td>\n",
       "    </tr>\n",
       "    <tr>\n",
       "      <th>3</th>\n",
       "      <td>103</td>\n",
       "      <td>858</td>\n",
       "    </tr>\n",
       "    <tr>\n",
       "      <th>4</th>\n",
       "      <td>106</td>\n",
       "      <td>271</td>\n",
       "    </tr>\n",
       "    <tr>\n",
       "      <th>5</th>\n",
       "      <td>59</td>\n",
       "      <td>317</td>\n",
       "    </tr>\n",
       "    <tr>\n",
       "      <th>6</th>\n",
       "      <td>113</td>\n",
       "      <td>318</td>\n",
       "    </tr>\n",
       "    <tr>\n",
       "      <th>7</th>\n",
       "      <td>57</td>\n",
       "      <td>126</td>\n",
       "    </tr>\n",
       "    <tr>\n",
       "      <th>8</th>\n",
       "      <td>172</td>\n",
       "      <td>372</td>\n",
       "    </tr>\n",
       "    <tr>\n",
       "      <th>9</th>\n",
       "      <td>87</td>\n",
       "      <td>404</td>\n",
       "    </tr>\n",
       "    <tr>\n",
       "      <th>10</th>\n",
       "      <td>39</td>\n",
       "      <td>296</td>\n",
       "    </tr>\n",
       "    <tr>\n",
       "      <th>11</th>\n",
       "      <td>56</td>\n",
       "      <td>313</td>\n",
       "    </tr>\n",
       "    <tr>\n",
       "      <th>12</th>\n",
       "      <td>137</td>\n",
       "      <td>286</td>\n",
       "    </tr>\n",
       "    <tr>\n",
       "      <th>13</th>\n",
       "      <td>108</td>\n",
       "      <td>264</td>\n",
       "    </tr>\n",
       "    <tr>\n",
       "      <th>14</th>\n",
       "      <td>55</td>\n",
       "      <td>182</td>\n",
       "    </tr>\n",
       "    <tr>\n",
       "      <th>15</th>\n",
       "      <td>59</td>\n",
       "      <td>328</td>\n",
       "    </tr>\n",
       "    <tr>\n",
       "      <th>16</th>\n",
       "      <td>60</td>\n",
       "      <td>285</td>\n",
       "    </tr>\n",
       "    <tr>\n",
       "      <th>17</th>\n",
       "      <td>68</td>\n",
       "      <td>234</td>\n",
       "    </tr>\n",
       "    <tr>\n",
       "      <th>18</th>\n",
       "      <td>103</td>\n",
       "      <td>347</td>\n",
       "    </tr>\n",
       "    <tr>\n",
       "      <th>19</th>\n",
       "      <td>179</td>\n",
       "      <td>350</td>\n",
       "    </tr>\n",
       "  </tbody>\n",
       "</table>\n",
       "</div>"
      ],
      "text/plain": [
       "    likes  views\n",
       "0      98    250\n",
       "1     100    604\n",
       "2     109    239\n",
       "3     103    858\n",
       "4     106    271\n",
       "5      59    317\n",
       "6     113    318\n",
       "7      57    126\n",
       "8     172    372\n",
       "9      87    404\n",
       "10     39    296\n",
       "11     56    313\n",
       "12    137    286\n",
       "13    108    264\n",
       "14     55    182\n",
       "15     59    328\n",
       "16     60    285\n",
       "17     68    234\n",
       "18    103    347\n",
       "19    179    350"
      ]
     },
     "execution_count": 10,
     "metadata": {},
     "output_type": "execute_result"
    }
   ],
   "source": [
    "likes_views = pd.read_csv('instagram_data/likes_views.csv', sep=',')\n",
    "display(likes_views.shape)\n",
    "likes_views.head(20)"
   ]
  },
  {
   "cell_type": "code",
   "execution_count": 11,
   "metadata": {},
   "outputs": [
    {
     "data": {
      "text/html": [
       "<div>\n",
       "<style scoped>\n",
       "    .dataframe tbody tr th:only-of-type {\n",
       "        vertical-align: middle;\n",
       "    }\n",
       "\n",
       "    .dataframe tbody tr th {\n",
       "        vertical-align: top;\n",
       "    }\n",
       "\n",
       "    .dataframe thead th {\n",
       "        text-align: right;\n",
       "    }\n",
       "</style>\n",
       "<table border=\"1\" class=\"dataframe\">\n",
       "  <thead>\n",
       "    <tr style=\"text-align: right;\">\n",
       "      <th></th>\n",
       "      <th>likes</th>\n",
       "      <th>views</th>\n",
       "    </tr>\n",
       "  </thead>\n",
       "  <tbody>\n",
       "    <tr>\n",
       "      <th>308</th>\n",
       "      <td>105</td>\n",
       "      <td>3</td>\n",
       "    </tr>\n",
       "    <tr>\n",
       "      <th>330</th>\n",
       "      <td>129</td>\n",
       "      <td>122</td>\n",
       "    </tr>\n",
       "    <tr>\n",
       "      <th>574</th>\n",
       "      <td>127</td>\n",
       "      <td>68</td>\n",
       "    </tr>\n",
       "    <tr>\n",
       "      <th>575</th>\n",
       "      <td>139</td>\n",
       "      <td>75</td>\n",
       "    </tr>\n",
       "    <tr>\n",
       "      <th>576</th>\n",
       "      <td>123</td>\n",
       "      <td>121</td>\n",
       "    </tr>\n",
       "    <tr>\n",
       "      <th>578</th>\n",
       "      <td>125</td>\n",
       "      <td>49</td>\n",
       "    </tr>\n",
       "    <tr>\n",
       "      <th>612</th>\n",
       "      <td>30</td>\n",
       "      <td>1</td>\n",
       "    </tr>\n",
       "    <tr>\n",
       "      <th>700</th>\n",
       "      <td>61</td>\n",
       "      <td>60</td>\n",
       "    </tr>\n",
       "    <tr>\n",
       "      <th>719</th>\n",
       "      <td>53</td>\n",
       "      <td>12</td>\n",
       "    </tr>\n",
       "    <tr>\n",
       "      <th>724</th>\n",
       "      <td>13</td>\n",
       "      <td>4</td>\n",
       "    </tr>\n",
       "    <tr>\n",
       "      <th>732</th>\n",
       "      <td>8</td>\n",
       "      <td>6</td>\n",
       "    </tr>\n",
       "    <tr>\n",
       "      <th>733</th>\n",
       "      <td>13</td>\n",
       "      <td>12</td>\n",
       "    </tr>\n",
       "    <tr>\n",
       "      <th>821</th>\n",
       "      <td>31</td>\n",
       "      <td>20</td>\n",
       "    </tr>\n",
       "    <tr>\n",
       "      <th>907</th>\n",
       "      <td>102</td>\n",
       "      <td>22</td>\n",
       "    </tr>\n",
       "    <tr>\n",
       "      <th>914</th>\n",
       "      <td>60</td>\n",
       "      <td>47</td>\n",
       "    </tr>\n",
       "    <tr>\n",
       "      <th>932</th>\n",
       "      <td>57</td>\n",
       "      <td>38</td>\n",
       "    </tr>\n",
       "    <tr>\n",
       "      <th>986</th>\n",
       "      <td>120</td>\n",
       "      <td>54</td>\n",
       "    </tr>\n",
       "    <tr>\n",
       "      <th>987</th>\n",
       "      <td>122</td>\n",
       "      <td>46</td>\n",
       "    </tr>\n",
       "    <tr>\n",
       "      <th>1014</th>\n",
       "      <td>135</td>\n",
       "      <td>88</td>\n",
       "    </tr>\n",
       "    <tr>\n",
       "      <th>1023</th>\n",
       "      <td>76</td>\n",
       "      <td>73</td>\n",
       "    </tr>\n",
       "    <tr>\n",
       "      <th>1024</th>\n",
       "      <td>96</td>\n",
       "      <td>57</td>\n",
       "    </tr>\n",
       "    <tr>\n",
       "      <th>1025</th>\n",
       "      <td>74</td>\n",
       "      <td>58</td>\n",
       "    </tr>\n",
       "    <tr>\n",
       "      <th>1026</th>\n",
       "      <td>84</td>\n",
       "      <td>74</td>\n",
       "    </tr>\n",
       "    <tr>\n",
       "      <th>1028</th>\n",
       "      <td>77</td>\n",
       "      <td>60</td>\n",
       "    </tr>\n",
       "    <tr>\n",
       "      <th>1051</th>\n",
       "      <td>992</td>\n",
       "      <td>519</td>\n",
       "    </tr>\n",
       "    <tr>\n",
       "      <th>1069</th>\n",
       "      <td>66</td>\n",
       "      <td>21</td>\n",
       "    </tr>\n",
       "    <tr>\n",
       "      <th>1360</th>\n",
       "      <td>162</td>\n",
       "      <td>32</td>\n",
       "    </tr>\n",
       "    <tr>\n",
       "      <th>1361</th>\n",
       "      <td>270</td>\n",
       "      <td>55</td>\n",
       "    </tr>\n",
       "    <tr>\n",
       "      <th>1362</th>\n",
       "      <td>228</td>\n",
       "      <td>133</td>\n",
       "    </tr>\n",
       "    <tr>\n",
       "      <th>1860</th>\n",
       "      <td>178</td>\n",
       "      <td>149</td>\n",
       "    </tr>\n",
       "    <tr>\n",
       "      <th>...</th>\n",
       "      <td>...</td>\n",
       "      <td>...</td>\n",
       "    </tr>\n",
       "    <tr>\n",
       "      <th>1426151</th>\n",
       "      <td>64</td>\n",
       "      <td>31</td>\n",
       "    </tr>\n",
       "    <tr>\n",
       "      <th>1426152</th>\n",
       "      <td>62</td>\n",
       "      <td>17</td>\n",
       "    </tr>\n",
       "    <tr>\n",
       "      <th>1426153</th>\n",
       "      <td>118</td>\n",
       "      <td>23</td>\n",
       "    </tr>\n",
       "    <tr>\n",
       "      <th>1426154</th>\n",
       "      <td>51</td>\n",
       "      <td>26</td>\n",
       "    </tr>\n",
       "    <tr>\n",
       "      <th>1426155</th>\n",
       "      <td>48</td>\n",
       "      <td>7</td>\n",
       "    </tr>\n",
       "    <tr>\n",
       "      <th>1426156</th>\n",
       "      <td>48</td>\n",
       "      <td>8</td>\n",
       "    </tr>\n",
       "    <tr>\n",
       "      <th>1426157</th>\n",
       "      <td>45</td>\n",
       "      <td>9</td>\n",
       "    </tr>\n",
       "    <tr>\n",
       "      <th>1426158</th>\n",
       "      <td>49</td>\n",
       "      <td>6</td>\n",
       "    </tr>\n",
       "    <tr>\n",
       "      <th>1426159</th>\n",
       "      <td>47</td>\n",
       "      <td>12</td>\n",
       "    </tr>\n",
       "    <tr>\n",
       "      <th>1426160</th>\n",
       "      <td>44</td>\n",
       "      <td>9</td>\n",
       "    </tr>\n",
       "    <tr>\n",
       "      <th>1426161</th>\n",
       "      <td>48</td>\n",
       "      <td>9</td>\n",
       "    </tr>\n",
       "    <tr>\n",
       "      <th>1426162</th>\n",
       "      <td>52</td>\n",
       "      <td>10</td>\n",
       "    </tr>\n",
       "    <tr>\n",
       "      <th>1426163</th>\n",
       "      <td>43</td>\n",
       "      <td>7</td>\n",
       "    </tr>\n",
       "    <tr>\n",
       "      <th>1426164</th>\n",
       "      <td>44</td>\n",
       "      <td>26</td>\n",
       "    </tr>\n",
       "    <tr>\n",
       "      <th>1426165</th>\n",
       "      <td>47</td>\n",
       "      <td>10</td>\n",
       "    </tr>\n",
       "    <tr>\n",
       "      <th>1426166</th>\n",
       "      <td>59</td>\n",
       "      <td>11</td>\n",
       "    </tr>\n",
       "    <tr>\n",
       "      <th>1426167</th>\n",
       "      <td>56</td>\n",
       "      <td>7</td>\n",
       "    </tr>\n",
       "    <tr>\n",
       "      <th>1426168</th>\n",
       "      <td>51</td>\n",
       "      <td>5</td>\n",
       "    </tr>\n",
       "    <tr>\n",
       "      <th>1426169</th>\n",
       "      <td>14</td>\n",
       "      <td>4</td>\n",
       "    </tr>\n",
       "    <tr>\n",
       "      <th>1426170</th>\n",
       "      <td>13</td>\n",
       "      <td>6</td>\n",
       "    </tr>\n",
       "    <tr>\n",
       "      <th>1426171</th>\n",
       "      <td>12</td>\n",
       "      <td>3</td>\n",
       "    </tr>\n",
       "    <tr>\n",
       "      <th>1426172</th>\n",
       "      <td>12</td>\n",
       "      <td>8</td>\n",
       "    </tr>\n",
       "    <tr>\n",
       "      <th>1426173</th>\n",
       "      <td>13</td>\n",
       "      <td>2</td>\n",
       "    </tr>\n",
       "    <tr>\n",
       "      <th>1426174</th>\n",
       "      <td>8</td>\n",
       "      <td>3</td>\n",
       "    </tr>\n",
       "    <tr>\n",
       "      <th>1426175</th>\n",
       "      <td>12</td>\n",
       "      <td>9</td>\n",
       "    </tr>\n",
       "    <tr>\n",
       "      <th>1426176</th>\n",
       "      <td>13</td>\n",
       "      <td>5</td>\n",
       "    </tr>\n",
       "    <tr>\n",
       "      <th>1426177</th>\n",
       "      <td>17</td>\n",
       "      <td>5</td>\n",
       "    </tr>\n",
       "    <tr>\n",
       "      <th>1426178</th>\n",
       "      <td>12</td>\n",
       "      <td>5</td>\n",
       "    </tr>\n",
       "    <tr>\n",
       "      <th>1426179</th>\n",
       "      <td>21</td>\n",
       "      <td>12</td>\n",
       "    </tr>\n",
       "    <tr>\n",
       "      <th>1426180</th>\n",
       "      <td>15</td>\n",
       "      <td>6</td>\n",
       "    </tr>\n",
       "  </tbody>\n",
       "</table>\n",
       "<p>86888 rows × 2 columns</p>\n",
       "</div>"
      ],
      "text/plain": [
       "         likes  views\n",
       "308        105      3\n",
       "330        129    122\n",
       "574        127     68\n",
       "575        139     75\n",
       "576        123    121\n",
       "578        125     49\n",
       "612         30      1\n",
       "700         61     60\n",
       "719         53     12\n",
       "724         13      4\n",
       "732          8      6\n",
       "733         13     12\n",
       "821         31     20\n",
       "907        102     22\n",
       "914         60     47\n",
       "932         57     38\n",
       "986        120     54\n",
       "987        122     46\n",
       "1014       135     88\n",
       "1023        76     73\n",
       "1024        96     57\n",
       "1025        74     58\n",
       "1026        84     74\n",
       "1028        77     60\n",
       "1051       992    519\n",
       "1069        66     21\n",
       "1360       162     32\n",
       "1361       270     55\n",
       "1362       228    133\n",
       "1860       178    149\n",
       "...        ...    ...\n",
       "1426151     64     31\n",
       "1426152     62     17\n",
       "1426153    118     23\n",
       "1426154     51     26\n",
       "1426155     48      7\n",
       "1426156     48      8\n",
       "1426157     45      9\n",
       "1426158     49      6\n",
       "1426159     47     12\n",
       "1426160     44      9\n",
       "1426161     48      9\n",
       "1426162     52     10\n",
       "1426163     43      7\n",
       "1426164     44     26\n",
       "1426165     47     10\n",
       "1426166     59     11\n",
       "1426167     56      7\n",
       "1426168     51      5\n",
       "1426169     14      4\n",
       "1426170     13      6\n",
       "1426171     12      3\n",
       "1426172     12      8\n",
       "1426173     13      2\n",
       "1426174      8      3\n",
       "1426175     12      9\n",
       "1426176     13      5\n",
       "1426177     17      5\n",
       "1426178     12      5\n",
       "1426179     21     12\n",
       "1426180     15      6\n",
       "\n",
       "[86888 rows x 2 columns]"
      ]
     },
     "execution_count": 11,
     "metadata": {},
     "output_type": "execute_result"
    }
   ],
   "source": [
    "likes_views[likes_views.likes>likes_views.views]"
   ]
  },
  {
   "cell_type": "code",
   "execution_count": 12,
   "metadata": {},
   "outputs": [
    {
     "data": {
      "text/html": [
       "<div>\n",
       "<style scoped>\n",
       "    .dataframe tbody tr th:only-of-type {\n",
       "        vertical-align: middle;\n",
       "    }\n",
       "\n",
       "    .dataframe tbody tr th {\n",
       "        vertical-align: top;\n",
       "    }\n",
       "\n",
       "    .dataframe thead th {\n",
       "        text-align: right;\n",
       "    }\n",
       "</style>\n",
       "<table border=\"1\" class=\"dataframe\">\n",
       "  <thead>\n",
       "    <tr style=\"text-align: right;\">\n",
       "      <th></th>\n",
       "      <th>likes</th>\n",
       "      <th>views</th>\n",
       "    </tr>\n",
       "  </thead>\n",
       "  <tbody>\n",
       "    <tr>\n",
       "      <th>count</th>\n",
       "      <td>1.426188e+06</td>\n",
       "      <td>1.426188e+06</td>\n",
       "    </tr>\n",
       "    <tr>\n",
       "      <th>mean</th>\n",
       "      <td>1.512143e+03</td>\n",
       "      <td>1.706994e+04</td>\n",
       "    </tr>\n",
       "    <tr>\n",
       "      <th>std</th>\n",
       "      <td>1.306588e+04</td>\n",
       "      <td>3.570242e+05</td>\n",
       "    </tr>\n",
       "    <tr>\n",
       "      <th>min</th>\n",
       "      <td>1.000000e+00</td>\n",
       "      <td>1.000000e+00</td>\n",
       "    </tr>\n",
       "    <tr>\n",
       "      <th>25%</th>\n",
       "      <td>8.900000e+01</td>\n",
       "      <td>2.620000e+02</td>\n",
       "    </tr>\n",
       "    <tr>\n",
       "      <th>50%</th>\n",
       "      <td>1.930000e+02</td>\n",
       "      <td>8.350000e+02</td>\n",
       "    </tr>\n",
       "    <tr>\n",
       "      <th>75%</th>\n",
       "      <td>5.550000e+02</td>\n",
       "      <td>3.820000e+03</td>\n",
       "    </tr>\n",
       "    <tr>\n",
       "      <th>max</th>\n",
       "      <td>2.085029e+06</td>\n",
       "      <td>2.825005e+08</td>\n",
       "    </tr>\n",
       "  </tbody>\n",
       "</table>\n",
       "</div>"
      ],
      "text/plain": [
       "              likes         views\n",
       "count  1.426188e+06  1.426188e+06\n",
       "mean   1.512143e+03  1.706994e+04\n",
       "std    1.306588e+04  3.570242e+05\n",
       "min    1.000000e+00  1.000000e+00\n",
       "25%    8.900000e+01  2.620000e+02\n",
       "50%    1.930000e+02  8.350000e+02\n",
       "75%    5.550000e+02  3.820000e+03\n",
       "max    2.085029e+06  2.825005e+08"
      ]
     },
     "execution_count": 12,
     "metadata": {},
     "output_type": "execute_result"
    }
   ],
   "source": [
    "likes_views.describe()"
   ]
  },
  {
   "cell_type": "markdown",
   "metadata": {},
   "source": [
    "## Plots"
   ]
  },
  {
   "cell_type": "code",
   "execution_count": 13,
   "metadata": {},
   "outputs": [
    {
     "data": {
      "text/plain": [
       "578.2659697898988"
      ]
     },
     "execution_count": 13,
     "metadata": {},
     "output_type": "execute_result"
    }
   ],
   "source": [
    "log_avg_views=[]\n",
    "for i in range(len(usersData['avg_views'])):\n",
    "    log_avg_views.append(math.log((usersData['avg_views'])[i],10))\n",
    "    \n",
    "log_log_avg_views=[]\n",
    "for i in log_avg_views:\n",
    "    log_log_avg_views.append(math.log(i,10))\n",
    "    \n",
    "m = np.mean(log_log_avg_views)\n",
    "n = pow(10,m)\n",
    "res = pow(10,n)\n",
    "res"
   ]
  },
  {
   "cell_type": "code",
   "execution_count": 14,
   "metadata": {},
   "outputs": [
    {
     "data": {
      "image/png": "[encoded data removed]",
      "text/plain": [
       "<Figure size 720x576 with 1 Axes>"
      ]
     },
     "metadata": {},
     "output_type": "display_data"
    }
   ],
   "source": [
    "plt.figure(figsize=(10,8))\n",
    "plt.hist(log_avg_views,bins=120)\n",
    "plt.ylabel('Number of Instagrammers')\n",
    "plt.xlabel('Log Average Views')\n",
    "plt.xscale('log')\n",
    "plt.xlim(0.9,11)\n",
    "plt.axvline(x=n, linestyle = '--', color = 'lawngreen')\n",
    "plt.show()"
   ]
  },
  {
   "cell_type": "code",
   "execution_count": 15,
   "metadata": {},
   "outputs": [
    {
     "data": {
      "image/png": "[encoded data removed]",
      "text/plain": [
       "<Figure size 576x288 with 1 Axes>"
      ]
     },
     "metadata": {},
     "output_type": "display_data"
    }
   ],
   "source": [
    "f = plt.figure() \n",
    "f.set_figwidth(8) \n",
    "f.set_figheight(4) \n",
    "\n",
    "\n",
    "plt.scatter(followers_views['followers'],followers_views['views'],s=3)\n",
    "plt.xlabel('Followers')\n",
    "plt.ylabel('Views')\n",
    "plt.xscale(\"log\")\n",
    "plt.yscale(\"log\")\n",
    "plt.xlim(0.5,1000000000)\n",
    "plt.ylim(0.5,1000000000)\n",
    "x = np.linspace(followers_views['followers'].min(),followers_views['followers'].max(),1000)\n",
    "plt.plot(x,x, c=\"red\")\n",
    "plt.show()"
   ]
  },
  {
   "cell_type": "code",
   "execution_count": 16,
   "metadata": {},
   "outputs": [
    {
     "data": {
      "image/png": "[encoded data removed]",
      "text/plain": [
       "<Figure size 576x288 with 1 Axes>"
      ]
     },
     "metadata": {},
     "output_type": "display_data"
    }
   ],
   "source": [
    "f = plt.figure() \n",
    "f.set_figwidth(8) \n",
    "f.set_figheight(4) \n",
    "\n",
    "plt.scatter(likes_views['likes'],likes_views['views'],s=3)\n",
    "plt.xlabel('Engagements')\n",
    "plt.ylabel('Views')\n",
    "plt.xscale(\"log\")\n",
    "plt.yscale(\"log\")\n",
    "plt.xlim(0.7,500000000)\n",
    "plt.ylim(0.7,500000000)\n",
    "x = np.linspace(likes_views['likes'].min(),likes_views['likes'].max(),1000)\n",
    "plt.plot(x,x, c=\"red\")\n",
    "plt.show()"
   ]
  },
  {
   "cell_type": "markdown",
   "metadata": {},
   "source": [
    "## Univariate Outliers Removal"
   ]
  },
  {
   "cell_type": "code",
   "execution_count": 17,
   "metadata": {},
   "outputs": [],
   "source": [
    "# Wir haben weniger user als im paper angegeben\n",
    "# vielleicht haben wir schon daten ohne outlier\n",
    "# überhaupt müsste man posts removen nicht users oder?\n",
    "# Wir haben für user avgerage statistics wo über posts mitteln oder?\n",
    "# Ja stimmt, außerdem wissen wir ja gar nicht welche views von den Tabellen followers_views und likes_views \n",
    "# zu welchen Usern gehören oder?"
   ]
  },
  {
   "cell_type": "markdown",
   "metadata": {},
   "source": [
    "## Transform Data"
   ]
  },
  {
   "cell_type": "code",
   "execution_count": 18,
   "metadata": {
    "scrolled": true
   },
   "outputs": [
    {
     "data": {
      "text/plain": [
       "avg_likes                4\n",
       "avg_comments             0\n",
       "avg_followers            0\n",
       "like_follow_geom_mean    0\n",
       "follower_post_ratio      0\n",
       "comment_like_ratio       0\n",
       "focus_ratio              0\n",
       "focus_diff               0\n",
       "avg_views                0\n",
       "dtype: int64"
      ]
     },
     "execution_count": 18,
     "metadata": {},
     "output_type": "execute_result"
    }
   ],
   "source": [
    "X = usersData[[\"avg_comments\"]]\n",
    "X.insert(0, \"avg_likes\", usersData[\"avg_likes\"] / np.log(usersData[\"avg_likes\"]))\n",
    "X.insert(2, \"avg_followers\", usersData[\"avg_followers\"] / np.log(usersData[\"avg_followers\"]))\n",
    "X.insert(3, \"like_follow_geom_mean\", np.sqrt(usersData[\"avg_likes\"] * usersData[\"avg_followers\"]))\n",
    "X.insert(4, \"follower_post_ratio\", usersData[\"avg_followers\"] / usersData[\"avg_posts\"])\n",
    "X.insert(5, \"comment_like_ratio\", usersData[\"avg_comments\"] / usersData[\"avg_likes\"])\n",
    "X.insert(6,\"focus_ratio\", usersData[\"max_likes\"] / usersData[\"min_likes\"])\n",
    "X.insert(7, \"focus_diff\", usersData[\"max_likes\"] - usersData[\"min_likes\"])\n",
    "X.insert(8, \"avg_views\", usersData[\"avg_views\"])\n",
    "\n",
    "X = X.replace(np.inf, np.nan)\n",
    "\n",
    "X.isna().sum() "
   ]
  },
  {
   "cell_type": "code",
   "execution_count": 19,
   "metadata": {},
   "outputs": [],
   "source": [
    "X = X.dropna()\n",
    "X_y = X"
   ]
  },
  {
   "cell_type": "code",
   "execution_count": 20,
   "metadata": {},
   "outputs": [],
   "source": [
    "y = X[\"avg_views\"] # influence\n",
    "X = X.drop(\"avg_views\", axis=1)"
   ]
  },
  {
   "cell_type": "code",
   "execution_count": 21,
   "metadata": {},
   "outputs": [
    {
     "data": {
      "text/html": [
       "<div>\n",
       "<style scoped>\n",
       "    .dataframe tbody tr th:only-of-type {\n",
       "        vertical-align: middle;\n",
       "    }\n",
       "\n",
       "    .dataframe tbody tr th {\n",
       "        vertical-align: top;\n",
       "    }\n",
       "\n",
       "    .dataframe thead th {\n",
       "        text-align: right;\n",
       "    }\n",
       "</style>\n",
       "<table border=\"1\" class=\"dataframe\">\n",
       "  <thead>\n",
       "    <tr style=\"text-align: right;\">\n",
       "      <th></th>\n",
       "      <th>avg_likes</th>\n",
       "      <th>avg_comments</th>\n",
       "      <th>avg_followers</th>\n",
       "      <th>like_follow_geom_mean</th>\n",
       "      <th>follower_post_ratio</th>\n",
       "      <th>comment_like_ratio</th>\n",
       "      <th>focus_ratio</th>\n",
       "      <th>focus_diff</th>\n",
       "    </tr>\n",
       "  </thead>\n",
       "  <tbody>\n",
       "    <tr>\n",
       "      <th>0</th>\n",
       "      <td>21.288896</td>\n",
       "      <td>3.0000</td>\n",
       "      <td>1389.160618</td>\n",
       "      <td>1133.514446</td>\n",
       "      <td>6.699542</td>\n",
       "      <td>0.030769</td>\n",
       "      <td>1.915254</td>\n",
       "      <td>54</td>\n",
       "    </tr>\n",
       "    <tr>\n",
       "      <th>1</th>\n",
       "      <td>20.302861</td>\n",
       "      <td>9.2500</td>\n",
       "      <td>506.378577</td>\n",
       "      <td>622.831438</td>\n",
       "      <td>3.015692</td>\n",
       "      <td>0.100817</td>\n",
       "      <td>4.461538</td>\n",
       "      <td>135</td>\n",
       "    </tr>\n",
       "    <tr>\n",
       "      <th>2</th>\n",
       "      <td>9.437989</td>\n",
       "      <td>3.5000</td>\n",
       "      <td>287.211094</td>\n",
       "      <td>270.177719</td>\n",
       "      <td>0.895184</td>\n",
       "      <td>0.106061</td>\n",
       "      <td>2.000000</td>\n",
       "      <td>23</td>\n",
       "    </tr>\n",
       "    <tr>\n",
       "      <th>3</th>\n",
       "      <td>6.676164</td>\n",
       "      <td>3.5000</td>\n",
       "      <td>38.206687</td>\n",
       "      <td>63.718129</td>\n",
       "      <td>0.110446</td>\n",
       "      <td>0.175000</td>\n",
       "      <td>1.625000</td>\n",
       "      <td>10</td>\n",
       "    </tr>\n",
       "    <tr>\n",
       "      <th>4</th>\n",
       "      <td>5.115849</td>\n",
       "      <td>1.2000</td>\n",
       "      <td>27.033659</td>\n",
       "      <td>41.742065</td>\n",
       "      <td>0.427184</td>\n",
       "      <td>0.090909</td>\n",
       "      <td>2.000000</td>\n",
       "      <td>9</td>\n",
       "    </tr>\n",
       "    <tr>\n",
       "      <th>5</th>\n",
       "      <td>23.252893</td>\n",
       "      <td>8.8889</td>\n",
       "      <td>271.564272</td>\n",
       "      <td>475.706234</td>\n",
       "      <td>1.310171</td>\n",
       "      <td>0.081467</td>\n",
       "      <td>3.583333</td>\n",
       "      <td>155</td>\n",
       "    </tr>\n",
       "    <tr>\n",
       "      <th>6</th>\n",
       "      <td>30.414847</td>\n",
       "      <td>12.6667</td>\n",
       "      <td>230.637582</td>\n",
       "      <td>512.692891</td>\n",
       "      <td>0.353135</td>\n",
       "      <td>0.082789</td>\n",
       "      <td>6.648649</td>\n",
       "      <td>209</td>\n",
       "    </tr>\n",
       "    <tr>\n",
       "      <th>7</th>\n",
       "      <td>12.876171</td>\n",
       "      <td>12.5000</td>\n",
       "      <td>81.938697</td>\n",
       "      <td>160.640904</td>\n",
       "      <td>0.691475</td>\n",
       "      <td>0.247525</td>\n",
       "      <td>1.771429</td>\n",
       "      <td>27</td>\n",
       "    </tr>\n",
       "    <tr>\n",
       "      <th>8</th>\n",
       "      <td>9.844324</td>\n",
       "      <td>0.6000</td>\n",
       "      <td>171.187508</td>\n",
       "      <td>206.300751</td>\n",
       "      <td>0.499384</td>\n",
       "      <td>0.017143</td>\n",
       "      <td>1.680000</td>\n",
       "      <td>17</td>\n",
       "    </tr>\n",
       "    <tr>\n",
       "      <th>9</th>\n",
       "      <td>9.233248</td>\n",
       "      <td>6.0000</td>\n",
       "      <td>147.114512</td>\n",
       "      <td>180.576853</td>\n",
       "      <td>0.122358</td>\n",
       "      <td>0.187500</td>\n",
       "      <td>3.785714</td>\n",
       "      <td>39</td>\n",
       "    </tr>\n",
       "    <tr>\n",
       "      <th>10</th>\n",
       "      <td>698.106494</td>\n",
       "      <td>185.0000</td>\n",
       "      <td>12569.142105</td>\n",
       "      <td>30184.611833</td>\n",
       "      <td>181.119710</td>\n",
       "      <td>0.030414</td>\n",
       "      <td>1.507216</td>\n",
       "      <td>2636</td>\n",
       "    </tr>\n",
       "    <tr>\n",
       "      <th>11</th>\n",
       "      <td>15.258172</td>\n",
       "      <td>3.7143</td>\n",
       "      <td>411.215850</td>\n",
       "      <td>459.479156</td>\n",
       "      <td>0.781631</td>\n",
       "      <td>0.058691</td>\n",
       "      <td>2.222222</td>\n",
       "      <td>55</td>\n",
       "    </tr>\n",
       "    <tr>\n",
       "      <th>12</th>\n",
       "      <td>6.284078</td>\n",
       "      <td>1.1250</td>\n",
       "      <td>139.302597</td>\n",
       "      <td>132.087092</td>\n",
       "      <td>1.955010</td>\n",
       "      <td>0.061644</td>\n",
       "      <td>2.818182</td>\n",
       "      <td>20</td>\n",
       "    </tr>\n",
       "    <tr>\n",
       "      <th>13</th>\n",
       "      <td>5.147466</td>\n",
       "      <td>0.0000</td>\n",
       "      <td>116.491200</td>\n",
       "      <td>101.652877</td>\n",
       "      <td>0.262267</td>\n",
       "      <td>0.000000</td>\n",
       "      <td>1.250000</td>\n",
       "      <td>3</td>\n",
       "    </tr>\n",
       "    <tr>\n",
       "      <th>14</th>\n",
       "      <td>12.130361</td>\n",
       "      <td>0.8000</td>\n",
       "      <td>6028.128127</td>\n",
       "      <td>1766.790197</td>\n",
       "      <td>40.231832</td>\n",
       "      <td>0.017167</td>\n",
       "      <td>1.357143</td>\n",
       "      <td>15</td>\n",
       "    </tr>\n",
       "    <tr>\n",
       "      <th>15</th>\n",
       "      <td>5.086611</td>\n",
       "      <td>0.6923</td>\n",
       "      <td>314.059591</td>\n",
       "      <td>179.029277</td>\n",
       "      <td>0.202311</td>\n",
       "      <td>0.052941</td>\n",
       "      <td>5.000000</td>\n",
       "      <td>20</td>\n",
       "    </tr>\n",
       "    <tr>\n",
       "      <th>16</th>\n",
       "      <td>6.048280</td>\n",
       "      <td>0.3158</td>\n",
       "      <td>198.957436</td>\n",
       "      <td>157.863245</td>\n",
       "      <td>0.409040</td>\n",
       "      <td>0.018349</td>\n",
       "      <td>8.750000</td>\n",
       "      <td>31</td>\n",
       "    </tr>\n",
       "    <tr>\n",
       "      <th>17</th>\n",
       "      <td>8.033257</td>\n",
       "      <td>0.5000</td>\n",
       "      <td>76.660973</td>\n",
       "      <td>111.310377</td>\n",
       "      <td>0.526786</td>\n",
       "      <td>0.019048</td>\n",
       "      <td>1.684211</td>\n",
       "      <td>13</td>\n",
       "    </tr>\n",
       "    <tr>\n",
       "      <th>18</th>\n",
       "      <td>18.344413</td>\n",
       "      <td>5.5000</td>\n",
       "      <td>169.008312</td>\n",
       "      <td>310.546293</td>\n",
       "      <td>6.582418</td>\n",
       "      <td>0.068323</td>\n",
       "      <td>1.453125</td>\n",
       "      <td>29</td>\n",
       "    </tr>\n",
       "    <tr>\n",
       "      <th>19</th>\n",
       "      <td>10.096257</td>\n",
       "      <td>1.2500</td>\n",
       "      <td>57.618245</td>\n",
       "      <td>110.198684</td>\n",
       "      <td>0.329400</td>\n",
       "      <td>0.034483</td>\n",
       "      <td>1.620690</td>\n",
       "      <td>18</td>\n",
       "    </tr>\n",
       "    <tr>\n",
       "      <th>20</th>\n",
       "      <td>23.032822</td>\n",
       "      <td>5.0000</td>\n",
       "      <td>364.410061</td>\n",
       "      <td>559.702421</td>\n",
       "      <td>1.952957</td>\n",
       "      <td>0.046382</td>\n",
       "      <td>2.261538</td>\n",
       "      <td>82</td>\n",
       "    </tr>\n",
       "    <tr>\n",
       "      <th>21</th>\n",
       "      <td>12.234793</td>\n",
       "      <td>4.4286</td>\n",
       "      <td>66.622570</td>\n",
       "      <td>137.149616</td>\n",
       "      <td>0.488971</td>\n",
       "      <td>0.093940</td>\n",
       "      <td>2.870968</td>\n",
       "      <td>58</td>\n",
       "    </tr>\n",
       "    <tr>\n",
       "      <th>22</th>\n",
       "      <td>399.117126</td>\n",
       "      <td>92.5000</td>\n",
       "      <td>4535.870969</td>\n",
       "      <td>12567.285387</td>\n",
       "      <td>31.622983</td>\n",
       "      <td>0.028689</td>\n",
       "      <td>2.011983</td>\n",
       "      <td>2449</td>\n",
       "    </tr>\n",
       "    <tr>\n",
       "      <th>23</th>\n",
       "      <td>13.106382</td>\n",
       "      <td>2.0000</td>\n",
       "      <td>244.992184</td>\n",
       "      <td>308.638527</td>\n",
       "      <td>3.766871</td>\n",
       "      <td>0.038674</td>\n",
       "      <td>2.785714</td>\n",
       "      <td>50</td>\n",
       "    </tr>\n",
       "    <tr>\n",
       "      <th>24</th>\n",
       "      <td>45.722428</td>\n",
       "      <td>8.6667</td>\n",
       "      <td>1271.407999</td>\n",
       "      <td>1737.686681</td>\n",
       "      <td>5.311526</td>\n",
       "      <td>0.034256</td>\n",
       "      <td>1.280000</td>\n",
       "      <td>63</td>\n",
       "    </tr>\n",
       "    <tr>\n",
       "      <th>25</th>\n",
       "      <td>7.335367</td>\n",
       "      <td>1.5000</td>\n",
       "      <td>532.446077</td>\n",
       "      <td>320.855107</td>\n",
       "      <td>3.838765</td>\n",
       "      <td>0.065217</td>\n",
       "      <td>3.545455</td>\n",
       "      <td>28</td>\n",
       "    </tr>\n",
       "    <tr>\n",
       "      <th>26</th>\n",
       "      <td>10.446488</td>\n",
       "      <td>1.3333</td>\n",
       "      <td>77.612320</td>\n",
       "      <td>134.914788</td>\n",
       "      <td>0.434270</td>\n",
       "      <td>0.035087</td>\n",
       "      <td>2.125000</td>\n",
       "      <td>27</td>\n",
       "    </tr>\n",
       "    <tr>\n",
       "      <th>27</th>\n",
       "      <td>54.881180</td>\n",
       "      <td>11.4286</td>\n",
       "      <td>759.806865</td>\n",
       "      <td>1453.970966</td>\n",
       "      <td>4.222713</td>\n",
       "      <td>0.036183</td>\n",
       "      <td>1.490706</td>\n",
       "      <td>132</td>\n",
       "    </tr>\n",
       "    <tr>\n",
       "      <th>28</th>\n",
       "      <td>6.284078</td>\n",
       "      <td>2.0000</td>\n",
       "      <td>67.178573</td>\n",
       "      <td>85.759839</td>\n",
       "      <td>0.273220</td>\n",
       "      <td>0.109589</td>\n",
       "      <td>1.714286</td>\n",
       "      <td>10</td>\n",
       "    </tr>\n",
       "    <tr>\n",
       "      <th>29</th>\n",
       "      <td>27.405415</td>\n",
       "      <td>9.1429</td>\n",
       "      <td>341.949676</td>\n",
       "      <td>602.361985</td>\n",
       "      <td>4.163328</td>\n",
       "      <td>0.068085</td>\n",
       "      <td>2.551282</td>\n",
       "      <td>121</td>\n",
       "    </tr>\n",
       "    <tr>\n",
       "      <th>...</th>\n",
       "      <td>...</td>\n",
       "      <td>...</td>\n",
       "      <td>...</td>\n",
       "      <td>...</td>\n",
       "      <td>...</td>\n",
       "      <td>...</td>\n",
       "      <td>...</td>\n",
       "      <td>...</td>\n",
       "    </tr>\n",
       "    <tr>\n",
       "      <th>114751</th>\n",
       "      <td>29.296052</td>\n",
       "      <td>2.6667</td>\n",
       "      <td>467.188758</td>\n",
       "      <td>750.511825</td>\n",
       "      <td>98.923077</td>\n",
       "      <td>0.018265</td>\n",
       "      <td>1.613208</td>\n",
       "      <td>65</td>\n",
       "    </tr>\n",
       "    <tr>\n",
       "      <th>114752</th>\n",
       "      <td>8.778885</td>\n",
       "      <td>2.2000</td>\n",
       "      <td>205.816083</td>\n",
       "      <td>211.846171</td>\n",
       "      <td>10.531469</td>\n",
       "      <td>0.073826</td>\n",
       "      <td>1.384615</td>\n",
       "      <td>10</td>\n",
       "    </tr>\n",
       "    <tr>\n",
       "      <th>114753</th>\n",
       "      <td>16.025156</td>\n",
       "      <td>1.5000</td>\n",
       "      <td>114.829135</td>\n",
       "      <td>226.792857</td>\n",
       "      <td>8.466667</td>\n",
       "      <td>0.022222</td>\n",
       "      <td>1.396552</td>\n",
       "      <td>23</td>\n",
       "    </tr>\n",
       "    <tr>\n",
       "      <th>114754</th>\n",
       "      <td>12.399253</td>\n",
       "      <td>4.0000</td>\n",
       "      <td>464.314045</td>\n",
       "      <td>428.821641</td>\n",
       "      <td>212.833333</td>\n",
       "      <td>0.083333</td>\n",
       "      <td>1.921053</td>\n",
       "      <td>35</td>\n",
       "    </tr>\n",
       "    <tr>\n",
       "      <th>114755</th>\n",
       "      <td>24.485637</td>\n",
       "      <td>1.7500</td>\n",
       "      <td>177.100737</td>\n",
       "      <td>383.891261</td>\n",
       "      <td>15.812500</td>\n",
       "      <td>0.015021</td>\n",
       "      <td>1.915663</td>\n",
       "      <td>76</td>\n",
       "    </tr>\n",
       "    <tr>\n",
       "      <th>114756</th>\n",
       "      <td>7.742885</td>\n",
       "      <td>0.6111</td>\n",
       "      <td>54.758109</td>\n",
       "      <td>88.543794</td>\n",
       "      <td>3.214286</td>\n",
       "      <td>0.024553</td>\n",
       "      <td>6.000000</td>\n",
       "      <td>50</td>\n",
       "    </tr>\n",
       "    <tr>\n",
       "      <th>114757</th>\n",
       "      <td>8.875015</td>\n",
       "      <td>0.6842</td>\n",
       "      <td>50.565844</td>\n",
       "      <td>93.033732</td>\n",
       "      <td>0.724051</td>\n",
       "      <td>0.022608</td>\n",
       "      <td>16.666667</td>\n",
       "      <td>47</td>\n",
       "    </tr>\n",
       "    <tr>\n",
       "      <th>114758</th>\n",
       "      <td>11.966441</td>\n",
       "      <td>1.5000</td>\n",
       "      <td>21.203525</td>\n",
       "      <td>66.616439</td>\n",
       "      <td>1.293333</td>\n",
       "      <td>0.032787</td>\n",
       "      <td>1.771429</td>\n",
       "      <td>27</td>\n",
       "    </tr>\n",
       "    <tr>\n",
       "      <th>114759</th>\n",
       "      <td>17.726393</td>\n",
       "      <td>4.1667</td>\n",
       "      <td>697.217460</td>\n",
       "      <td>683.884493</td>\n",
       "      <td>19.914754</td>\n",
       "      <td>0.054113</td>\n",
       "      <td>4.222222</td>\n",
       "      <td>87</td>\n",
       "    </tr>\n",
       "    <tr>\n",
       "      <th>114760</th>\n",
       "      <td>28.921352</td>\n",
       "      <td>1.3333</td>\n",
       "      <td>5.304925</td>\n",
       "      <td>44.847896</td>\n",
       "      <td>0.933333</td>\n",
       "      <td>0.009281</td>\n",
       "      <td>1.087591</td>\n",
       "      <td>12</td>\n",
       "    </tr>\n",
       "    <tr>\n",
       "      <th>114761</th>\n",
       "      <td>14.601603</td>\n",
       "      <td>3.8571</td>\n",
       "      <td>220.379409</td>\n",
       "      <td>311.984469</td>\n",
       "      <td>3.116635</td>\n",
       "      <td>0.064593</td>\n",
       "      <td>1.948718</td>\n",
       "      <td>37</td>\n",
       "    </tr>\n",
       "    <tr>\n",
       "      <th>114762</th>\n",
       "      <td>21.639152</td>\n",
       "      <td>0.2222</td>\n",
       "      <td>29.776499</td>\n",
       "      <td>121.794024</td>\n",
       "      <td>4.257143</td>\n",
       "      <td>0.002232</td>\n",
       "      <td>37.777778</td>\n",
       "      <td>331</td>\n",
       "    </tr>\n",
       "    <tr>\n",
       "      <th>114763</th>\n",
       "      <td>8.121634</td>\n",
       "      <td>0.0000</td>\n",
       "      <td>159.641664</td>\n",
       "      <td>172.896994</td>\n",
       "      <td>46.708333</td>\n",
       "      <td>0.000000</td>\n",
       "      <td>104.500000</td>\n",
       "      <td>207</td>\n",
       "    </tr>\n",
       "    <tr>\n",
       "      <th>114764</th>\n",
       "      <td>50.153189</td>\n",
       "      <td>4.1667</td>\n",
       "      <td>1190.131328</td>\n",
       "      <td>1771.614998</td>\n",
       "      <td>11.879957</td>\n",
       "      <td>0.014715</td>\n",
       "      <td>61.181818</td>\n",
       "      <td>662</td>\n",
       "    </tr>\n",
       "    <tr>\n",
       "      <th>114765</th>\n",
       "      <td>9.641669</td>\n",
       "      <td>1.6667</td>\n",
       "      <td>23.903264</td>\n",
       "      <td>61.983869</td>\n",
       "      <td>1.313953</td>\n",
       "      <td>0.049021</td>\n",
       "      <td>2.000000</td>\n",
       "      <td>24</td>\n",
       "    </tr>\n",
       "    <tr>\n",
       "      <th>114766</th>\n",
       "      <td>80.648448</td>\n",
       "      <td>21.1429</td>\n",
       "      <td>599.881242</td>\n",
       "      <td>1602.909900</td>\n",
       "      <td>22.773333</td>\n",
       "      <td>0.042165</td>\n",
       "      <td>1.453865</td>\n",
       "      <td>182</td>\n",
       "    </tr>\n",
       "    <tr>\n",
       "      <th>114767</th>\n",
       "      <td>392.684367</td>\n",
       "      <td>25.0000</td>\n",
       "      <td>11621.560111</td>\n",
       "      <td>20861.072240</td>\n",
       "      <td>223.212662</td>\n",
       "      <td>0.007899</td>\n",
       "      <td>4.101869</td>\n",
       "      <td>3319</td>\n",
       "    </tr>\n",
       "    <tr>\n",
       "      <th>114768</th>\n",
       "      <td>76.932974</td>\n",
       "      <td>46.0000</td>\n",
       "      <td>1678.287416</td>\n",
       "      <td>2777.471872</td>\n",
       "      <td>166.071429</td>\n",
       "      <td>0.097046</td>\n",
       "      <td>2.827465</td>\n",
       "      <td>519</td>\n",
       "    </tr>\n",
       "    <tr>\n",
       "      <th>114769</th>\n",
       "      <td>26.870707</td>\n",
       "      <td>5.0000</td>\n",
       "      <td>296.907109</td>\n",
       "      <td>548.669299</td>\n",
       "      <td>1.190674</td>\n",
       "      <td>0.038168</td>\n",
       "      <td>3.268657</td>\n",
       "      <td>152</td>\n",
       "    </tr>\n",
       "    <tr>\n",
       "      <th>114770</th>\n",
       "      <td>57.831799</td>\n",
       "      <td>9.0000</td>\n",
       "      <td>4215.685076</td>\n",
       "      <td>3899.370334</td>\n",
       "      <td>1075.857143</td>\n",
       "      <td>0.026746</td>\n",
       "      <td>1.426667</td>\n",
       "      <td>128</td>\n",
       "    </tr>\n",
       "    <tr>\n",
       "      <th>114771</th>\n",
       "      <td>29.909692</td>\n",
       "      <td>4.0000</td>\n",
       "      <td>524.998789</td>\n",
       "      <td>812.413495</td>\n",
       "      <td>21.487805</td>\n",
       "      <td>0.026696</td>\n",
       "      <td>1.663551</td>\n",
       "      <td>71</td>\n",
       "    </tr>\n",
       "    <tr>\n",
       "      <th>114772</th>\n",
       "      <td>10.744497</td>\n",
       "      <td>0.7500</td>\n",
       "      <td>889.660744</td>\n",
       "      <td>561.963077</td>\n",
       "      <td>9.495249</td>\n",
       "      <td>0.018987</td>\n",
       "      <td>2.545455</td>\n",
       "      <td>34</td>\n",
       "    </tr>\n",
       "    <tr>\n",
       "      <th>114773</th>\n",
       "      <td>17.599713</td>\n",
       "      <td>2.1429</td>\n",
       "      <td>2101.029472</td>\n",
       "      <td>1262.684097</td>\n",
       "      <td>57.575758</td>\n",
       "      <td>0.028090</td>\n",
       "      <td>1.870370</td>\n",
       "      <td>47</td>\n",
       "    </tr>\n",
       "    <tr>\n",
       "      <th>114774</th>\n",
       "      <td>70.775064</td>\n",
       "      <td>0.5000</td>\n",
       "      <td>169.492909</td>\n",
       "      <td>718.093309</td>\n",
       "      <td>100.166667</td>\n",
       "      <td>0.001166</td>\n",
       "      <td>40.862069</td>\n",
       "      <td>1156</td>\n",
       "    </tr>\n",
       "    <tr>\n",
       "      <th>114775</th>\n",
       "      <td>449.801439</td>\n",
       "      <td>31.8000</td>\n",
       "      <td>83211.307658</td>\n",
       "      <td>65528.536227</td>\n",
       "      <td>1686.658926</td>\n",
       "      <td>0.008606</td>\n",
       "      <td>1.524766</td>\n",
       "      <td>1515</td>\n",
       "    </tr>\n",
       "    <tr>\n",
       "      <th>114776</th>\n",
       "      <td>75.071265</td>\n",
       "      <td>14.6667</td>\n",
       "      <td>175.052309</td>\n",
       "      <td>757.955116</td>\n",
       "      <td>65.684211</td>\n",
       "      <td>0.031861</td>\n",
       "      <td>24.000000</td>\n",
       "      <td>1403</td>\n",
       "    </tr>\n",
       "    <tr>\n",
       "      <th>114777</th>\n",
       "      <td>17.430508</td>\n",
       "      <td>5.3333</td>\n",
       "      <td>251.898468</td>\n",
       "      <td>378.528647</td>\n",
       "      <td>18.831683</td>\n",
       "      <td>0.070796</td>\n",
       "      <td>5.192308</td>\n",
       "      <td>109</td>\n",
       "    </tr>\n",
       "    <tr>\n",
       "      <th>114778</th>\n",
       "      <td>15.425264</td>\n",
       "      <td>0.8000</td>\n",
       "      <td>22.223522</td>\n",
       "      <td>81.317895</td>\n",
       "      <td>12.875000</td>\n",
       "      <td>0.012461</td>\n",
       "      <td>10.818182</td>\n",
       "      <td>108</td>\n",
       "    </tr>\n",
       "    <tr>\n",
       "      <th>114779</th>\n",
       "      <td>14.393249</td>\n",
       "      <td>2.7059</td>\n",
       "      <td>113.035280</td>\n",
       "      <td>209.341763</td>\n",
       "      <td>0.415325</td>\n",
       "      <td>0.046185</td>\n",
       "      <td>8.833333</td>\n",
       "      <td>94</td>\n",
       "    </tr>\n",
       "    <tr>\n",
       "      <th>114780</th>\n",
       "      <td>203.032445</td>\n",
       "      <td>6.1429</td>\n",
       "      <td>2689.673514</td>\n",
       "      <td>6384.074678</td>\n",
       "      <td>247.684685</td>\n",
       "      <td>0.004144</td>\n",
       "      <td>63.065789</td>\n",
       "      <td>4717</td>\n",
       "    </tr>\n",
       "  </tbody>\n",
       "</table>\n",
       "<p>114777 rows × 8 columns</p>\n",
       "</div>"
      ],
      "text/plain": [
       "         avg_likes  avg_comments  avg_followers  like_follow_geom_mean  \\\n",
       "0        21.288896        3.0000    1389.160618            1133.514446   \n",
       "1        20.302861        9.2500     506.378577             622.831438   \n",
       "2         9.437989        3.5000     287.211094             270.177719   \n",
       "3         6.676164        3.5000      38.206687              63.718129   \n",
       "4         5.115849        1.2000      27.033659              41.742065   \n",
       "5        23.252893        8.8889     271.564272             475.706234   \n",
       "6        30.414847       12.6667     230.637582             512.692891   \n",
       "7        12.876171       12.5000      81.938697             160.640904   \n",
       "8         9.844324        0.6000     171.187508             206.300751   \n",
       "9         9.233248        6.0000     147.114512             180.576853   \n",
       "10      698.106494      185.0000   12569.142105           30184.611833   \n",
       "11       15.258172        3.7143     411.215850             459.479156   \n",
       "12        6.284078        1.1250     139.302597             132.087092   \n",
       "13        5.147466        0.0000     116.491200             101.652877   \n",
       "14       12.130361        0.8000    6028.128127            1766.790197   \n",
       "15        5.086611        0.6923     314.059591             179.029277   \n",
       "16        6.048280        0.3158     198.957436             157.863245   \n",
       "17        8.033257        0.5000      76.660973             111.310377   \n",
       "18       18.344413        5.5000     169.008312             310.546293   \n",
       "19       10.096257        1.2500      57.618245             110.198684   \n",
       "20       23.032822        5.0000     364.410061             559.702421   \n",
       "21       12.234793        4.4286      66.622570             137.149616   \n",
       "22      399.117126       92.5000    4535.870969           12567.285387   \n",
       "23       13.106382        2.0000     244.992184             308.638527   \n",
       "24       45.722428        8.6667    1271.407999            1737.686681   \n",
       "25        7.335367        1.5000     532.446077             320.855107   \n",
       "26       10.446488        1.3333      77.612320             134.914788   \n",
       "27       54.881180       11.4286     759.806865            1453.970966   \n",
       "28        6.284078        2.0000      67.178573              85.759839   \n",
       "29       27.405415        9.1429     341.949676             602.361985   \n",
       "...            ...           ...            ...                    ...   \n",
       "114751   29.296052        2.6667     467.188758             750.511825   \n",
       "114752    8.778885        2.2000     205.816083             211.846171   \n",
       "114753   16.025156        1.5000     114.829135             226.792857   \n",
       "114754   12.399253        4.0000     464.314045             428.821641   \n",
       "114755   24.485637        1.7500     177.100737             383.891261   \n",
       "114756    7.742885        0.6111      54.758109              88.543794   \n",
       "114757    8.875015        0.6842      50.565844              93.033732   \n",
       "114758   11.966441        1.5000      21.203525              66.616439   \n",
       "114759   17.726393        4.1667     697.217460             683.884493   \n",
       "114760   28.921352        1.3333       5.304925              44.847896   \n",
       "114761   14.601603        3.8571     220.379409             311.984469   \n",
       "114762   21.639152        0.2222      29.776499             121.794024   \n",
       "114763    8.121634        0.0000     159.641664             172.896994   \n",
       "114764   50.153189        4.1667    1190.131328            1771.614998   \n",
       "114765    9.641669        1.6667      23.903264              61.983869   \n",
       "114766   80.648448       21.1429     599.881242            1602.909900   \n",
       "114767  392.684367       25.0000   11621.560111           20861.072240   \n",
       "114768   76.932974       46.0000    1678.287416            2777.471872   \n",
       "114769   26.870707        5.0000     296.907109             548.669299   \n",
       "114770   57.831799        9.0000    4215.685076            3899.370334   \n",
       "114771   29.909692        4.0000     524.998789             812.413495   \n",
       "114772   10.744497        0.7500     889.660744             561.963077   \n",
       "114773   17.599713        2.1429    2101.029472            1262.684097   \n",
       "114774   70.775064        0.5000     169.492909             718.093309   \n",
       "114775  449.801439       31.8000   83211.307658           65528.536227   \n",
       "114776   75.071265       14.6667     175.052309             757.955116   \n",
       "114777   17.430508        5.3333     251.898468             378.528647   \n",
       "114778   15.425264        0.8000      22.223522              81.317895   \n",
       "114779   14.393249        2.7059     113.035280             209.341763   \n",
       "114780  203.032445        6.1429    2689.673514            6384.074678   \n",
       "\n",
       "        follower_post_ratio  comment_like_ratio  focus_ratio  focus_diff  \n",
       "0                  6.699542            0.030769     1.915254          54  \n",
       "1                  3.015692            0.100817     4.461538         135  \n",
       "2                  0.895184            0.106061     2.000000          23  \n",
       "3                  0.110446            0.175000     1.625000          10  \n",
       "4                  0.427184            0.090909     2.000000           9  \n",
       "5                  1.310171            0.081467     3.583333         155  \n",
       "6                  0.353135            0.082789     6.648649         209  \n",
       "7                  0.691475            0.247525     1.771429          27  \n",
       "8                  0.499384            0.017143     1.680000          17  \n",
       "9                  0.122358            0.187500     3.785714          39  \n",
       "10               181.119710            0.030414     1.507216        2636  \n",
       "11                 0.781631            0.058691     2.222222          55  \n",
       "12                 1.955010            0.061644     2.818182          20  \n",
       "13                 0.262267            0.000000     1.250000           3  \n",
       "14                40.231832            0.017167     1.357143          15  \n",
       "15                 0.202311            0.052941     5.000000          20  \n",
       "16                 0.409040            0.018349     8.750000          31  \n",
       "17                 0.526786            0.019048     1.684211          13  \n",
       "18                 6.582418            0.068323     1.453125          29  \n",
       "19                 0.329400            0.034483     1.620690          18  \n",
       "20                 1.952957            0.046382     2.261538          82  \n",
       "21                 0.488971            0.093940     2.870968          58  \n",
       "22                31.622983            0.028689     2.011983        2449  \n",
       "23                 3.766871            0.038674     2.785714          50  \n",
       "24                 5.311526            0.034256     1.280000          63  \n",
       "25                 3.838765            0.065217     3.545455          28  \n",
       "26                 0.434270            0.035087     2.125000          27  \n",
       "27                 4.222713            0.036183     1.490706         132  \n",
       "28                 0.273220            0.109589     1.714286          10  \n",
       "29                 4.163328            0.068085     2.551282         121  \n",
       "...                     ...                 ...          ...         ...  \n",
       "114751            98.923077            0.018265     1.613208          65  \n",
       "114752            10.531469            0.073826     1.384615          10  \n",
       "114753             8.466667            0.022222     1.396552          23  \n",
       "114754           212.833333            0.083333     1.921053          35  \n",
       "114755            15.812500            0.015021     1.915663          76  \n",
       "114756             3.214286            0.024553     6.000000          50  \n",
       "114757             0.724051            0.022608    16.666667          47  \n",
       "114758             1.293333            0.032787     1.771429          27  \n",
       "114759            19.914754            0.054113     4.222222          87  \n",
       "114760             0.933333            0.009281     1.087591          12  \n",
       "114761             3.116635            0.064593     1.948718          37  \n",
       "114762             4.257143            0.002232    37.777778         331  \n",
       "114763            46.708333            0.000000   104.500000         207  \n",
       "114764            11.879957            0.014715    61.181818         662  \n",
       "114765             1.313953            0.049021     2.000000          24  \n",
       "114766            22.773333            0.042165     1.453865         182  \n",
       "114767           223.212662            0.007899     4.101869        3319  \n",
       "114768           166.071429            0.097046     2.827465         519  \n",
       "114769             1.190674            0.038168     3.268657         152  \n",
       "114770          1075.857143            0.026746     1.426667         128  \n",
       "114771            21.487805            0.026696     1.663551          71  \n",
       "114772             9.495249            0.018987     2.545455          34  \n",
       "114773            57.575758            0.028090     1.870370          47  \n",
       "114774           100.166667            0.001166    40.862069        1156  \n",
       "114775          1686.658926            0.008606     1.524766        1515  \n",
       "114776            65.684211            0.031861    24.000000        1403  \n",
       "114777            18.831683            0.070796     5.192308         109  \n",
       "114778            12.875000            0.012461    10.818182         108  \n",
       "114779             0.415325            0.046185     8.833333          94  \n",
       "114780           247.684685            0.004144    63.065789        4717  \n",
       "\n",
       "[114777 rows x 8 columns]"
      ]
     },
     "execution_count": 21,
     "metadata": {},
     "output_type": "execute_result"
    }
   ],
   "source": [
    "X"
   ]
  },
  {
   "cell_type": "code",
   "execution_count": 22,
   "metadata": {},
   "outputs": [
    {
     "data": {
      "text/plain": [
       "0           333.1667\n",
       "1           308.6250\n",
       "2           126.7500\n",
       "3            65.5000\n",
       "4            61.2000\n",
       "5           638.4444\n",
       "6           428.6667\n",
       "7           148.1667\n",
       "8           117.6000\n",
       "9            90.0000\n",
       "10        27327.2500\n",
       "11          239.8571\n",
       "12          118.5000\n",
       "13           83.3333\n",
       "14          588.0000\n",
       "15           55.6923\n",
       "16           94.6842\n",
       "17          123.5000\n",
       "18          327.2500\n",
       "19           67.7500\n",
       "20          387.8000\n",
       "21          114.8571\n",
       "22        16152.0000\n",
       "23          194.1429\n",
       "24          985.6667\n",
       "25           61.0000\n",
       "26           81.6667\n",
       "27         3521.5714\n",
       "28          125.0000\n",
       "29          995.5714\n",
       "             ...    \n",
       "114751      876.0000\n",
       "114752      120.2000\n",
       "114753      373.0000\n",
       "114754       28.2500\n",
       "114755      264.0000\n",
       "114756       26.5000\n",
       "114757      130.0526\n",
       "114758      495.6250\n",
       "114759      220.3333\n",
       "114760       16.6667\n",
       "114761      987.0000\n",
       "114762       63.8889\n",
       "114763       14.2222\n",
       "114764     2917.6667\n",
       "114765      107.0000\n",
       "114766     1588.0000\n",
       "114767    72816.0000\n",
       "114768     2566.6000\n",
       "114769     1306.5000\n",
       "114770     1262.0000\n",
       "114771      552.1667\n",
       "114772      662.5000\n",
       "114773      502.8571\n",
       "114774       17.5000\n",
       "114775    40534.4000\n",
       "114776    15346.5000\n",
       "114777       76.5000\n",
       "114778      177.8000\n",
       "114779        8.7843\n",
       "114780    18363.4286\n",
       "Name: avg_views, Length: 114777, dtype: float64"
      ]
     },
     "execution_count": 22,
     "metadata": {},
     "output_type": "execute_result"
    }
   ],
   "source": [
    "y"
   ]
  },
  {
   "cell_type": "code",
   "execution_count": 23,
   "metadata": {},
   "outputs": [
    {
     "data": {
      "text/plain": [
       "(114777, 8)"
      ]
     },
     "execution_count": 23,
     "metadata": {},
     "output_type": "execute_result"
    }
   ],
   "source": [
    "n, p = X.shape\n",
    "(n, p)"
   ]
  },
  {
   "cell_type": "markdown",
   "metadata": {},
   "source": [
    "## Base Lines"
   ]
  },
  {
   "cell_type": "code",
   "execution_count": 24,
   "metadata": {},
   "outputs": [],
   "source": [
    "from sklearn.linear_model import LinearRegression\n",
    "from sklearn.linear_model import Ridge\n",
    "from sklearn.model_selection import cross_validate, cross_val_predict\n",
    "from scipy.stats import spearmanr\n",
    "from sklearn.metrics import r2_score\n",
    "from sklearn.metrics import make_scorer\n",
    "from sklearn.model_selection import KFold"
   ]
  },
  {
   "cell_type": "code",
   "execution_count": 25,
   "metadata": {},
   "outputs": [],
   "source": [
    "def spearmanr_metric(y, y_pred):\n",
    "    return spearmanr(y, y_pred).correlation\n",
    "\n",
    "spearmanr_scorer = make_scorer(spearmanr_metric)"
   ]
  },
  {
   "cell_type": "code",
   "execution_count": 26,
   "metadata": {},
   "outputs": [],
   "source": [
    "follower_base = LinearRegression()\n",
    "followers = X[[\"avg_followers\"]]"
   ]
  },
  {
   "cell_type": "code",
   "execution_count": 27,
   "metadata": {},
   "outputs": [],
   "source": [
    "follower_base.fit(followers, y)\n",
    "y_pred = follower_base.predict(followers)"
   ]
  },
  {
   "cell_type": "code",
   "execution_count": 28,
   "metadata": {},
   "outputs": [
    {
     "name": "stdout",
     "output_type": "stream",
     "text": [
      "R2 0.2622750205379368 +/- 0.05948407016237918\n",
      "Paper: 0.211\n"
     ]
    }
   ],
   "source": [
    "r2s = []\n",
    "#adj_r2s = []\n",
    "\n",
    "for i in range(100):\n",
    "    cv = KFold(5, shuffle=True, random_state=i)\n",
    "    follower_base_cv = cross_validate(follower_base, followers, y, cv=cv, scoring='r2')\n",
    "    r2 =follower_base_cv[\"test_score\"].mean()\n",
    "    r2s.append(r2)\n",
    "    #adj_r2s.append(1-(1-r2)*(n-1)/(n-p-1))\n",
    "    \n",
    "print(\"R2\", np.mean(r2s), \"+/-\", np.std(r2s))\n",
    "print(\"Paper: 0.211\")"
   ]
  },
  {
   "cell_type": "code",
   "execution_count": 29,
   "metadata": {},
   "outputs": [
    {
     "name": "stdout",
     "output_type": "stream",
     "text": [
      "rs 0.7530932960774865 +/- 1.9957492866263253e-05\n",
      "Paper: 0.757\n"
     ]
    }
   ],
   "source": [
    "rss = []\n",
    "for i in range(100):\n",
    "    cv = KFold(5, shuffle=True, random_state=i)\n",
    "    follower_base_cv = cross_validate(follower_base, followers, y, cv=cv, scoring=spearmanr_scorer)\n",
    "    rss.append(follower_base_cv[\"test_score\"].mean())\n",
    "print(\"rs\", np.mean(rss), \"+/-\", np.std(rss))\n",
    "print(\"Paper: 0.757\")"
   ]
  },
  {
   "cell_type": "code",
   "execution_count": 30,
   "metadata": {},
   "outputs": [],
   "source": [
    "likes_base = LinearRegression()\n",
    "likes = X[[\"avg_likes\"]]"
   ]
  },
  {
   "cell_type": "code",
   "execution_count": 31,
   "metadata": {},
   "outputs": [
    {
     "name": "stdout",
     "output_type": "stream",
     "text": [
      "R2 0.6820664657850227 +/- 0.02221072582895045\n",
      "Paper: 0.666\n"
     ]
    }
   ],
   "source": [
    "r2s = []\n",
    "for i in range(100):\n",
    "    cv = KFold(5, shuffle=True, random_state=i)\n",
    "    likes_base_cv = cross_validate(likes_base, likes, y, cv=cv, scoring='r2')\n",
    "    r2 = likes_base_cv[\"test_score\"].mean()\n",
    "    r2s.append(r2)\n",
    "\n",
    "\n",
    "print(\"R2\", np.mean(r2s), \"+/-\", np.std(r2s))\n",
    "print(\"Paper: 0.666\")"
   ]
  },
  {
   "cell_type": "code",
   "execution_count": 32,
   "metadata": {},
   "outputs": [
    {
     "name": "stdout",
     "output_type": "stream",
     "text": [
      "rs 0.8452386211217109 +/- 1.6489065019892967e-05\n",
      "Paper: 0.859\n"
     ]
    }
   ],
   "source": [
    "rss = []\n",
    "for i in range(100):\n",
    "    cv = KFold(5, shuffle=True, random_state=i)\n",
    "    likes_base_cv = cross_validate(likes_base, likes, y, cv=cv, scoring=spearmanr_scorer)\n",
    "    rss.append(likes_base_cv[\"test_score\"].mean())\n",
    "print(\"rs\", np.mean(rss), \"+/-\", np.std(rss))\n",
    "print(\"Paper: 0.859\")"
   ]
  },
  {
   "cell_type": "markdown",
   "metadata": {},
   "source": [
    "## Ridge Regression"
   ]
  },
  {
   "cell_type": "code",
   "execution_count": 33,
   "metadata": {},
   "outputs": [],
   "source": [
    "cv_gen = KFold(5, shuffle=True, random_state=0)"
   ]
  },
  {
   "cell_type": "code",
   "execution_count": 34,
   "metadata": {},
   "outputs": [],
   "source": [
    "rr = Ridge(random_state=0)"
   ]
  },
  {
   "cell_type": "code",
   "execution_count": 35,
   "metadata": {},
   "outputs": [
    {
     "data": {
      "text/plain": [
       "0.4902328765617193"
      ]
     },
     "execution_count": 35,
     "metadata": {},
     "output_type": "execute_result"
    }
   ],
   "source": [
    "rr_cv = cross_validate(rr, X, y, cv=cv_gen, scoring='r2')\n",
    "rr_cv[\"test_score\"].mean()\n",
    "# paper: 0.725"
   ]
  },
  {
   "cell_type": "code",
   "execution_count": 36,
   "metadata": {},
   "outputs": [
    {
     "data": {
      "text/plain": [
       "0.8262037992543467"
      ]
     },
     "execution_count": 36,
     "metadata": {},
     "output_type": "execute_result"
    }
   ],
   "source": [
    "rr_cv = cross_validate(rr, X, y, cv=cv_gen, scoring=spearmanr_scorer)\n",
    "rr_cv[\"test_score\"].mean()\n",
    "# paper: 0.848"
   ]
  },
  {
   "cell_type": "code",
   "execution_count": 37,
   "metadata": {},
   "outputs": [],
   "source": [
    "from sklearn.model_selection import GridSearchCV"
   ]
  },
  {
   "cell_type": "code",
   "execution_count": 38,
   "metadata": {},
   "outputs": [],
   "source": [
    "params = {\n",
    "    'random_state': [0,1,2,3,4],\n",
    "    'alpha': [0.001, 0.002, 0.005, 0.01, 0.02, 0.05, 0.1, 0.2, 0.5, 1., 2., 5., 10, 20, 50, 100]\n",
    "}"
   ]
  },
  {
   "cell_type": "code",
   "execution_count": 39,
   "metadata": {},
   "outputs": [
    {
     "name": "stdout",
     "output_type": "stream",
     "text": [
      "Fitting 5 folds for each of 80 candidates, totalling 400 fits\n"
     ]
    },
    {
     "name": "stderr",
     "output_type": "stream",
     "text": [
      "[Parallel(n_jobs=-1)]: Using backend LokyBackend with 4 concurrent workers.\n",
      "[Parallel(n_jobs=-1)]: Done  33 tasks      | elapsed:    7.1s\n",
      "[Parallel(n_jobs=-1)]: Done 154 tasks      | elapsed:   12.5s\n",
      "[Parallel(n_jobs=-1)]: Done 357 tasks      | elapsed:   19.8s\n",
      "[Parallel(n_jobs=-1)]: Done 400 out of 400 | elapsed:   21.3s finished\n"
     ]
    }
   ],
   "source": [
    "rr = Ridge()\n",
    "rr_gs = GridSearchCV(rr, params, n_jobs=-1, verbose=2)\n",
    "rr_gs.fit(X, y)\n",
    "rr_gs_res = rr_gs.cv_results_"
   ]
  },
  {
   "cell_type": "code",
   "execution_count": 40,
   "metadata": {},
   "outputs": [
    {
     "data": {
      "text/html": [
       "<div>\n",
       "<style scoped>\n",
       "    .dataframe tbody tr th:only-of-type {\n",
       "        vertical-align: middle;\n",
       "    }\n",
       "\n",
       "    .dataframe tbody tr th {\n",
       "        vertical-align: top;\n",
       "    }\n",
       "\n",
       "    .dataframe thead th {\n",
       "        text-align: right;\n",
       "    }\n",
       "</style>\n",
       "<table border=\"1\" class=\"dataframe\">\n",
       "  <thead>\n",
       "    <tr style=\"text-align: right;\">\n",
       "      <th></th>\n",
       "      <th>params</th>\n",
       "      <th>mean_test_score</th>\n",
       "    </tr>\n",
       "  </thead>\n",
       "  <tbody>\n",
       "    <tr>\n",
       "      <th>79</th>\n",
       "      <td>{'alpha': 100, 'random_state': 4}</td>\n",
       "      <td>0.624825</td>\n",
       "    </tr>\n",
       "    <tr>\n",
       "      <th>78</th>\n",
       "      <td>{'alpha': 100, 'random_state': 3}</td>\n",
       "      <td>0.624825</td>\n",
       "    </tr>\n",
       "    <tr>\n",
       "      <th>77</th>\n",
       "      <td>{'alpha': 100, 'random_state': 2}</td>\n",
       "      <td>0.624825</td>\n",
       "    </tr>\n",
       "    <tr>\n",
       "      <th>76</th>\n",
       "      <td>{'alpha': 100, 'random_state': 1}</td>\n",
       "      <td>0.624825</td>\n",
       "    </tr>\n",
       "    <tr>\n",
       "      <th>75</th>\n",
       "      <td>{'alpha': 100, 'random_state': 0}</td>\n",
       "      <td>0.624825</td>\n",
       "    </tr>\n",
       "    <tr>\n",
       "      <th>71</th>\n",
       "      <td>{'alpha': 50, 'random_state': 1}</td>\n",
       "      <td>0.624649</td>\n",
       "    </tr>\n",
       "    <tr>\n",
       "      <th>70</th>\n",
       "      <td>{'alpha': 50, 'random_state': 0}</td>\n",
       "      <td>0.624649</td>\n",
       "    </tr>\n",
       "    <tr>\n",
       "      <th>72</th>\n",
       "      <td>{'alpha': 50, 'random_state': 2}</td>\n",
       "      <td>0.624649</td>\n",
       "    </tr>\n",
       "    <tr>\n",
       "      <th>73</th>\n",
       "      <td>{'alpha': 50, 'random_state': 3}</td>\n",
       "      <td>0.624649</td>\n",
       "    </tr>\n",
       "    <tr>\n",
       "      <th>74</th>\n",
       "      <td>{'alpha': 50, 'random_state': 4}</td>\n",
       "      <td>0.624649</td>\n",
       "    </tr>\n",
       "    <tr>\n",
       "      <th>69</th>\n",
       "      <td>{'alpha': 20, 'random_state': 4}</td>\n",
       "      <td>0.624518</td>\n",
       "    </tr>\n",
       "    <tr>\n",
       "      <th>68</th>\n",
       "      <td>{'alpha': 20, 'random_state': 3}</td>\n",
       "      <td>0.624518</td>\n",
       "    </tr>\n",
       "    <tr>\n",
       "      <th>67</th>\n",
       "      <td>{'alpha': 20, 'random_state': 2}</td>\n",
       "      <td>0.624518</td>\n",
       "    </tr>\n",
       "    <tr>\n",
       "      <th>66</th>\n",
       "      <td>{'alpha': 20, 'random_state': 1}</td>\n",
       "      <td>0.624518</td>\n",
       "    </tr>\n",
       "    <tr>\n",
       "      <th>65</th>\n",
       "      <td>{'alpha': 20, 'random_state': 0}</td>\n",
       "      <td>0.624518</td>\n",
       "    </tr>\n",
       "    <tr>\n",
       "      <th>62</th>\n",
       "      <td>{'alpha': 10, 'random_state': 2}</td>\n",
       "      <td>0.624469</td>\n",
       "    </tr>\n",
       "    <tr>\n",
       "      <th>60</th>\n",
       "      <td>{'alpha': 10, 'random_state': 0}</td>\n",
       "      <td>0.624469</td>\n",
       "    </tr>\n",
       "    <tr>\n",
       "      <th>61</th>\n",
       "      <td>{'alpha': 10, 'random_state': 1}</td>\n",
       "      <td>0.624469</td>\n",
       "    </tr>\n",
       "    <tr>\n",
       "      <th>63</th>\n",
       "      <td>{'alpha': 10, 'random_state': 3}</td>\n",
       "      <td>0.624469</td>\n",
       "    </tr>\n",
       "    <tr>\n",
       "      <th>64</th>\n",
       "      <td>{'alpha': 10, 'random_state': 4}</td>\n",
       "      <td>0.624469</td>\n",
       "    </tr>\n",
       "    <tr>\n",
       "      <th>59</th>\n",
       "      <td>{'alpha': 5.0, 'random_state': 4}</td>\n",
       "      <td>0.624443</td>\n",
       "    </tr>\n",
       "    <tr>\n",
       "      <th>58</th>\n",
       "      <td>{'alpha': 5.0, 'random_state': 3}</td>\n",
       "      <td>0.624443</td>\n",
       "    </tr>\n",
       "    <tr>\n",
       "      <th>57</th>\n",
       "      <td>{'alpha': 5.0, 'random_state': 2}</td>\n",
       "      <td>0.624443</td>\n",
       "    </tr>\n",
       "    <tr>\n",
       "      <th>56</th>\n",
       "      <td>{'alpha': 5.0, 'random_state': 1}</td>\n",
       "      <td>0.624443</td>\n",
       "    </tr>\n",
       "    <tr>\n",
       "      <th>55</th>\n",
       "      <td>{'alpha': 5.0, 'random_state': 0}</td>\n",
       "      <td>0.624443</td>\n",
       "    </tr>\n",
       "    <tr>\n",
       "      <th>51</th>\n",
       "      <td>{'alpha': 2.0, 'random_state': 1}</td>\n",
       "      <td>0.624427</td>\n",
       "    </tr>\n",
       "    <tr>\n",
       "      <th>50</th>\n",
       "      <td>{'alpha': 2.0, 'random_state': 0}</td>\n",
       "      <td>0.624427</td>\n",
       "    </tr>\n",
       "    <tr>\n",
       "      <th>52</th>\n",
       "      <td>{'alpha': 2.0, 'random_state': 2}</td>\n",
       "      <td>0.624427</td>\n",
       "    </tr>\n",
       "    <tr>\n",
       "      <th>53</th>\n",
       "      <td>{'alpha': 2.0, 'random_state': 3}</td>\n",
       "      <td>0.624427</td>\n",
       "    </tr>\n",
       "    <tr>\n",
       "      <th>54</th>\n",
       "      <td>{'alpha': 2.0, 'random_state': 4}</td>\n",
       "      <td>0.624427</td>\n",
       "    </tr>\n",
       "    <tr>\n",
       "      <th>...</th>\n",
       "      <td>...</td>\n",
       "      <td>...</td>\n",
       "    </tr>\n",
       "    <tr>\n",
       "      <th>29</th>\n",
       "      <td>{'alpha': 0.05, 'random_state': 4}</td>\n",
       "      <td>0.624417</td>\n",
       "    </tr>\n",
       "    <tr>\n",
       "      <th>28</th>\n",
       "      <td>{'alpha': 0.05, 'random_state': 3}</td>\n",
       "      <td>0.624417</td>\n",
       "    </tr>\n",
       "    <tr>\n",
       "      <th>27</th>\n",
       "      <td>{'alpha': 0.05, 'random_state': 2}</td>\n",
       "      <td>0.624417</td>\n",
       "    </tr>\n",
       "    <tr>\n",
       "      <th>26</th>\n",
       "      <td>{'alpha': 0.05, 'random_state': 1}</td>\n",
       "      <td>0.624417</td>\n",
       "    </tr>\n",
       "    <tr>\n",
       "      <th>25</th>\n",
       "      <td>{'alpha': 0.05, 'random_state': 0}</td>\n",
       "      <td>0.624417</td>\n",
       "    </tr>\n",
       "    <tr>\n",
       "      <th>21</th>\n",
       "      <td>{'alpha': 0.02, 'random_state': 1}</td>\n",
       "      <td>0.624417</td>\n",
       "    </tr>\n",
       "    <tr>\n",
       "      <th>20</th>\n",
       "      <td>{'alpha': 0.02, 'random_state': 0}</td>\n",
       "      <td>0.624417</td>\n",
       "    </tr>\n",
       "    <tr>\n",
       "      <th>22</th>\n",
       "      <td>{'alpha': 0.02, 'random_state': 2}</td>\n",
       "      <td>0.624417</td>\n",
       "    </tr>\n",
       "    <tr>\n",
       "      <th>24</th>\n",
       "      <td>{'alpha': 0.02, 'random_state': 4}</td>\n",
       "      <td>0.624417</td>\n",
       "    </tr>\n",
       "    <tr>\n",
       "      <th>23</th>\n",
       "      <td>{'alpha': 0.02, 'random_state': 3}</td>\n",
       "      <td>0.624417</td>\n",
       "    </tr>\n",
       "    <tr>\n",
       "      <th>19</th>\n",
       "      <td>{'alpha': 0.01, 'random_state': 4}</td>\n",
       "      <td>0.624417</td>\n",
       "    </tr>\n",
       "    <tr>\n",
       "      <th>18</th>\n",
       "      <td>{'alpha': 0.01, 'random_state': 3}</td>\n",
       "      <td>0.624417</td>\n",
       "    </tr>\n",
       "    <tr>\n",
       "      <th>17</th>\n",
       "      <td>{'alpha': 0.01, 'random_state': 2}</td>\n",
       "      <td>0.624417</td>\n",
       "    </tr>\n",
       "    <tr>\n",
       "      <th>16</th>\n",
       "      <td>{'alpha': 0.01, 'random_state': 1}</td>\n",
       "      <td>0.624417</td>\n",
       "    </tr>\n",
       "    <tr>\n",
       "      <th>15</th>\n",
       "      <td>{'alpha': 0.01, 'random_state': 0}</td>\n",
       "      <td>0.624417</td>\n",
       "    </tr>\n",
       "    <tr>\n",
       "      <th>13</th>\n",
       "      <td>{'alpha': 0.005, 'random_state': 3}</td>\n",
       "      <td>0.624417</td>\n",
       "    </tr>\n",
       "    <tr>\n",
       "      <th>11</th>\n",
       "      <td>{'alpha': 0.005, 'random_state': 1}</td>\n",
       "      <td>0.624417</td>\n",
       "    </tr>\n",
       "    <tr>\n",
       "      <th>10</th>\n",
       "      <td>{'alpha': 0.005, 'random_state': 0}</td>\n",
       "      <td>0.624417</td>\n",
       "    </tr>\n",
       "    <tr>\n",
       "      <th>14</th>\n",
       "      <td>{'alpha': 0.005, 'random_state': 4}</td>\n",
       "      <td>0.624417</td>\n",
       "    </tr>\n",
       "    <tr>\n",
       "      <th>12</th>\n",
       "      <td>{'alpha': 0.005, 'random_state': 2}</td>\n",
       "      <td>0.624417</td>\n",
       "    </tr>\n",
       "    <tr>\n",
       "      <th>5</th>\n",
       "      <td>{'alpha': 0.002, 'random_state': 0}</td>\n",
       "      <td>0.624417</td>\n",
       "    </tr>\n",
       "    <tr>\n",
       "      <th>9</th>\n",
       "      <td>{'alpha': 0.002, 'random_state': 4}</td>\n",
       "      <td>0.624417</td>\n",
       "    </tr>\n",
       "    <tr>\n",
       "      <th>8</th>\n",
       "      <td>{'alpha': 0.002, 'random_state': 3}</td>\n",
       "      <td>0.624417</td>\n",
       "    </tr>\n",
       "    <tr>\n",
       "      <th>7</th>\n",
       "      <td>{'alpha': 0.002, 'random_state': 2}</td>\n",
       "      <td>0.624417</td>\n",
       "    </tr>\n",
       "    <tr>\n",
       "      <th>6</th>\n",
       "      <td>{'alpha': 0.002, 'random_state': 1}</td>\n",
       "      <td>0.624417</td>\n",
       "    </tr>\n",
       "    <tr>\n",
       "      <th>3</th>\n",
       "      <td>{'alpha': 0.001, 'random_state': 3}</td>\n",
       "      <td>0.624417</td>\n",
       "    </tr>\n",
       "    <tr>\n",
       "      <th>2</th>\n",
       "      <td>{'alpha': 0.001, 'random_state': 2}</td>\n",
       "      <td>0.624417</td>\n",
       "    </tr>\n",
       "    <tr>\n",
       "      <th>1</th>\n",
       "      <td>{'alpha': 0.001, 'random_state': 1}</td>\n",
       "      <td>0.624417</td>\n",
       "    </tr>\n",
       "    <tr>\n",
       "      <th>4</th>\n",
       "      <td>{'alpha': 0.001, 'random_state': 4}</td>\n",
       "      <td>0.624417</td>\n",
       "    </tr>\n",
       "    <tr>\n",
       "      <th>0</th>\n",
       "      <td>{'alpha': 0.001, 'random_state': 0}</td>\n",
       "      <td>0.624417</td>\n",
       "    </tr>\n",
       "  </tbody>\n",
       "</table>\n",
       "<p>80 rows × 2 columns</p>\n",
       "</div>"
      ],
      "text/plain": [
       "                                 params  mean_test_score\n",
       "79    {'alpha': 100, 'random_state': 4}         0.624825\n",
       "78    {'alpha': 100, 'random_state': 3}         0.624825\n",
       "77    {'alpha': 100, 'random_state': 2}         0.624825\n",
       "76    {'alpha': 100, 'random_state': 1}         0.624825\n",
       "75    {'alpha': 100, 'random_state': 0}         0.624825\n",
       "71     {'alpha': 50, 'random_state': 1}         0.624649\n",
       "70     {'alpha': 50, 'random_state': 0}         0.624649\n",
       "72     {'alpha': 50, 'random_state': 2}         0.624649\n",
       "73     {'alpha': 50, 'random_state': 3}         0.624649\n",
       "74     {'alpha': 50, 'random_state': 4}         0.624649\n",
       "69     {'alpha': 20, 'random_state': 4}         0.624518\n",
       "68     {'alpha': 20, 'random_state': 3}         0.624518\n",
       "67     {'alpha': 20, 'random_state': 2}         0.624518\n",
       "66     {'alpha': 20, 'random_state': 1}         0.624518\n",
       "65     {'alpha': 20, 'random_state': 0}         0.624518\n",
       "62     {'alpha': 10, 'random_state': 2}         0.624469\n",
       "60     {'alpha': 10, 'random_state': 0}         0.624469\n",
       "61     {'alpha': 10, 'random_state': 1}         0.624469\n",
       "63     {'alpha': 10, 'random_state': 3}         0.624469\n",
       "64     {'alpha': 10, 'random_state': 4}         0.624469\n",
       "59    {'alpha': 5.0, 'random_state': 4}         0.624443\n",
       "58    {'alpha': 5.0, 'random_state': 3}         0.624443\n",
       "57    {'alpha': 5.0, 'random_state': 2}         0.624443\n",
       "56    {'alpha': 5.0, 'random_state': 1}         0.624443\n",
       "55    {'alpha': 5.0, 'random_state': 0}         0.624443\n",
       "51    {'alpha': 2.0, 'random_state': 1}         0.624427\n",
       "50    {'alpha': 2.0, 'random_state': 0}         0.624427\n",
       "52    {'alpha': 2.0, 'random_state': 2}         0.624427\n",
       "53    {'alpha': 2.0, 'random_state': 3}         0.624427\n",
       "54    {'alpha': 2.0, 'random_state': 4}         0.624427\n",
       "..                                  ...              ...\n",
       "29   {'alpha': 0.05, 'random_state': 4}         0.624417\n",
       "28   {'alpha': 0.05, 'random_state': 3}         0.624417\n",
       "27   {'alpha': 0.05, 'random_state': 2}         0.624417\n",
       "26   {'alpha': 0.05, 'random_state': 1}         0.624417\n",
       "25   {'alpha': 0.05, 'random_state': 0}         0.624417\n",
       "21   {'alpha': 0.02, 'random_state': 1}         0.624417\n",
       "20   {'alpha': 0.02, 'random_state': 0}         0.624417\n",
       "22   {'alpha': 0.02, 'random_state': 2}         0.624417\n",
       "24   {'alpha': 0.02, 'random_state': 4}         0.624417\n",
       "23   {'alpha': 0.02, 'random_state': 3}         0.624417\n",
       "19   {'alpha': 0.01, 'random_state': 4}         0.624417\n",
       "18   {'alpha': 0.01, 'random_state': 3}         0.624417\n",
       "17   {'alpha': 0.01, 'random_state': 2}         0.624417\n",
       "16   {'alpha': 0.01, 'random_state': 1}         0.624417\n",
       "15   {'alpha': 0.01, 'random_state': 0}         0.624417\n",
       "13  {'alpha': 0.005, 'random_state': 3}         0.624417\n",
       "11  {'alpha': 0.005, 'random_state': 1}         0.624417\n",
       "10  {'alpha': 0.005, 'random_state': 0}         0.624417\n",
       "14  {'alpha': 0.005, 'random_state': 4}         0.624417\n",
       "12  {'alpha': 0.005, 'random_state': 2}         0.624417\n",
       "5   {'alpha': 0.002, 'random_state': 0}         0.624417\n",
       "9   {'alpha': 0.002, 'random_state': 4}         0.624417\n",
       "8   {'alpha': 0.002, 'random_state': 3}         0.624417\n",
       "7   {'alpha': 0.002, 'random_state': 2}         0.624417\n",
       "6   {'alpha': 0.002, 'random_state': 1}         0.624417\n",
       "3   {'alpha': 0.001, 'random_state': 3}         0.624417\n",
       "2   {'alpha': 0.001, 'random_state': 2}         0.624417\n",
       "1   {'alpha': 0.001, 'random_state': 1}         0.624417\n",
       "4   {'alpha': 0.001, 'random_state': 4}         0.624417\n",
       "0   {'alpha': 0.001, 'random_state': 0}         0.624417\n",
       "\n",
       "[80 rows x 2 columns]"
      ]
     },
     "execution_count": 40,
     "metadata": {},
     "output_type": "execute_result"
    }
   ],
   "source": [
    "pd.DataFrame(rr_gs_res)[[\"params\",\"mean_test_score\"]].sort_values(\"mean_test_score\", ascending=False)"
   ]
  },
  {
   "cell_type": "code",
   "execution_count": 41,
   "metadata": {},
   "outputs": [],
   "source": [
    "from sklearn.feature_selection import RFECV"
   ]
  },
  {
   "cell_type": "code",
   "execution_count": 42,
   "metadata": {},
   "outputs": [
    {
     "name": "stdout",
     "output_type": "stream",
     "text": [
      "Fitting estimator with 8 features.\n",
      "Fitting estimator with 7 features.\n",
      "Fitting estimator with 6 features.\n",
      "Fitting estimator with 5 features.\n",
      "Fitting estimator with 4 features.\n",
      "Fitting estimator with 3 features.\n",
      "Wall time: 1.23 s\n"
     ]
    }
   ],
   "source": [
    "%%time\n",
    "rr = Ridge(random_state=0)\n",
    "rr_rfe = RFECV(rr, step=1, cv=5, n_jobs=-1, verbose=2)\n",
    "rr_rfe.fit(X, y)"
   ]
  },
  {
   "cell_type": "code",
   "execution_count": 43,
   "metadata": {},
   "outputs": [
    {
     "data": {
      "text/plain": [
       "array([1, 2, 6, 5, 7, 1, 3, 4])"
      ]
     },
     "execution_count": 43,
     "metadata": {},
     "output_type": "execute_result"
    }
   ],
   "source": [
    "rr_rfe.ranking_"
   ]
  },
  {
   "cell_type": "code",
   "execution_count": 44,
   "metadata": {},
   "outputs": [
    {
     "data": {
      "text/plain": [
       "array([ True, False, False, False, False,  True, False, False])"
      ]
     },
     "execution_count": 44,
     "metadata": {},
     "output_type": "execute_result"
    }
   ],
   "source": [
    "rr_rfe.support_"
   ]
  },
  {
   "cell_type": "code",
   "execution_count": 45,
   "metadata": {},
   "outputs": [
    {
     "data": {
      "text/plain": [
       "2"
      ]
     },
     "execution_count": 45,
     "metadata": {},
     "output_type": "execute_result"
    }
   ],
   "source": [
    "rr_rfe.n_features_"
   ]
  },
  {
   "cell_type": "markdown",
   "metadata": {},
   "source": [
    "## Minimal Ridge Regression"
   ]
  },
  {
   "cell_type": "code",
   "execution_count": 46,
   "metadata": {},
   "outputs": [],
   "source": [
    "Xmin = X[[\"avg_likes\",\"comment_like_ratio\"]]"
   ]
  },
  {
   "cell_type": "code",
   "execution_count": 47,
   "metadata": {},
   "outputs": [
    {
     "data": {
      "text/plain": [
       "0.6054489875732983"
      ]
     },
     "execution_count": 47,
     "metadata": {},
     "output_type": "execute_result"
    }
   ],
   "source": [
    "rr_cv = cross_validate(rr, Xmin, y, cv=cv_gen, scoring='r2')\n",
    "rr_cv[\"test_score\"].mean()\n",
    "# paper: 0.723"
   ]
  },
  {
   "cell_type": "code",
   "execution_count": 48,
   "metadata": {},
   "outputs": [
    {
     "data": {
      "text/plain": [
       "0.8421084767757965"
      ]
     },
     "execution_count": 48,
     "metadata": {},
     "output_type": "execute_result"
    }
   ],
   "source": [
    "rr_cv = cross_validate(rr, Xmin, y, cv=cv_gen, scoring=spearmanr_scorer)\n",
    "rr_cv[\"test_score\"].mean()\n",
    "# paper: 0.818"
   ]
  },
  {
   "cell_type": "markdown",
   "metadata": {},
   "source": [
    "## Random Forest"
   ]
  },
  {
   "cell_type": "code",
   "execution_count": 43,
   "metadata": {},
   "outputs": [],
   "source": [
    "from sklearn.ensemble import RandomForestRegressor"
   ]
  },
  {
   "cell_type": "code",
   "execution_count": 44,
   "metadata": {},
   "outputs": [],
   "source": [
    "rfr = RandomForestRegressor(random_state=0)"
   ]
  },
  {
   "cell_type": "code",
   "execution_count": 45,
   "metadata": {},
   "outputs": [
    {
     "name": "stdout",
     "output_type": "stream",
     "text": [
      "CPU times: user 42 ms, sys: 43.5 ms, total: 85.5 ms\n",
      "Wall time: 4min 8s\n"
     ]
    },
    {
     "data": {
      "text/plain": [
       "0.5337963772471165"
      ]
     },
     "execution_count": 45,
     "metadata": {},
     "output_type": "execute_result"
    }
   ],
   "source": [
    "%%time\n",
    "rfr_cv = cross_validate(rfr, X, y, cv=cv_gen, scoring='r2', n_jobs=-1)\n",
    "rfr_cv[\"test_score\"].mean()\n",
    "# paper: 0.626"
   ]
  },
  {
   "cell_type": "code",
   "execution_count": 46,
   "metadata": {},
   "outputs": [
    {
     "name": "stdout",
     "output_type": "stream",
     "text": [
      "CPU times: user 42.3 ms, sys: 45.1 ms, total: 87.4 ms\n",
      "Wall time: 4min 4s\n"
     ]
    },
    {
     "data": {
      "text/plain": [
       "0.867989744529938"
      ]
     },
     "execution_count": 46,
     "metadata": {},
     "output_type": "execute_result"
    }
   ],
   "source": [
    "%%time\n",
    "rfr_cv = cross_validate(rfr, X, y, cv=cv_gen, scoring=spearmanr_scorer, n_jobs=-1)\n",
    "rfr_cv[\"test_score\"].mean()\n",
    "# paper: 0.869 "
   ]
  },
  {
   "cell_type": "code",
   "execution_count": 47,
   "metadata": {},
   "outputs": [
    {
     "name": "stdout",
     "output_type": "stream",
     "text": [
      "CPU times: user 3min 36s, sys: 1.1 s, total: 3min 37s\n",
      "Wall time: 20min 19s\n"
     ]
    },
    {
     "data": {
      "text/plain": [
       "RFECV(cv=5, estimator=RandomForestRegressor(random_state=0), n_jobs=-1,\n",
       "      verbose=2)"
      ]
     },
     "execution_count": 47,
     "metadata": {},
     "output_type": "execute_result"
    }
   ],
   "source": [
    "%%time\n",
    "rfr = RandomForestRegressor(random_state=0)\n",
    "rfr_rfe = RFECV(rfr, step=1, cv=5, n_jobs=-1, verbose=2)\n",
    "rfr_rfe.fit(X, y)"
   ]
  },
  {
   "cell_type": "code",
   "execution_count": 51,
   "metadata": {},
   "outputs": [
    {
     "data": {
      "text/plain": [
       "array([1, 1, 1, 1, 1, 1, 1, 1])"
      ]
     },
     "execution_count": 51,
     "metadata": {},
     "output_type": "execute_result"
    }
   ],
   "source": [
    "rfr_rfe.ranking_"
   ]
  },
  {
   "cell_type": "code",
   "execution_count": 52,
   "metadata": {},
   "outputs": [
    {
     "data": {
      "text/plain": [
       "array([ True,  True,  True,  True,  True,  True,  True,  True])"
      ]
     },
     "execution_count": 52,
     "metadata": {},
     "output_type": "execute_result"
    }
   ],
   "source": [
    "rfr_rfe.support_"
   ]
  },
  {
   "cell_type": "code",
   "execution_count": 53,
   "metadata": {},
   "outputs": [
    {
     "data": {
      "text/plain": [
       "8"
      ]
     },
     "execution_count": 53,
     "metadata": {},
     "output_type": "execute_result"
    }
   ],
   "source": [
    "rfr_rfe.n_features_"
   ]
  },
  {
   "cell_type": "markdown",
   "metadata": {},
   "source": [
    "## Minimal Random Forest\n",
    "\n",
    "No changes compared to full RF - recursive feauture elimination does not eliminate any features."
   ]
  },
  {
   "cell_type": "markdown",
   "metadata": {},
   "source": [
    "## Multi-Regression"
   ]
  },
  {
   "cell_type": "code",
   "execution_count": 49,
   "metadata": {},
   "outputs": [],
   "source": [
    "from sklearn.cluster import KMeans\n",
    "from sklearn.metrics import silhouette_score"
   ]
  },
  {
   "cell_type": "markdown",
   "metadata": {},
   "source": [
    "### Baselines"
   ]
  },
  {
   "cell_type": "code",
   "execution_count": 50,
   "metadata": {},
   "outputs": [
    {
     "data": {
      "text/plain": [
       "KMeans(n_clusters=2)"
      ]
     },
     "execution_count": 50,
     "metadata": {},
     "output_type": "execute_result"
    }
   ],
   "source": [
    "kmeans = KMeans(n_clusters=2)\n",
    "kmeans.fit(X[['avg_followers']],y)"
   ]
  },
  {
   "cell_type": "code",
   "execution_count": 51,
   "metadata": {},
   "outputs": [
    {
     "data": {
      "text/plain": [
       "(0.5, 1000000000)"
      ]
     },
     "execution_count": 51,
     "metadata": {},
     "output_type": "execute_result"
    },
    {
     "data": {
      "image/png": "[encoded data removed]",
      "text/plain": [
       "<Figure size 432x288 with 1 Axes>"
      ]
     },
     "metadata": {},
     "output_type": "display_data"
    }
   ],
   "source": [
    "plt.scatter(X[['avg_followers']], y, c=kmeans.labels_, cmap='winter',s=3)\n",
    "plt.xscale(\"log\")\n",
    "plt.yscale(\"log\")\n",
    "plt.xlim(0.5,1000000000)\n",
    "plt.ylim(0.5,1000000000)"
   ]
  },
  {
   "cell_type": "code",
   "execution_count": 89,
   "metadata": {},
   "outputs": [
    {
     "data": {
      "image/png": "[encoded data removed]",
      "text/plain": [
       "<Figure size 432x288 with 1 Axes>"
      ]
     },
     "metadata": {
      "needs_background": "light"
     },
     "output_type": "display_data"
    }
   ],
   "source": [
    "upper_bound = 30\n",
    "\n",
    "models = []\n",
    "inertia = []\n",
    "iterations = []\n",
    "\n",
    "for k in range(1,upper_bound+1):\n",
    "    kmeans = KMeans(n_clusters=k)\n",
    "    kmeans.fit(X_y[['avg_followers','avg_views']])\n",
    "    models.append(kmeans)\n",
    "    inertia.append(kmeans.inertia_)\n",
    "    iterations.append(kmeans.n_iter_)\n",
    "\n",
    "plt.plot(range(1,upper_bound+1),inertia)\n",
    "plt.show()"
   ]
  },
  {
   "cell_type": "code",
   "execution_count": 90,
   "metadata": {
    "collapsed": true
   },
   "outputs": [
    {
     "name": "stdout",
     "output_type": "stream",
     "text": [
      "*\n",
      "*\n",
      "*\n",
      "*\n",
      "*\n",
      "*\n",
      "*\n",
      "*\n",
      "*\n",
      "*\n"
     ]
    },
    {
     "ename": "KeyboardInterrupt",
     "evalue": "",
     "output_type": "error",
     "traceback": [
      "\u001b[0;31m---------------------------------------------------------------------------\u001b[0m",
      "\u001b[0;31mKeyboardInterrupt\u001b[0m                         Traceback (most recent call last)",
      "\u001b[0;32m<ipython-input-90-325d71de3a50>\u001b[0m in \u001b[0;36m<module>\u001b[0;34m\u001b[0m\n\u001b[1;32m      2\u001b[0m \u001b[0;32mfor\u001b[0m \u001b[0mmodel\u001b[0m \u001b[0;32min\u001b[0m  \u001b[0mmodels\u001b[0m\u001b[0;34m[\u001b[0m\u001b[0;36m1\u001b[0m\u001b[0;34m:\u001b[0m\u001b[0;34m]\u001b[0m\u001b[0;34m:\u001b[0m\u001b[0;34m\u001b[0m\u001b[0;34m\u001b[0m\u001b[0m\n\u001b[1;32m      3\u001b[0m     silhouette_scores.append(\n\u001b[0;32m----> 4\u001b[0;31m         silhouette_score(X = X_y[['avg_followers','avg_views']] , labels = model.labels_ , metric='euclidean'))\n\u001b[0m\u001b[1;32m      5\u001b[0m     \u001b[0mprint\u001b[0m\u001b[0;34m(\u001b[0m\u001b[0;34m'*'\u001b[0m\u001b[0;34m)\u001b[0m\u001b[0;34m\u001b[0m\u001b[0;34m\u001b[0m\u001b[0m\n\u001b[1;32m      6\u001b[0m \u001b[0mplt\u001b[0m\u001b[0;34m.\u001b[0m\u001b[0mplot\u001b[0m\u001b[0;34m(\u001b[0m\u001b[0mrange\u001b[0m\u001b[0;34m(\u001b[0m\u001b[0;36m2\u001b[0m\u001b[0;34m,\u001b[0m\u001b[0mupper_bound\u001b[0m\u001b[0;34m+\u001b[0m\u001b[0;36m1\u001b[0m\u001b[0;34m)\u001b[0m\u001b[0;34m,\u001b[0m\u001b[0msilhouette_scores\u001b[0m\u001b[0;34m)\u001b[0m\u001b[0;34m\u001b[0m\u001b[0;34m\u001b[0m\u001b[0m\n",
      "\u001b[0;32m~/opt/anaconda3/lib/python3.8/site-packages/sklearn/utils/validation.py\u001b[0m in \u001b[0;36minner_f\u001b[0;34m(*args, **kwargs)\u001b[0m\n\u001b[1;32m     71\u001b[0m                           FutureWarning)\n\u001b[1;32m     72\u001b[0m         \u001b[0mkwargs\u001b[0m\u001b[0;34m.\u001b[0m\u001b[0mupdate\u001b[0m\u001b[0;34m(\u001b[0m\u001b[0;34m{\u001b[0m\u001b[0mk\u001b[0m\u001b[0;34m:\u001b[0m \u001b[0marg\u001b[0m \u001b[0;32mfor\u001b[0m \u001b[0mk\u001b[0m\u001b[0;34m,\u001b[0m \u001b[0marg\u001b[0m \u001b[0;32min\u001b[0m \u001b[0mzip\u001b[0m\u001b[0;34m(\u001b[0m\u001b[0msig\u001b[0m\u001b[0;34m.\u001b[0m\u001b[0mparameters\u001b[0m\u001b[0;34m,\u001b[0m \u001b[0margs\u001b[0m\u001b[0;34m)\u001b[0m\u001b[0;34m}\u001b[0m\u001b[0;34m)\u001b[0m\u001b[0;34m\u001b[0m\u001b[0;34m\u001b[0m\u001b[0m\n\u001b[0;32m---> 73\u001b[0;31m         \u001b[0;32mreturn\u001b[0m \u001b[0mf\u001b[0m\u001b[0;34m(\u001b[0m\u001b[0;34m**\u001b[0m\u001b[0mkwargs\u001b[0m\u001b[0;34m)\u001b[0m\u001b[0;34m\u001b[0m\u001b[0;34m\u001b[0m\u001b[0m\n\u001b[0m\u001b[1;32m     74\u001b[0m     \u001b[0;32mreturn\u001b[0m \u001b[0minner_f\u001b[0m\u001b[0;34m\u001b[0m\u001b[0;34m\u001b[0m\u001b[0m\n\u001b[1;32m     75\u001b[0m \u001b[0;34m\u001b[0m\u001b[0m\n",
      "\u001b[0;32m~/opt/anaconda3/lib/python3.8/site-packages/sklearn/metrics/cluster/_unsupervised.py\u001b[0m in \u001b[0;36msilhouette_score\u001b[0;34m(X, labels, metric, sample_size, random_state, **kwds)\u001b[0m\n\u001b[1;32m    115\u001b[0m         \u001b[0;32melse\u001b[0m\u001b[0;34m:\u001b[0m\u001b[0;34m\u001b[0m\u001b[0;34m\u001b[0m\u001b[0m\n\u001b[1;32m    116\u001b[0m             \u001b[0mX\u001b[0m\u001b[0;34m,\u001b[0m \u001b[0mlabels\u001b[0m \u001b[0;34m=\u001b[0m \u001b[0mX\u001b[0m\u001b[0;34m[\u001b[0m\u001b[0mindices\u001b[0m\u001b[0;34m]\u001b[0m\u001b[0;34m,\u001b[0m \u001b[0mlabels\u001b[0m\u001b[0;34m[\u001b[0m\u001b[0mindices\u001b[0m\u001b[0;34m]\u001b[0m\u001b[0;34m\u001b[0m\u001b[0;34m\u001b[0m\u001b[0m\n\u001b[0;32m--> 117\u001b[0;31m     \u001b[0;32mreturn\u001b[0m \u001b[0mnp\u001b[0m\u001b[0;34m.\u001b[0m\u001b[0mmean\u001b[0m\u001b[0;34m(\u001b[0m\u001b[0msilhouette_samples\u001b[0m\u001b[0;34m(\u001b[0m\u001b[0mX\u001b[0m\u001b[0;34m,\u001b[0m \u001b[0mlabels\u001b[0m\u001b[0;34m,\u001b[0m \u001b[0mmetric\u001b[0m\u001b[0;34m=\u001b[0m\u001b[0mmetric\u001b[0m\u001b[0;34m,\u001b[0m \u001b[0;34m**\u001b[0m\u001b[0mkwds\u001b[0m\u001b[0;34m)\u001b[0m\u001b[0;34m)\u001b[0m\u001b[0;34m\u001b[0m\u001b[0;34m\u001b[0m\u001b[0m\n\u001b[0m\u001b[1;32m    118\u001b[0m \u001b[0;34m\u001b[0m\u001b[0m\n\u001b[1;32m    119\u001b[0m \u001b[0;34m\u001b[0m\u001b[0m\n",
      "\u001b[0;32m~/opt/anaconda3/lib/python3.8/site-packages/sklearn/utils/validation.py\u001b[0m in \u001b[0;36minner_f\u001b[0;34m(*args, **kwargs)\u001b[0m\n\u001b[1;32m     71\u001b[0m                           FutureWarning)\n\u001b[1;32m     72\u001b[0m         \u001b[0mkwargs\u001b[0m\u001b[0;34m.\u001b[0m\u001b[0mupdate\u001b[0m\u001b[0;34m(\u001b[0m\u001b[0;34m{\u001b[0m\u001b[0mk\u001b[0m\u001b[0;34m:\u001b[0m \u001b[0marg\u001b[0m \u001b[0;32mfor\u001b[0m \u001b[0mk\u001b[0m\u001b[0;34m,\u001b[0m \u001b[0marg\u001b[0m \u001b[0;32min\u001b[0m \u001b[0mzip\u001b[0m\u001b[0;34m(\u001b[0m\u001b[0msig\u001b[0m\u001b[0;34m.\u001b[0m\u001b[0mparameters\u001b[0m\u001b[0;34m,\u001b[0m \u001b[0margs\u001b[0m\u001b[0;34m)\u001b[0m\u001b[0;34m}\u001b[0m\u001b[0;34m)\u001b[0m\u001b[0;34m\u001b[0m\u001b[0;34m\u001b[0m\u001b[0m\n\u001b[0;32m---> 73\u001b[0;31m         \u001b[0;32mreturn\u001b[0m \u001b[0mf\u001b[0m\u001b[0;34m(\u001b[0m\u001b[0;34m**\u001b[0m\u001b[0mkwargs\u001b[0m\u001b[0;34m)\u001b[0m\u001b[0;34m\u001b[0m\u001b[0;34m\u001b[0m\u001b[0m\n\u001b[0m\u001b[1;32m     74\u001b[0m     \u001b[0;32mreturn\u001b[0m \u001b[0minner_f\u001b[0m\u001b[0;34m\u001b[0m\u001b[0;34m\u001b[0m\u001b[0m\n\u001b[1;32m     75\u001b[0m \u001b[0;34m\u001b[0m\u001b[0m\n",
      "\u001b[0;32m~/opt/anaconda3/lib/python3.8/site-packages/sklearn/metrics/cluster/_unsupervised.py\u001b[0m in \u001b[0;36msilhouette_samples\u001b[0;34m(X, labels, metric, **kwds)\u001b[0m\n\u001b[1;32m    232\u001b[0m     reduce_func = functools.partial(_silhouette_reduce,\n\u001b[1;32m    233\u001b[0m                                     labels=labels, label_freqs=label_freqs)\n\u001b[0;32m--> 234\u001b[0;31m     results = zip(*pairwise_distances_chunked(X, reduce_func=reduce_func,\n\u001b[0m\u001b[1;32m    235\u001b[0m                                               **kwds))\n\u001b[1;32m    236\u001b[0m     \u001b[0mintra_clust_dists\u001b[0m\u001b[0;34m,\u001b[0m \u001b[0minter_clust_dists\u001b[0m \u001b[0;34m=\u001b[0m \u001b[0mresults\u001b[0m\u001b[0;34m\u001b[0m\u001b[0;34m\u001b[0m\u001b[0m\n",
      "\u001b[0;32m~/opt/anaconda3/lib/python3.8/site-packages/sklearn/metrics/pairwise.py\u001b[0m in \u001b[0;36mpairwise_distances_chunked\u001b[0;34m(X, Y, reduce_func, metric, n_jobs, working_memory, **kwds)\u001b[0m\n\u001b[1;32m   1610\u001b[0m         \u001b[0;32melse\u001b[0m\u001b[0;34m:\u001b[0m\u001b[0;34m\u001b[0m\u001b[0;34m\u001b[0m\u001b[0m\n\u001b[1;32m   1611\u001b[0m             \u001b[0mX_chunk\u001b[0m \u001b[0;34m=\u001b[0m \u001b[0mX\u001b[0m\u001b[0;34m[\u001b[0m\u001b[0msl\u001b[0m\u001b[0;34m]\u001b[0m\u001b[0;34m\u001b[0m\u001b[0;34m\u001b[0m\u001b[0m\n\u001b[0;32m-> 1612\u001b[0;31m         D_chunk = pairwise_distances(X_chunk, Y, metric=metric,\n\u001b[0m\u001b[1;32m   1613\u001b[0m                                      n_jobs=n_jobs, **kwds)\n\u001b[1;32m   1614\u001b[0m         if ((X is Y or Y is None)\n",
      "\u001b[0;32m~/opt/anaconda3/lib/python3.8/site-packages/sklearn/utils/validation.py\u001b[0m in \u001b[0;36minner_f\u001b[0;34m(*args, **kwargs)\u001b[0m\n\u001b[1;32m     71\u001b[0m                           FutureWarning)\n\u001b[1;32m     72\u001b[0m         \u001b[0mkwargs\u001b[0m\u001b[0;34m.\u001b[0m\u001b[0mupdate\u001b[0m\u001b[0;34m(\u001b[0m\u001b[0;34m{\u001b[0m\u001b[0mk\u001b[0m\u001b[0;34m:\u001b[0m \u001b[0marg\u001b[0m \u001b[0;32mfor\u001b[0m \u001b[0mk\u001b[0m\u001b[0;34m,\u001b[0m \u001b[0marg\u001b[0m \u001b[0;32min\u001b[0m \u001b[0mzip\u001b[0m\u001b[0;34m(\u001b[0m\u001b[0msig\u001b[0m\u001b[0;34m.\u001b[0m\u001b[0mparameters\u001b[0m\u001b[0;34m,\u001b[0m \u001b[0margs\u001b[0m\u001b[0;34m)\u001b[0m\u001b[0;34m}\u001b[0m\u001b[0;34m)\u001b[0m\u001b[0;34m\u001b[0m\u001b[0;34m\u001b[0m\u001b[0m\n\u001b[0;32m---> 73\u001b[0;31m         \u001b[0;32mreturn\u001b[0m \u001b[0mf\u001b[0m\u001b[0;34m(\u001b[0m\u001b[0;34m**\u001b[0m\u001b[0mkwargs\u001b[0m\u001b[0;34m)\u001b[0m\u001b[0;34m\u001b[0m\u001b[0;34m\u001b[0m\u001b[0m\n\u001b[0m\u001b[1;32m     74\u001b[0m     \u001b[0;32mreturn\u001b[0m \u001b[0minner_f\u001b[0m\u001b[0;34m\u001b[0m\u001b[0;34m\u001b[0m\u001b[0m\n\u001b[1;32m     75\u001b[0m \u001b[0;34m\u001b[0m\u001b[0m\n",
      "\u001b[0;32m~/opt/anaconda3/lib/python3.8/site-packages/sklearn/metrics/pairwise.py\u001b[0m in \u001b[0;36mpairwise_distances\u001b[0;34m(X, Y, metric, n_jobs, force_all_finite, **kwds)\u001b[0m\n\u001b[1;32m   1773\u001b[0m         \u001b[0mfunc\u001b[0m \u001b[0;34m=\u001b[0m \u001b[0mpartial\u001b[0m\u001b[0;34m(\u001b[0m\u001b[0mdistance\u001b[0m\u001b[0;34m.\u001b[0m\u001b[0mcdist\u001b[0m\u001b[0;34m,\u001b[0m \u001b[0mmetric\u001b[0m\u001b[0;34m=\u001b[0m\u001b[0mmetric\u001b[0m\u001b[0;34m,\u001b[0m \u001b[0;34m**\u001b[0m\u001b[0mkwds\u001b[0m\u001b[0;34m)\u001b[0m\u001b[0;34m\u001b[0m\u001b[0;34m\u001b[0m\u001b[0m\n\u001b[1;32m   1774\u001b[0m \u001b[0;34m\u001b[0m\u001b[0m\n\u001b[0;32m-> 1775\u001b[0;31m     \u001b[0;32mreturn\u001b[0m \u001b[0m_parallel_pairwise\u001b[0m\u001b[0;34m(\u001b[0m\u001b[0mX\u001b[0m\u001b[0;34m,\u001b[0m \u001b[0mY\u001b[0m\u001b[0;34m,\u001b[0m \u001b[0mfunc\u001b[0m\u001b[0;34m,\u001b[0m \u001b[0mn_jobs\u001b[0m\u001b[0;34m,\u001b[0m \u001b[0;34m**\u001b[0m\u001b[0mkwds\u001b[0m\u001b[0;34m)\u001b[0m\u001b[0;34m\u001b[0m\u001b[0;34m\u001b[0m\u001b[0m\n\u001b[0m\u001b[1;32m   1776\u001b[0m \u001b[0;34m\u001b[0m\u001b[0m\n\u001b[1;32m   1777\u001b[0m \u001b[0;34m\u001b[0m\u001b[0m\n",
      "\u001b[0;32m~/opt/anaconda3/lib/python3.8/site-packages/sklearn/metrics/pairwise.py\u001b[0m in \u001b[0;36m_parallel_pairwise\u001b[0;34m(X, Y, func, n_jobs, **kwds)\u001b[0m\n\u001b[1;32m   1357\u001b[0m \u001b[0;34m\u001b[0m\u001b[0m\n\u001b[1;32m   1358\u001b[0m     \u001b[0;32mif\u001b[0m \u001b[0meffective_n_jobs\u001b[0m\u001b[0;34m(\u001b[0m\u001b[0mn_jobs\u001b[0m\u001b[0;34m)\u001b[0m \u001b[0;34m==\u001b[0m \u001b[0;36m1\u001b[0m\u001b[0;34m:\u001b[0m\u001b[0;34m\u001b[0m\u001b[0;34m\u001b[0m\u001b[0m\n\u001b[0;32m-> 1359\u001b[0;31m         \u001b[0;32mreturn\u001b[0m \u001b[0mfunc\u001b[0m\u001b[0;34m(\u001b[0m\u001b[0mX\u001b[0m\u001b[0;34m,\u001b[0m \u001b[0mY\u001b[0m\u001b[0;34m,\u001b[0m \u001b[0;34m**\u001b[0m\u001b[0mkwds\u001b[0m\u001b[0;34m)\u001b[0m\u001b[0;34m\u001b[0m\u001b[0;34m\u001b[0m\u001b[0m\n\u001b[0m\u001b[1;32m   1360\u001b[0m \u001b[0;34m\u001b[0m\u001b[0m\n\u001b[1;32m   1361\u001b[0m     \u001b[0;31m# enforce a threading backend to prevent data communication overhead\u001b[0m\u001b[0;34m\u001b[0m\u001b[0;34m\u001b[0m\u001b[0;34m\u001b[0m\u001b[0m\n",
      "\u001b[0;32m~/opt/anaconda3/lib/python3.8/site-packages/sklearn/utils/validation.py\u001b[0m in \u001b[0;36minner_f\u001b[0;34m(*args, **kwargs)\u001b[0m\n\u001b[1;32m     71\u001b[0m                           FutureWarning)\n\u001b[1;32m     72\u001b[0m         \u001b[0mkwargs\u001b[0m\u001b[0;34m.\u001b[0m\u001b[0mupdate\u001b[0m\u001b[0;34m(\u001b[0m\u001b[0;34m{\u001b[0m\u001b[0mk\u001b[0m\u001b[0;34m:\u001b[0m \u001b[0marg\u001b[0m \u001b[0;32mfor\u001b[0m \u001b[0mk\u001b[0m\u001b[0;34m,\u001b[0m \u001b[0marg\u001b[0m \u001b[0;32min\u001b[0m \u001b[0mzip\u001b[0m\u001b[0;34m(\u001b[0m\u001b[0msig\u001b[0m\u001b[0;34m.\u001b[0m\u001b[0mparameters\u001b[0m\u001b[0;34m,\u001b[0m \u001b[0margs\u001b[0m\u001b[0;34m)\u001b[0m\u001b[0;34m}\u001b[0m\u001b[0;34m)\u001b[0m\u001b[0;34m\u001b[0m\u001b[0;34m\u001b[0m\u001b[0m\n\u001b[0;32m---> 73\u001b[0;31m         \u001b[0;32mreturn\u001b[0m \u001b[0mf\u001b[0m\u001b[0;34m(\u001b[0m\u001b[0;34m**\u001b[0m\u001b[0mkwargs\u001b[0m\u001b[0;34m)\u001b[0m\u001b[0;34m\u001b[0m\u001b[0;34m\u001b[0m\u001b[0m\n\u001b[0m\u001b[1;32m     74\u001b[0m     \u001b[0;32mreturn\u001b[0m \u001b[0minner_f\u001b[0m\u001b[0;34m\u001b[0m\u001b[0;34m\u001b[0m\u001b[0m\n\u001b[1;32m     75\u001b[0m \u001b[0;34m\u001b[0m\u001b[0m\n",
      "\u001b[0;32m~/opt/anaconda3/lib/python3.8/site-packages/sklearn/metrics/pairwise.py\u001b[0m in \u001b[0;36meuclidean_distances\u001b[0;34m(X, Y, Y_norm_squared, squared, X_norm_squared)\u001b[0m\n\u001b[1;32m    317\u001b[0m         \u001b[0mnp\u001b[0m\u001b[0;34m.\u001b[0m\u001b[0mfill_diagonal\u001b[0m\u001b[0;34m(\u001b[0m\u001b[0mdistances\u001b[0m\u001b[0;34m,\u001b[0m \u001b[0;36m0\u001b[0m\u001b[0;34m)\u001b[0m\u001b[0;34m\u001b[0m\u001b[0;34m\u001b[0m\u001b[0m\n\u001b[1;32m    318\u001b[0m \u001b[0;34m\u001b[0m\u001b[0m\n\u001b[0;32m--> 319\u001b[0;31m     \u001b[0;32mreturn\u001b[0m \u001b[0mdistances\u001b[0m \u001b[0;32mif\u001b[0m \u001b[0msquared\u001b[0m \u001b[0;32melse\u001b[0m \u001b[0mnp\u001b[0m\u001b[0;34m.\u001b[0m\u001b[0msqrt\u001b[0m\u001b[0;34m(\u001b[0m\u001b[0mdistances\u001b[0m\u001b[0;34m,\u001b[0m \u001b[0mout\u001b[0m\u001b[0;34m=\u001b[0m\u001b[0mdistances\u001b[0m\u001b[0;34m)\u001b[0m\u001b[0;34m\u001b[0m\u001b[0;34m\u001b[0m\u001b[0m\n\u001b[0m\u001b[1;32m    320\u001b[0m \u001b[0;34m\u001b[0m\u001b[0m\n\u001b[1;32m    321\u001b[0m \u001b[0;34m\u001b[0m\u001b[0m\n",
      "\u001b[0;31mKeyboardInterrupt\u001b[0m: "
     ]
    }
   ],
   "source": [
    "silhouette_scores = []\n",
    "for model in  models[1:]:\n",
    "    silhouette_scores.append(\n",
    "        silhouette_score(X = X_y[['avg_followers','avg_views']] , labels = model.labels_ , metric='euclidean'))\n",
    "    print('*')\n",
    "plt.plot(range(2,upper_bound+1),silhouette_scores)\n",
    "plt.show()"
   ]
  },
  {
   "cell_type": "code",
   "execution_count": 91,
   "metadata": {},
   "outputs": [
    {
     "data": {
      "text/plain": [
       "[0.9968915338303932,\n",
       " 0.9894194087558161,\n",
       " 0.9894294843231253,\n",
       " 0.9768492781044915,\n",
       " 0.9603744707896552,\n",
       " 0.9624776558833047,\n",
       " 0.9637271761488337,\n",
       " 0.9615535912436831,\n",
       " 0.958967585172242,\n",
       " 0.9383551013426222]"
      ]
     },
     "execution_count": 91,
     "metadata": {},
     "output_type": "execute_result"
    }
   ],
   "source": [
    "silhouette_scores"
   ]
  },
  {
   "cell_type": "code",
   "execution_count": 92,
   "metadata": {},
   "outputs": [
    {
     "data": {
      "text/plain": [
       "KMeans(n_clusters=2)"
      ]
     },
     "execution_count": 92,
     "metadata": {},
     "output_type": "execute_result"
    }
   ],
   "source": [
    "def argmax(iterable):\n",
    "    return max(enumerate(iterable), key=lambda x: x[1])[0]\n",
    "\n",
    "kmeans = models[argmax(silhouette_scores)+1] \n",
    "kmeans"
   ]
  },
  {
   "cell_type": "code",
   "execution_count": 52,
   "metadata": {},
   "outputs": [],
   "source": [
    "y = kmeans.labels_\n",
    "cluster_1 = X_y[y == 0] \n",
    "cluster_2 = X_y[y == 1] "
   ]
  },
  {
   "cell_type": "code",
   "execution_count": 53,
   "metadata": {},
   "outputs": [],
   "source": [
    "y1 = cluster_1[\"avg_views\"]\n",
    "X1 = cluster_1[[\"avg_followers\"]]\n",
    "y2 = cluster_2[\"avg_views\"]\n",
    "X2 = cluster_2[[\"avg_followers\"]]"
   ]
  },
  {
   "cell_type": "code",
   "execution_count": 54,
   "metadata": {},
   "outputs": [],
   "source": [
    "follower_base_multi1 = LinearRegression()\n",
    "follower_base_multi1.fit(X1, y1)\n",
    "y_pred_multi1 = follower_base_multi1.predict(X1)"
   ]
  },
  {
   "cell_type": "code",
   "execution_count": 55,
   "metadata": {},
   "outputs": [],
   "source": [
    "follower_base_multi2 = LinearRegression()\n",
    "follower_base_multi2.fit(X2, y2)\n",
    "y_pred_multi2 = follower_base_multi2.predict(X2)"
   ]
  },
  {
   "cell_type": "code",
   "execution_count": 56,
   "metadata": {},
   "outputs": [
    {
     "name": "stdout",
     "output_type": "stream",
     "text": [
      "R2 0.28177112318040853 +/- 0.0183823488795634\n",
      "Paper: 0.204\n"
     ]
    }
   ],
   "source": [
    "r2s = []\n",
    "\n",
    "for i in range(100):\n",
    "    cv = KFold(5, shuffle=True, random_state=i)\n",
    "    follower_base_cv = cross_validate(follower_base_multi1, X1, y1, cv=cv, scoring='r2')\n",
    "    r2 =follower_base_cv[\"test_score\"].mean()\n",
    "    r2s.append(r2)\n",
    "    \n",
    "m1=np.mean(r2s)\n",
    "    \n",
    "print(\"R2\", np.mean(r2s), \"+/-\", np.std(r2s))\n",
    "print(\"Paper: 0.204\")"
   ]
  },
  {
   "cell_type": "code",
   "execution_count": 57,
   "metadata": {},
   "outputs": [
    {
     "name": "stderr",
     "output_type": "stream",
     "text": [
      "C:\\Users\\Laurin\\Anaconda3\\lib\\site-packages\\sklearn\\metrics\\_regression.py:594: UndefinedMetricWarning: R^2 score is not well-defined with less than two samples.\n",
      "  warnings.warn(msg, UndefinedMetricWarning)\n",
      "C:\\Users\\Laurin\\Anaconda3\\lib\\site-packages\\sklearn\\metrics\\_regression.py:594: UndefinedMetricWarning: R^2 score is not well-defined with less than two samples.\n",
      "  warnings.warn(msg, UndefinedMetricWarning)\n",
      "C:\\Users\\Laurin\\Anaconda3\\lib\\site-packages\\sklearn\\metrics\\_regression.py:594: UndefinedMetricWarning: R^2 score is not well-defined with less than two samples.\n",
      "  warnings.warn(msg, UndefinedMetricWarning)\n",
      "C:\\Users\\Laurin\\Anaconda3\\lib\\site-packages\\sklearn\\metrics\\_regression.py:594: UndefinedMetricWarning: R^2 score is not well-defined with less than two samples.\n",
      "  warnings.warn(msg, UndefinedMetricWarning)\n",
      "C:\\Users\\Laurin\\Anaconda3\\lib\\site-packages\\sklearn\\metrics\\_regression.py:594: UndefinedMetricWarning: R^2 score is not well-defined with less than two samples.\n",
      "  warnings.warn(msg, UndefinedMetricWarning)\n",
      "C:\\Users\\Laurin\\Anaconda3\\lib\\site-packages\\sklearn\\metrics\\_regression.py:594: UndefinedMetricWarning: R^2 score is not well-defined with less than two samples.\n",
      "  warnings.warn(msg, UndefinedMetricWarning)\n",
      "C:\\Users\\Laurin\\Anaconda3\\lib\\site-packages\\sklearn\\metrics\\_regression.py:594: UndefinedMetricWarning: R^2 score is not well-defined with less than two samples.\n",
      "  warnings.warn(msg, UndefinedMetricWarning)\n",
      "C:\\Users\\Laurin\\Anaconda3\\lib\\site-packages\\sklearn\\metrics\\_regression.py:594: UndefinedMetricWarning: R^2 score is not well-defined with less than two samples.\n",
      "  warnings.warn(msg, UndefinedMetricWarning)\n",
      "C:\\Users\\Laurin\\Anaconda3\\lib\\site-packages\\sklearn\\metrics\\_regression.py:594: UndefinedMetricWarning: R^2 score is not well-defined with less than two samples.\n",
      "  warnings.warn(msg, UndefinedMetricWarning)\n",
      "C:\\Users\\Laurin\\Anaconda3\\lib\\site-packages\\sklearn\\metrics\\_regression.py:594: UndefinedMetricWarning: R^2 score is not well-defined with less than two samples.\n",
      "  warnings.warn(msg, UndefinedMetricWarning)\n",
      "C:\\Users\\Laurin\\Anaconda3\\lib\\site-packages\\sklearn\\metrics\\_regression.py:594: UndefinedMetricWarning: R^2 score is not well-defined with less than two samples.\n",
      "  warnings.warn(msg, UndefinedMetricWarning)\n",
      "C:\\Users\\Laurin\\Anaconda3\\lib\\site-packages\\sklearn\\metrics\\_regression.py:594: UndefinedMetricWarning: R^2 score is not well-defined with less than two samples.\n",
      "  warnings.warn(msg, UndefinedMetricWarning)\n",
      "C:\\Users\\Laurin\\Anaconda3\\lib\\site-packages\\sklearn\\metrics\\_regression.py:594: UndefinedMetricWarning: R^2 score is not well-defined with less than two samples.\n",
      "  warnings.warn(msg, UndefinedMetricWarning)\n",
      "C:\\Users\\Laurin\\Anaconda3\\lib\\site-packages\\sklearn\\metrics\\_regression.py:594: UndefinedMetricWarning: R^2 score is not well-defined with less than two samples.\n",
      "  warnings.warn(msg, UndefinedMetricWarning)\n",
      "C:\\Users\\Laurin\\Anaconda3\\lib\\site-packages\\sklearn\\metrics\\_regression.py:594: UndefinedMetricWarning: R^2 score is not well-defined with less than two samples.\n",
      "  warnings.warn(msg, UndefinedMetricWarning)\n",
      "C:\\Users\\Laurin\\Anaconda3\\lib\\site-packages\\sklearn\\metrics\\_regression.py:594: UndefinedMetricWarning: R^2 score is not well-defined with less than two samples.\n",
      "  warnings.warn(msg, UndefinedMetricWarning)\n",
      "C:\\Users\\Laurin\\Anaconda3\\lib\\site-packages\\sklearn\\metrics\\_regression.py:594: UndefinedMetricWarning: R^2 score is not well-defined with less than two samples.\n",
      "  warnings.warn(msg, UndefinedMetricWarning)\n",
      "C:\\Users\\Laurin\\Anaconda3\\lib\\site-packages\\sklearn\\metrics\\_regression.py:594: UndefinedMetricWarning: R^2 score is not well-defined with less than two samples.\n",
      "  warnings.warn(msg, UndefinedMetricWarning)\n",
      "C:\\Users\\Laurin\\Anaconda3\\lib\\site-packages\\sklearn\\metrics\\_regression.py:594: UndefinedMetricWarning: R^2 score is not well-defined with less than two samples.\n",
      "  warnings.warn(msg, UndefinedMetricWarning)\n",
      "C:\\Users\\Laurin\\Anaconda3\\lib\\site-packages\\sklearn\\metrics\\_regression.py:594: UndefinedMetricWarning: R^2 score is not well-defined with less than two samples.\n",
      "  warnings.warn(msg, UndefinedMetricWarning)\n",
      "C:\\Users\\Laurin\\Anaconda3\\lib\\site-packages\\sklearn\\metrics\\_regression.py:594: UndefinedMetricWarning: R^2 score is not well-defined with less than two samples.\n",
      "  warnings.warn(msg, UndefinedMetricWarning)\n",
      "C:\\Users\\Laurin\\Anaconda3\\lib\\site-packages\\sklearn\\metrics\\_regression.py:594: UndefinedMetricWarning: R^2 score is not well-defined with less than two samples.\n",
      "  warnings.warn(msg, UndefinedMetricWarning)\n",
      "C:\\Users\\Laurin\\Anaconda3\\lib\\site-packages\\sklearn\\metrics\\_regression.py:594: UndefinedMetricWarning: R^2 score is not well-defined with less than two samples.\n",
      "  warnings.warn(msg, UndefinedMetricWarning)\n",
      "C:\\Users\\Laurin\\Anaconda3\\lib\\site-packages\\sklearn\\metrics\\_regression.py:594: UndefinedMetricWarning: R^2 score is not well-defined with less than two samples.\n",
      "  warnings.warn(msg, UndefinedMetricWarning)\n",
      "C:\\Users\\Laurin\\Anaconda3\\lib\\site-packages\\sklearn\\metrics\\_regression.py:594: UndefinedMetricWarning: R^2 score is not well-defined with less than two samples.\n",
      "  warnings.warn(msg, UndefinedMetricWarning)\n",
      "C:\\Users\\Laurin\\Anaconda3\\lib\\site-packages\\sklearn\\metrics\\_regression.py:594: UndefinedMetricWarning: R^2 score is not well-defined with less than two samples.\n",
      "  warnings.warn(msg, UndefinedMetricWarning)\n",
      "C:\\Users\\Laurin\\Anaconda3\\lib\\site-packages\\sklearn\\metrics\\_regression.py:594: UndefinedMetricWarning: R^2 score is not well-defined with less than two samples.\n",
      "  warnings.warn(msg, UndefinedMetricWarning)\n",
      "C:\\Users\\Laurin\\Anaconda3\\lib\\site-packages\\sklearn\\metrics\\_regression.py:594: UndefinedMetricWarning: R^2 score is not well-defined with less than two samples.\n",
      "  warnings.warn(msg, UndefinedMetricWarning)\n",
      "C:\\Users\\Laurin\\Anaconda3\\lib\\site-packages\\sklearn\\metrics\\_regression.py:594: UndefinedMetricWarning: R^2 score is not well-defined with less than two samples.\n",
      "  warnings.warn(msg, UndefinedMetricWarning)\n",
      "C:\\Users\\Laurin\\Anaconda3\\lib\\site-packages\\sklearn\\metrics\\_regression.py:594: UndefinedMetricWarning: R^2 score is not well-defined with less than two samples.\n",
      "  warnings.warn(msg, UndefinedMetricWarning)\n",
      "C:\\Users\\Laurin\\Anaconda3\\lib\\site-packages\\sklearn\\metrics\\_regression.py:594: UndefinedMetricWarning: R^2 score is not well-defined with less than two samples.\n",
      "  warnings.warn(msg, UndefinedMetricWarning)\n",
      "C:\\Users\\Laurin\\Anaconda3\\lib\\site-packages\\sklearn\\metrics\\_regression.py:594: UndefinedMetricWarning: R^2 score is not well-defined with less than two samples.\n",
      "  warnings.warn(msg, UndefinedMetricWarning)\n",
      "C:\\Users\\Laurin\\Anaconda3\\lib\\site-packages\\sklearn\\metrics\\_regression.py:594: UndefinedMetricWarning: R^2 score is not well-defined with less than two samples.\n",
      "  warnings.warn(msg, UndefinedMetricWarning)\n",
      "C:\\Users\\Laurin\\Anaconda3\\lib\\site-packages\\sklearn\\metrics\\_regression.py:594: UndefinedMetricWarning: R^2 score is not well-defined with less than two samples.\n",
      "  warnings.warn(msg, UndefinedMetricWarning)\n",
      "C:\\Users\\Laurin\\Anaconda3\\lib\\site-packages\\sklearn\\metrics\\_regression.py:594: UndefinedMetricWarning: R^2 score is not well-defined with less than two samples.\n",
      "  warnings.warn(msg, UndefinedMetricWarning)\n",
      "C:\\Users\\Laurin\\Anaconda3\\lib\\site-packages\\sklearn\\metrics\\_regression.py:594: UndefinedMetricWarning: R^2 score is not well-defined with less than two samples.\n",
      "  warnings.warn(msg, UndefinedMetricWarning)\n",
      "C:\\Users\\Laurin\\Anaconda3\\lib\\site-packages\\sklearn\\metrics\\_regression.py:594: UndefinedMetricWarning: R^2 score is not well-defined with less than two samples.\n",
      "  warnings.warn(msg, UndefinedMetricWarning)\n",
      "C:\\Users\\Laurin\\Anaconda3\\lib\\site-packages\\sklearn\\metrics\\_regression.py:594: UndefinedMetricWarning: R^2 score is not well-defined with less than two samples.\n",
      "  warnings.warn(msg, UndefinedMetricWarning)\n",
      "C:\\Users\\Laurin\\Anaconda3\\lib\\site-packages\\sklearn\\metrics\\_regression.py:594: UndefinedMetricWarning: R^2 score is not well-defined with less than two samples.\n",
      "  warnings.warn(msg, UndefinedMetricWarning)\n",
      "C:\\Users\\Laurin\\Anaconda3\\lib\\site-packages\\sklearn\\metrics\\_regression.py:594: UndefinedMetricWarning: R^2 score is not well-defined with less than two samples.\n",
      "  warnings.warn(msg, UndefinedMetricWarning)\n",
      "C:\\Users\\Laurin\\Anaconda3\\lib\\site-packages\\sklearn\\metrics\\_regression.py:594: UndefinedMetricWarning: R^2 score is not well-defined with less than two samples.\n",
      "  warnings.warn(msg, UndefinedMetricWarning)\n",
      "C:\\Users\\Laurin\\Anaconda3\\lib\\site-packages\\sklearn\\metrics\\_regression.py:594: UndefinedMetricWarning: R^2 score is not well-defined with less than two samples.\n",
      "  warnings.warn(msg, UndefinedMetricWarning)\n",
      "C:\\Users\\Laurin\\Anaconda3\\lib\\site-packages\\sklearn\\metrics\\_regression.py:594: UndefinedMetricWarning: R^2 score is not well-defined with less than two samples.\n",
      "  warnings.warn(msg, UndefinedMetricWarning)\n",
      "C:\\Users\\Laurin\\Anaconda3\\lib\\site-packages\\sklearn\\metrics\\_regression.py:594: UndefinedMetricWarning: R^2 score is not well-defined with less than two samples.\n",
      "  warnings.warn(msg, UndefinedMetricWarning)\n",
      "C:\\Users\\Laurin\\Anaconda3\\lib\\site-packages\\sklearn\\metrics\\_regression.py:594: UndefinedMetricWarning: R^2 score is not well-defined with less than two samples.\n",
      "  warnings.warn(msg, UndefinedMetricWarning)\n",
      "C:\\Users\\Laurin\\Anaconda3\\lib\\site-packages\\sklearn\\metrics\\_regression.py:594: UndefinedMetricWarning: R^2 score is not well-defined with less than two samples.\n",
      "  warnings.warn(msg, UndefinedMetricWarning)\n",
      "C:\\Users\\Laurin\\Anaconda3\\lib\\site-packages\\sklearn\\metrics\\_regression.py:594: UndefinedMetricWarning: R^2 score is not well-defined with less than two samples.\n",
      "  warnings.warn(msg, UndefinedMetricWarning)\n",
      "C:\\Users\\Laurin\\Anaconda3\\lib\\site-packages\\sklearn\\metrics\\_regression.py:594: UndefinedMetricWarning: R^2 score is not well-defined with less than two samples.\n",
      "  warnings.warn(msg, UndefinedMetricWarning)\n",
      "C:\\Users\\Laurin\\Anaconda3\\lib\\site-packages\\sklearn\\metrics\\_regression.py:594: UndefinedMetricWarning: R^2 score is not well-defined with less than two samples.\n",
      "  warnings.warn(msg, UndefinedMetricWarning)\n",
      "C:\\Users\\Laurin\\Anaconda3\\lib\\site-packages\\sklearn\\metrics\\_regression.py:594: UndefinedMetricWarning: R^2 score is not well-defined with less than two samples.\n",
      "  warnings.warn(msg, UndefinedMetricWarning)\n",
      "C:\\Users\\Laurin\\Anaconda3\\lib\\site-packages\\sklearn\\metrics\\_regression.py:594: UndefinedMetricWarning: R^2 score is not well-defined with less than two samples.\n",
      "  warnings.warn(msg, UndefinedMetricWarning)\n",
      "C:\\Users\\Laurin\\Anaconda3\\lib\\site-packages\\sklearn\\metrics\\_regression.py:594: UndefinedMetricWarning: R^2 score is not well-defined with less than two samples.\n",
      "  warnings.warn(msg, UndefinedMetricWarning)\n",
      "C:\\Users\\Laurin\\Anaconda3\\lib\\site-packages\\sklearn\\metrics\\_regression.py:594: UndefinedMetricWarning: R^2 score is not well-defined with less than two samples.\n",
      "  warnings.warn(msg, UndefinedMetricWarning)\n",
      "C:\\Users\\Laurin\\Anaconda3\\lib\\site-packages\\sklearn\\metrics\\_regression.py:594: UndefinedMetricWarning: R^2 score is not well-defined with less than two samples.\n",
      "  warnings.warn(msg, UndefinedMetricWarning)\n"
     ]
    },
    {
     "name": "stderr",
     "output_type": "stream",
     "text": [
      "C:\\Users\\Laurin\\Anaconda3\\lib\\site-packages\\sklearn\\metrics\\_regression.py:594: UndefinedMetricWarning: R^2 score is not well-defined with less than two samples.\n",
      "  warnings.warn(msg, UndefinedMetricWarning)\n",
      "C:\\Users\\Laurin\\Anaconda3\\lib\\site-packages\\sklearn\\metrics\\_regression.py:594: UndefinedMetricWarning: R^2 score is not well-defined with less than two samples.\n",
      "  warnings.warn(msg, UndefinedMetricWarning)\n",
      "C:\\Users\\Laurin\\Anaconda3\\lib\\site-packages\\sklearn\\metrics\\_regression.py:594: UndefinedMetricWarning: R^2 score is not well-defined with less than two samples.\n",
      "  warnings.warn(msg, UndefinedMetricWarning)\n",
      "C:\\Users\\Laurin\\Anaconda3\\lib\\site-packages\\sklearn\\metrics\\_regression.py:594: UndefinedMetricWarning: R^2 score is not well-defined with less than two samples.\n",
      "  warnings.warn(msg, UndefinedMetricWarning)\n",
      "C:\\Users\\Laurin\\Anaconda3\\lib\\site-packages\\sklearn\\metrics\\_regression.py:594: UndefinedMetricWarning: R^2 score is not well-defined with less than two samples.\n",
      "  warnings.warn(msg, UndefinedMetricWarning)\n",
      "C:\\Users\\Laurin\\Anaconda3\\lib\\site-packages\\sklearn\\metrics\\_regression.py:594: UndefinedMetricWarning: R^2 score is not well-defined with less than two samples.\n",
      "  warnings.warn(msg, UndefinedMetricWarning)\n",
      "C:\\Users\\Laurin\\Anaconda3\\lib\\site-packages\\sklearn\\metrics\\_regression.py:594: UndefinedMetricWarning: R^2 score is not well-defined with less than two samples.\n",
      "  warnings.warn(msg, UndefinedMetricWarning)\n",
      "C:\\Users\\Laurin\\Anaconda3\\lib\\site-packages\\sklearn\\metrics\\_regression.py:594: UndefinedMetricWarning: R^2 score is not well-defined with less than two samples.\n",
      "  warnings.warn(msg, UndefinedMetricWarning)\n",
      "C:\\Users\\Laurin\\Anaconda3\\lib\\site-packages\\sklearn\\metrics\\_regression.py:594: UndefinedMetricWarning: R^2 score is not well-defined with less than two samples.\n",
      "  warnings.warn(msg, UndefinedMetricWarning)\n",
      "C:\\Users\\Laurin\\Anaconda3\\lib\\site-packages\\sklearn\\metrics\\_regression.py:594: UndefinedMetricWarning: R^2 score is not well-defined with less than two samples.\n",
      "  warnings.warn(msg, UndefinedMetricWarning)\n",
      "C:\\Users\\Laurin\\Anaconda3\\lib\\site-packages\\sklearn\\metrics\\_regression.py:594: UndefinedMetricWarning: R^2 score is not well-defined with less than two samples.\n",
      "  warnings.warn(msg, UndefinedMetricWarning)\n",
      "C:\\Users\\Laurin\\Anaconda3\\lib\\site-packages\\sklearn\\metrics\\_regression.py:594: UndefinedMetricWarning: R^2 score is not well-defined with less than two samples.\n",
      "  warnings.warn(msg, UndefinedMetricWarning)\n",
      "C:\\Users\\Laurin\\Anaconda3\\lib\\site-packages\\sklearn\\metrics\\_regression.py:594: UndefinedMetricWarning: R^2 score is not well-defined with less than two samples.\n",
      "  warnings.warn(msg, UndefinedMetricWarning)\n",
      "C:\\Users\\Laurin\\Anaconda3\\lib\\site-packages\\sklearn\\metrics\\_regression.py:594: UndefinedMetricWarning: R^2 score is not well-defined with less than two samples.\n",
      "  warnings.warn(msg, UndefinedMetricWarning)\n",
      "C:\\Users\\Laurin\\Anaconda3\\lib\\site-packages\\sklearn\\metrics\\_regression.py:594: UndefinedMetricWarning: R^2 score is not well-defined with less than two samples.\n",
      "  warnings.warn(msg, UndefinedMetricWarning)\n",
      "C:\\Users\\Laurin\\Anaconda3\\lib\\site-packages\\sklearn\\metrics\\_regression.py:594: UndefinedMetricWarning: R^2 score is not well-defined with less than two samples.\n",
      "  warnings.warn(msg, UndefinedMetricWarning)\n",
      "C:\\Users\\Laurin\\Anaconda3\\lib\\site-packages\\sklearn\\metrics\\_regression.py:594: UndefinedMetricWarning: R^2 score is not well-defined with less than two samples.\n",
      "  warnings.warn(msg, UndefinedMetricWarning)\n",
      "C:\\Users\\Laurin\\Anaconda3\\lib\\site-packages\\sklearn\\metrics\\_regression.py:594: UndefinedMetricWarning: R^2 score is not well-defined with less than two samples.\n",
      "  warnings.warn(msg, UndefinedMetricWarning)\n",
      "C:\\Users\\Laurin\\Anaconda3\\lib\\site-packages\\sklearn\\metrics\\_regression.py:594: UndefinedMetricWarning: R^2 score is not well-defined with less than two samples.\n",
      "  warnings.warn(msg, UndefinedMetricWarning)\n",
      "C:\\Users\\Laurin\\Anaconda3\\lib\\site-packages\\sklearn\\metrics\\_regression.py:594: UndefinedMetricWarning: R^2 score is not well-defined with less than two samples.\n",
      "  warnings.warn(msg, UndefinedMetricWarning)\n",
      "C:\\Users\\Laurin\\Anaconda3\\lib\\site-packages\\sklearn\\metrics\\_regression.py:594: UndefinedMetricWarning: R^2 score is not well-defined with less than two samples.\n",
      "  warnings.warn(msg, UndefinedMetricWarning)\n",
      "C:\\Users\\Laurin\\Anaconda3\\lib\\site-packages\\sklearn\\metrics\\_regression.py:594: UndefinedMetricWarning: R^2 score is not well-defined with less than two samples.\n",
      "  warnings.warn(msg, UndefinedMetricWarning)\n",
      "C:\\Users\\Laurin\\Anaconda3\\lib\\site-packages\\sklearn\\metrics\\_regression.py:594: UndefinedMetricWarning: R^2 score is not well-defined with less than two samples.\n",
      "  warnings.warn(msg, UndefinedMetricWarning)\n",
      "C:\\Users\\Laurin\\Anaconda3\\lib\\site-packages\\sklearn\\metrics\\_regression.py:594: UndefinedMetricWarning: R^2 score is not well-defined with less than two samples.\n",
      "  warnings.warn(msg, UndefinedMetricWarning)\n",
      "C:\\Users\\Laurin\\Anaconda3\\lib\\site-packages\\sklearn\\metrics\\_regression.py:594: UndefinedMetricWarning: R^2 score is not well-defined with less than two samples.\n",
      "  warnings.warn(msg, UndefinedMetricWarning)\n",
      "C:\\Users\\Laurin\\Anaconda3\\lib\\site-packages\\sklearn\\metrics\\_regression.py:594: UndefinedMetricWarning: R^2 score is not well-defined with less than two samples.\n",
      "  warnings.warn(msg, UndefinedMetricWarning)\n",
      "C:\\Users\\Laurin\\Anaconda3\\lib\\site-packages\\sklearn\\metrics\\_regression.py:594: UndefinedMetricWarning: R^2 score is not well-defined with less than two samples.\n",
      "  warnings.warn(msg, UndefinedMetricWarning)\n",
      "C:\\Users\\Laurin\\Anaconda3\\lib\\site-packages\\sklearn\\metrics\\_regression.py:594: UndefinedMetricWarning: R^2 score is not well-defined with less than two samples.\n",
      "  warnings.warn(msg, UndefinedMetricWarning)\n",
      "C:\\Users\\Laurin\\Anaconda3\\lib\\site-packages\\sklearn\\metrics\\_regression.py:594: UndefinedMetricWarning: R^2 score is not well-defined with less than two samples.\n",
      "  warnings.warn(msg, UndefinedMetricWarning)\n",
      "C:\\Users\\Laurin\\Anaconda3\\lib\\site-packages\\sklearn\\metrics\\_regression.py:594: UndefinedMetricWarning: R^2 score is not well-defined with less than two samples.\n",
      "  warnings.warn(msg, UndefinedMetricWarning)\n",
      "C:\\Users\\Laurin\\Anaconda3\\lib\\site-packages\\sklearn\\metrics\\_regression.py:594: UndefinedMetricWarning: R^2 score is not well-defined with less than two samples.\n",
      "  warnings.warn(msg, UndefinedMetricWarning)\n",
      "C:\\Users\\Laurin\\Anaconda3\\lib\\site-packages\\sklearn\\metrics\\_regression.py:594: UndefinedMetricWarning: R^2 score is not well-defined with less than two samples.\n",
      "  warnings.warn(msg, UndefinedMetricWarning)\n",
      "C:\\Users\\Laurin\\Anaconda3\\lib\\site-packages\\sklearn\\metrics\\_regression.py:594: UndefinedMetricWarning: R^2 score is not well-defined with less than two samples.\n",
      "  warnings.warn(msg, UndefinedMetricWarning)\n",
      "C:\\Users\\Laurin\\Anaconda3\\lib\\site-packages\\sklearn\\metrics\\_regression.py:594: UndefinedMetricWarning: R^2 score is not well-defined with less than two samples.\n",
      "  warnings.warn(msg, UndefinedMetricWarning)\n",
      "C:\\Users\\Laurin\\Anaconda3\\lib\\site-packages\\sklearn\\metrics\\_regression.py:594: UndefinedMetricWarning: R^2 score is not well-defined with less than two samples.\n",
      "  warnings.warn(msg, UndefinedMetricWarning)\n",
      "C:\\Users\\Laurin\\Anaconda3\\lib\\site-packages\\sklearn\\metrics\\_regression.py:594: UndefinedMetricWarning: R^2 score is not well-defined with less than two samples.\n",
      "  warnings.warn(msg, UndefinedMetricWarning)\n",
      "C:\\Users\\Laurin\\Anaconda3\\lib\\site-packages\\sklearn\\metrics\\_regression.py:594: UndefinedMetricWarning: R^2 score is not well-defined with less than two samples.\n",
      "  warnings.warn(msg, UndefinedMetricWarning)\n",
      "C:\\Users\\Laurin\\Anaconda3\\lib\\site-packages\\sklearn\\metrics\\_regression.py:594: UndefinedMetricWarning: R^2 score is not well-defined with less than two samples.\n",
      "  warnings.warn(msg, UndefinedMetricWarning)\n",
      "C:\\Users\\Laurin\\Anaconda3\\lib\\site-packages\\sklearn\\metrics\\_regression.py:594: UndefinedMetricWarning: R^2 score is not well-defined with less than two samples.\n",
      "  warnings.warn(msg, UndefinedMetricWarning)\n",
      "C:\\Users\\Laurin\\Anaconda3\\lib\\site-packages\\sklearn\\metrics\\_regression.py:594: UndefinedMetricWarning: R^2 score is not well-defined with less than two samples.\n",
      "  warnings.warn(msg, UndefinedMetricWarning)\n",
      "C:\\Users\\Laurin\\Anaconda3\\lib\\site-packages\\sklearn\\metrics\\_regression.py:594: UndefinedMetricWarning: R^2 score is not well-defined with less than two samples.\n",
      "  warnings.warn(msg, UndefinedMetricWarning)\n",
      "C:\\Users\\Laurin\\Anaconda3\\lib\\site-packages\\sklearn\\metrics\\_regression.py:594: UndefinedMetricWarning: R^2 score is not well-defined with less than two samples.\n",
      "  warnings.warn(msg, UndefinedMetricWarning)\n",
      "C:\\Users\\Laurin\\Anaconda3\\lib\\site-packages\\sklearn\\metrics\\_regression.py:594: UndefinedMetricWarning: R^2 score is not well-defined with less than two samples.\n",
      "  warnings.warn(msg, UndefinedMetricWarning)\n",
      "C:\\Users\\Laurin\\Anaconda3\\lib\\site-packages\\sklearn\\metrics\\_regression.py:594: UndefinedMetricWarning: R^2 score is not well-defined with less than two samples.\n",
      "  warnings.warn(msg, UndefinedMetricWarning)\n",
      "C:\\Users\\Laurin\\Anaconda3\\lib\\site-packages\\sklearn\\metrics\\_regression.py:594: UndefinedMetricWarning: R^2 score is not well-defined with less than two samples.\n",
      "  warnings.warn(msg, UndefinedMetricWarning)\n",
      "C:\\Users\\Laurin\\Anaconda3\\lib\\site-packages\\sklearn\\metrics\\_regression.py:594: UndefinedMetricWarning: R^2 score is not well-defined with less than two samples.\n",
      "  warnings.warn(msg, UndefinedMetricWarning)\n"
     ]
    },
    {
     "name": "stderr",
     "output_type": "stream",
     "text": [
      "C:\\Users\\Laurin\\Anaconda3\\lib\\site-packages\\sklearn\\metrics\\_regression.py:594: UndefinedMetricWarning: R^2 score is not well-defined with less than two samples.\n",
      "  warnings.warn(msg, UndefinedMetricWarning)\n",
      "C:\\Users\\Laurin\\Anaconda3\\lib\\site-packages\\sklearn\\metrics\\_regression.py:594: UndefinedMetricWarning: R^2 score is not well-defined with less than two samples.\n",
      "  warnings.warn(msg, UndefinedMetricWarning)\n",
      "C:\\Users\\Laurin\\Anaconda3\\lib\\site-packages\\sklearn\\metrics\\_regression.py:594: UndefinedMetricWarning: R^2 score is not well-defined with less than two samples.\n",
      "  warnings.warn(msg, UndefinedMetricWarning)\n",
      "C:\\Users\\Laurin\\Anaconda3\\lib\\site-packages\\sklearn\\metrics\\_regression.py:594: UndefinedMetricWarning: R^2 score is not well-defined with less than two samples.\n",
      "  warnings.warn(msg, UndefinedMetricWarning)\n",
      "C:\\Users\\Laurin\\Anaconda3\\lib\\site-packages\\sklearn\\metrics\\_regression.py:594: UndefinedMetricWarning: R^2 score is not well-defined with less than two samples.\n",
      "  warnings.warn(msg, UndefinedMetricWarning)\n",
      "C:\\Users\\Laurin\\Anaconda3\\lib\\site-packages\\sklearn\\metrics\\_regression.py:594: UndefinedMetricWarning: R^2 score is not well-defined with less than two samples.\n",
      "  warnings.warn(msg, UndefinedMetricWarning)\n",
      "C:\\Users\\Laurin\\Anaconda3\\lib\\site-packages\\sklearn\\metrics\\_regression.py:594: UndefinedMetricWarning: R^2 score is not well-defined with less than two samples.\n",
      "  warnings.warn(msg, UndefinedMetricWarning)\n",
      "C:\\Users\\Laurin\\Anaconda3\\lib\\site-packages\\sklearn\\metrics\\_regression.py:594: UndefinedMetricWarning: R^2 score is not well-defined with less than two samples.\n",
      "  warnings.warn(msg, UndefinedMetricWarning)\n",
      "C:\\Users\\Laurin\\Anaconda3\\lib\\site-packages\\sklearn\\metrics\\_regression.py:594: UndefinedMetricWarning: R^2 score is not well-defined with less than two samples.\n",
      "  warnings.warn(msg, UndefinedMetricWarning)\n",
      "C:\\Users\\Laurin\\Anaconda3\\lib\\site-packages\\sklearn\\metrics\\_regression.py:594: UndefinedMetricWarning: R^2 score is not well-defined with less than two samples.\n",
      "  warnings.warn(msg, UndefinedMetricWarning)\n",
      "C:\\Users\\Laurin\\Anaconda3\\lib\\site-packages\\sklearn\\metrics\\_regression.py:594: UndefinedMetricWarning: R^2 score is not well-defined with less than two samples.\n",
      "  warnings.warn(msg, UndefinedMetricWarning)\n",
      "C:\\Users\\Laurin\\Anaconda3\\lib\\site-packages\\sklearn\\metrics\\_regression.py:594: UndefinedMetricWarning: R^2 score is not well-defined with less than two samples.\n",
      "  warnings.warn(msg, UndefinedMetricWarning)\n",
      "C:\\Users\\Laurin\\Anaconda3\\lib\\site-packages\\sklearn\\metrics\\_regression.py:594: UndefinedMetricWarning: R^2 score is not well-defined with less than two samples.\n",
      "  warnings.warn(msg, UndefinedMetricWarning)\n",
      "C:\\Users\\Laurin\\Anaconda3\\lib\\site-packages\\sklearn\\metrics\\_regression.py:594: UndefinedMetricWarning: R^2 score is not well-defined with less than two samples.\n",
      "  warnings.warn(msg, UndefinedMetricWarning)\n",
      "C:\\Users\\Laurin\\Anaconda3\\lib\\site-packages\\sklearn\\metrics\\_regression.py:594: UndefinedMetricWarning: R^2 score is not well-defined with less than two samples.\n",
      "  warnings.warn(msg, UndefinedMetricWarning)\n",
      "C:\\Users\\Laurin\\Anaconda3\\lib\\site-packages\\sklearn\\metrics\\_regression.py:594: UndefinedMetricWarning: R^2 score is not well-defined with less than two samples.\n",
      "  warnings.warn(msg, UndefinedMetricWarning)\n",
      "C:\\Users\\Laurin\\Anaconda3\\lib\\site-packages\\sklearn\\metrics\\_regression.py:594: UndefinedMetricWarning: R^2 score is not well-defined with less than two samples.\n",
      "  warnings.warn(msg, UndefinedMetricWarning)\n",
      "C:\\Users\\Laurin\\Anaconda3\\lib\\site-packages\\sklearn\\metrics\\_regression.py:594: UndefinedMetricWarning: R^2 score is not well-defined with less than two samples.\n",
      "  warnings.warn(msg, UndefinedMetricWarning)\n",
      "C:\\Users\\Laurin\\Anaconda3\\lib\\site-packages\\sklearn\\metrics\\_regression.py:594: UndefinedMetricWarning: R^2 score is not well-defined with less than two samples.\n",
      "  warnings.warn(msg, UndefinedMetricWarning)\n",
      "C:\\Users\\Laurin\\Anaconda3\\lib\\site-packages\\sklearn\\metrics\\_regression.py:594: UndefinedMetricWarning: R^2 score is not well-defined with less than two samples.\n",
      "  warnings.warn(msg, UndefinedMetricWarning)\n",
      "C:\\Users\\Laurin\\Anaconda3\\lib\\site-packages\\sklearn\\metrics\\_regression.py:594: UndefinedMetricWarning: R^2 score is not well-defined with less than two samples.\n",
      "  warnings.warn(msg, UndefinedMetricWarning)\n",
      "C:\\Users\\Laurin\\Anaconda3\\lib\\site-packages\\sklearn\\metrics\\_regression.py:594: UndefinedMetricWarning: R^2 score is not well-defined with less than two samples.\n",
      "  warnings.warn(msg, UndefinedMetricWarning)\n",
      "C:\\Users\\Laurin\\Anaconda3\\lib\\site-packages\\sklearn\\metrics\\_regression.py:594: UndefinedMetricWarning: R^2 score is not well-defined with less than two samples.\n",
      "  warnings.warn(msg, UndefinedMetricWarning)\n",
      "C:\\Users\\Laurin\\Anaconda3\\lib\\site-packages\\sklearn\\metrics\\_regression.py:594: UndefinedMetricWarning: R^2 score is not well-defined with less than two samples.\n",
      "  warnings.warn(msg, UndefinedMetricWarning)\n",
      "C:\\Users\\Laurin\\Anaconda3\\lib\\site-packages\\sklearn\\metrics\\_regression.py:594: UndefinedMetricWarning: R^2 score is not well-defined with less than two samples.\n",
      "  warnings.warn(msg, UndefinedMetricWarning)\n",
      "C:\\Users\\Laurin\\Anaconda3\\lib\\site-packages\\sklearn\\metrics\\_regression.py:594: UndefinedMetricWarning: R^2 score is not well-defined with less than two samples.\n",
      "  warnings.warn(msg, UndefinedMetricWarning)\n",
      "C:\\Users\\Laurin\\Anaconda3\\lib\\site-packages\\sklearn\\metrics\\_regression.py:594: UndefinedMetricWarning: R^2 score is not well-defined with less than two samples.\n",
      "  warnings.warn(msg, UndefinedMetricWarning)\n",
      "C:\\Users\\Laurin\\Anaconda3\\lib\\site-packages\\sklearn\\metrics\\_regression.py:594: UndefinedMetricWarning: R^2 score is not well-defined with less than two samples.\n",
      "  warnings.warn(msg, UndefinedMetricWarning)\n",
      "C:\\Users\\Laurin\\Anaconda3\\lib\\site-packages\\sklearn\\metrics\\_regression.py:594: UndefinedMetricWarning: R^2 score is not well-defined with less than two samples.\n",
      "  warnings.warn(msg, UndefinedMetricWarning)\n",
      "C:\\Users\\Laurin\\Anaconda3\\lib\\site-packages\\sklearn\\metrics\\_regression.py:594: UndefinedMetricWarning: R^2 score is not well-defined with less than two samples.\n",
      "  warnings.warn(msg, UndefinedMetricWarning)\n",
      "C:\\Users\\Laurin\\Anaconda3\\lib\\site-packages\\sklearn\\metrics\\_regression.py:594: UndefinedMetricWarning: R^2 score is not well-defined with less than two samples.\n",
      "  warnings.warn(msg, UndefinedMetricWarning)\n",
      "C:\\Users\\Laurin\\Anaconda3\\lib\\site-packages\\sklearn\\metrics\\_regression.py:594: UndefinedMetricWarning: R^2 score is not well-defined with less than two samples.\n",
      "  warnings.warn(msg, UndefinedMetricWarning)\n",
      "C:\\Users\\Laurin\\Anaconda3\\lib\\site-packages\\sklearn\\metrics\\_regression.py:594: UndefinedMetricWarning: R^2 score is not well-defined with less than two samples.\n",
      "  warnings.warn(msg, UndefinedMetricWarning)\n",
      "C:\\Users\\Laurin\\Anaconda3\\lib\\site-packages\\sklearn\\metrics\\_regression.py:594: UndefinedMetricWarning: R^2 score is not well-defined with less than two samples.\n",
      "  warnings.warn(msg, UndefinedMetricWarning)\n",
      "C:\\Users\\Laurin\\Anaconda3\\lib\\site-packages\\sklearn\\metrics\\_regression.py:594: UndefinedMetricWarning: R^2 score is not well-defined with less than two samples.\n",
      "  warnings.warn(msg, UndefinedMetricWarning)\n",
      "C:\\Users\\Laurin\\Anaconda3\\lib\\site-packages\\sklearn\\metrics\\_regression.py:594: UndefinedMetricWarning: R^2 score is not well-defined with less than two samples.\n",
      "  warnings.warn(msg, UndefinedMetricWarning)\n",
      "C:\\Users\\Laurin\\Anaconda3\\lib\\site-packages\\sklearn\\metrics\\_regression.py:594: UndefinedMetricWarning: R^2 score is not well-defined with less than two samples.\n",
      "  warnings.warn(msg, UndefinedMetricWarning)\n",
      "C:\\Users\\Laurin\\Anaconda3\\lib\\site-packages\\sklearn\\metrics\\_regression.py:594: UndefinedMetricWarning: R^2 score is not well-defined with less than two samples.\n",
      "  warnings.warn(msg, UndefinedMetricWarning)\n",
      "C:\\Users\\Laurin\\Anaconda3\\lib\\site-packages\\sklearn\\metrics\\_regression.py:594: UndefinedMetricWarning: R^2 score is not well-defined with less than two samples.\n",
      "  warnings.warn(msg, UndefinedMetricWarning)\n",
      "C:\\Users\\Laurin\\Anaconda3\\lib\\site-packages\\sklearn\\metrics\\_regression.py:594: UndefinedMetricWarning: R^2 score is not well-defined with less than two samples.\n",
      "  warnings.warn(msg, UndefinedMetricWarning)\n",
      "C:\\Users\\Laurin\\Anaconda3\\lib\\site-packages\\sklearn\\metrics\\_regression.py:594: UndefinedMetricWarning: R^2 score is not well-defined with less than two samples.\n",
      "  warnings.warn(msg, UndefinedMetricWarning)\n",
      "C:\\Users\\Laurin\\Anaconda3\\lib\\site-packages\\sklearn\\metrics\\_regression.py:594: UndefinedMetricWarning: R^2 score is not well-defined with less than two samples.\n",
      "  warnings.warn(msg, UndefinedMetricWarning)\n",
      "C:\\Users\\Laurin\\Anaconda3\\lib\\site-packages\\sklearn\\metrics\\_regression.py:594: UndefinedMetricWarning: R^2 score is not well-defined with less than two samples.\n",
      "  warnings.warn(msg, UndefinedMetricWarning)\n",
      "C:\\Users\\Laurin\\Anaconda3\\lib\\site-packages\\sklearn\\metrics\\_regression.py:594: UndefinedMetricWarning: R^2 score is not well-defined with less than two samples.\n",
      "  warnings.warn(msg, UndefinedMetricWarning)\n",
      "C:\\Users\\Laurin\\Anaconda3\\lib\\site-packages\\sklearn\\metrics\\_regression.py:594: UndefinedMetricWarning: R^2 score is not well-defined with less than two samples.\n",
      "  warnings.warn(msg, UndefinedMetricWarning)\n",
      "C:\\Users\\Laurin\\Anaconda3\\lib\\site-packages\\sklearn\\metrics\\_regression.py:594: UndefinedMetricWarning: R^2 score is not well-defined with less than two samples.\n",
      "  warnings.warn(msg, UndefinedMetricWarning)\n",
      "C:\\Users\\Laurin\\Anaconda3\\lib\\site-packages\\sklearn\\metrics\\_regression.py:594: UndefinedMetricWarning: R^2 score is not well-defined with less than two samples.\n",
      "  warnings.warn(msg, UndefinedMetricWarning)\n",
      "C:\\Users\\Laurin\\Anaconda3\\lib\\site-packages\\sklearn\\metrics\\_regression.py:594: UndefinedMetricWarning: R^2 score is not well-defined with less than two samples.\n",
      "  warnings.warn(msg, UndefinedMetricWarning)\n",
      "C:\\Users\\Laurin\\Anaconda3\\lib\\site-packages\\sklearn\\metrics\\_regression.py:594: UndefinedMetricWarning: R^2 score is not well-defined with less than two samples.\n",
      "  warnings.warn(msg, UndefinedMetricWarning)\n",
      "C:\\Users\\Laurin\\Anaconda3\\lib\\site-packages\\sklearn\\metrics\\_regression.py:594: UndefinedMetricWarning: R^2 score is not well-defined with less than two samples.\n",
      "  warnings.warn(msg, UndefinedMetricWarning)\n",
      "C:\\Users\\Laurin\\Anaconda3\\lib\\site-packages\\sklearn\\metrics\\_regression.py:594: UndefinedMetricWarning: R^2 score is not well-defined with less than two samples.\n",
      "  warnings.warn(msg, UndefinedMetricWarning)\n",
      "C:\\Users\\Laurin\\Anaconda3\\lib\\site-packages\\sklearn\\metrics\\_regression.py:594: UndefinedMetricWarning: R^2 score is not well-defined with less than two samples.\n",
      "  warnings.warn(msg, UndefinedMetricWarning)\n",
      "C:\\Users\\Laurin\\Anaconda3\\lib\\site-packages\\sklearn\\metrics\\_regression.py:594: UndefinedMetricWarning: R^2 score is not well-defined with less than two samples.\n",
      "  warnings.warn(msg, UndefinedMetricWarning)\n",
      "C:\\Users\\Laurin\\Anaconda3\\lib\\site-packages\\sklearn\\metrics\\_regression.py:594: UndefinedMetricWarning: R^2 score is not well-defined with less than two samples.\n",
      "  warnings.warn(msg, UndefinedMetricWarning)\n",
      "C:\\Users\\Laurin\\Anaconda3\\lib\\site-packages\\sklearn\\metrics\\_regression.py:594: UndefinedMetricWarning: R^2 score is not well-defined with less than two samples.\n",
      "  warnings.warn(msg, UndefinedMetricWarning)\n",
      "C:\\Users\\Laurin\\Anaconda3\\lib\\site-packages\\sklearn\\metrics\\_regression.py:594: UndefinedMetricWarning: R^2 score is not well-defined with less than two samples.\n",
      "  warnings.warn(msg, UndefinedMetricWarning)\n"
     ]
    },
    {
     "name": "stderr",
     "output_type": "stream",
     "text": [
      "C:\\Users\\Laurin\\Anaconda3\\lib\\site-packages\\sklearn\\metrics\\_regression.py:594: UndefinedMetricWarning: R^2 score is not well-defined with less than two samples.\n",
      "  warnings.warn(msg, UndefinedMetricWarning)\n",
      "C:\\Users\\Laurin\\Anaconda3\\lib\\site-packages\\sklearn\\metrics\\_regression.py:594: UndefinedMetricWarning: R^2 score is not well-defined with less than two samples.\n",
      "  warnings.warn(msg, UndefinedMetricWarning)\n",
      "C:\\Users\\Laurin\\Anaconda3\\lib\\site-packages\\sklearn\\metrics\\_regression.py:594: UndefinedMetricWarning: R^2 score is not well-defined with less than two samples.\n",
      "  warnings.warn(msg, UndefinedMetricWarning)\n",
      "C:\\Users\\Laurin\\Anaconda3\\lib\\site-packages\\sklearn\\metrics\\_regression.py:594: UndefinedMetricWarning: R^2 score is not well-defined with less than two samples.\n",
      "  warnings.warn(msg, UndefinedMetricWarning)\n",
      "C:\\Users\\Laurin\\Anaconda3\\lib\\site-packages\\sklearn\\metrics\\_regression.py:594: UndefinedMetricWarning: R^2 score is not well-defined with less than two samples.\n",
      "  warnings.warn(msg, UndefinedMetricWarning)\n",
      "C:\\Users\\Laurin\\Anaconda3\\lib\\site-packages\\sklearn\\metrics\\_regression.py:594: UndefinedMetricWarning: R^2 score is not well-defined with less than two samples.\n",
      "  warnings.warn(msg, UndefinedMetricWarning)\n",
      "C:\\Users\\Laurin\\Anaconda3\\lib\\site-packages\\sklearn\\metrics\\_regression.py:594: UndefinedMetricWarning: R^2 score is not well-defined with less than two samples.\n",
      "  warnings.warn(msg, UndefinedMetricWarning)\n",
      "C:\\Users\\Laurin\\Anaconda3\\lib\\site-packages\\sklearn\\metrics\\_regression.py:594: UndefinedMetricWarning: R^2 score is not well-defined with less than two samples.\n",
      "  warnings.warn(msg, UndefinedMetricWarning)\n",
      "C:\\Users\\Laurin\\Anaconda3\\lib\\site-packages\\sklearn\\metrics\\_regression.py:594: UndefinedMetricWarning: R^2 score is not well-defined with less than two samples.\n",
      "  warnings.warn(msg, UndefinedMetricWarning)\n",
      "C:\\Users\\Laurin\\Anaconda3\\lib\\site-packages\\sklearn\\metrics\\_regression.py:594: UndefinedMetricWarning: R^2 score is not well-defined with less than two samples.\n",
      "  warnings.warn(msg, UndefinedMetricWarning)\n",
      "C:\\Users\\Laurin\\Anaconda3\\lib\\site-packages\\sklearn\\metrics\\_regression.py:594: UndefinedMetricWarning: R^2 score is not well-defined with less than two samples.\n",
      "  warnings.warn(msg, UndefinedMetricWarning)\n",
      "C:\\Users\\Laurin\\Anaconda3\\lib\\site-packages\\sklearn\\metrics\\_regression.py:594: UndefinedMetricWarning: R^2 score is not well-defined with less than two samples.\n",
      "  warnings.warn(msg, UndefinedMetricWarning)\n",
      "C:\\Users\\Laurin\\Anaconda3\\lib\\site-packages\\sklearn\\metrics\\_regression.py:594: UndefinedMetricWarning: R^2 score is not well-defined with less than two samples.\n",
      "  warnings.warn(msg, UndefinedMetricWarning)\n",
      "C:\\Users\\Laurin\\Anaconda3\\lib\\site-packages\\sklearn\\metrics\\_regression.py:594: UndefinedMetricWarning: R^2 score is not well-defined with less than two samples.\n",
      "  warnings.warn(msg, UndefinedMetricWarning)\n",
      "C:\\Users\\Laurin\\Anaconda3\\lib\\site-packages\\sklearn\\metrics\\_regression.py:594: UndefinedMetricWarning: R^2 score is not well-defined with less than two samples.\n",
      "  warnings.warn(msg, UndefinedMetricWarning)\n",
      "C:\\Users\\Laurin\\Anaconda3\\lib\\site-packages\\sklearn\\metrics\\_regression.py:594: UndefinedMetricWarning: R^2 score is not well-defined with less than two samples.\n",
      "  warnings.warn(msg, UndefinedMetricWarning)\n",
      "C:\\Users\\Laurin\\Anaconda3\\lib\\site-packages\\sklearn\\metrics\\_regression.py:594: UndefinedMetricWarning: R^2 score is not well-defined with less than two samples.\n",
      "  warnings.warn(msg, UndefinedMetricWarning)\n",
      "C:\\Users\\Laurin\\Anaconda3\\lib\\site-packages\\sklearn\\metrics\\_regression.py:594: UndefinedMetricWarning: R^2 score is not well-defined with less than two samples.\n",
      "  warnings.warn(msg, UndefinedMetricWarning)\n",
      "C:\\Users\\Laurin\\Anaconda3\\lib\\site-packages\\sklearn\\metrics\\_regression.py:594: UndefinedMetricWarning: R^2 score is not well-defined with less than two samples.\n",
      "  warnings.warn(msg, UndefinedMetricWarning)\n",
      "C:\\Users\\Laurin\\Anaconda3\\lib\\site-packages\\sklearn\\metrics\\_regression.py:594: UndefinedMetricWarning: R^2 score is not well-defined with less than two samples.\n",
      "  warnings.warn(msg, UndefinedMetricWarning)\n",
      "C:\\Users\\Laurin\\Anaconda3\\lib\\site-packages\\sklearn\\metrics\\_regression.py:594: UndefinedMetricWarning: R^2 score is not well-defined with less than two samples.\n",
      "  warnings.warn(msg, UndefinedMetricWarning)\n",
      "C:\\Users\\Laurin\\Anaconda3\\lib\\site-packages\\sklearn\\metrics\\_regression.py:594: UndefinedMetricWarning: R^2 score is not well-defined with less than two samples.\n",
      "  warnings.warn(msg, UndefinedMetricWarning)\n",
      "C:\\Users\\Laurin\\Anaconda3\\lib\\site-packages\\sklearn\\metrics\\_regression.py:594: UndefinedMetricWarning: R^2 score is not well-defined with less than two samples.\n",
      "  warnings.warn(msg, UndefinedMetricWarning)\n",
      "C:\\Users\\Laurin\\Anaconda3\\lib\\site-packages\\sklearn\\metrics\\_regression.py:594: UndefinedMetricWarning: R^2 score is not well-defined with less than two samples.\n",
      "  warnings.warn(msg, UndefinedMetricWarning)\n",
      "C:\\Users\\Laurin\\Anaconda3\\lib\\site-packages\\sklearn\\metrics\\_regression.py:594: UndefinedMetricWarning: R^2 score is not well-defined with less than two samples.\n",
      "  warnings.warn(msg, UndefinedMetricWarning)\n",
      "C:\\Users\\Laurin\\Anaconda3\\lib\\site-packages\\sklearn\\metrics\\_regression.py:594: UndefinedMetricWarning: R^2 score is not well-defined with less than two samples.\n",
      "  warnings.warn(msg, UndefinedMetricWarning)\n",
      "C:\\Users\\Laurin\\Anaconda3\\lib\\site-packages\\sklearn\\metrics\\_regression.py:594: UndefinedMetricWarning: R^2 score is not well-defined with less than two samples.\n",
      "  warnings.warn(msg, UndefinedMetricWarning)\n",
      "C:\\Users\\Laurin\\Anaconda3\\lib\\site-packages\\sklearn\\metrics\\_regression.py:594: UndefinedMetricWarning: R^2 score is not well-defined with less than two samples.\n",
      "  warnings.warn(msg, UndefinedMetricWarning)\n",
      "C:\\Users\\Laurin\\Anaconda3\\lib\\site-packages\\sklearn\\metrics\\_regression.py:594: UndefinedMetricWarning: R^2 score is not well-defined with less than two samples.\n",
      "  warnings.warn(msg, UndefinedMetricWarning)\n",
      "C:\\Users\\Laurin\\Anaconda3\\lib\\site-packages\\sklearn\\metrics\\_regression.py:594: UndefinedMetricWarning: R^2 score is not well-defined with less than two samples.\n",
      "  warnings.warn(msg, UndefinedMetricWarning)\n",
      "C:\\Users\\Laurin\\Anaconda3\\lib\\site-packages\\sklearn\\metrics\\_regression.py:594: UndefinedMetricWarning: R^2 score is not well-defined with less than two samples.\n",
      "  warnings.warn(msg, UndefinedMetricWarning)\n",
      "C:\\Users\\Laurin\\Anaconda3\\lib\\site-packages\\sklearn\\metrics\\_regression.py:594: UndefinedMetricWarning: R^2 score is not well-defined with less than two samples.\n",
      "  warnings.warn(msg, UndefinedMetricWarning)\n",
      "C:\\Users\\Laurin\\Anaconda3\\lib\\site-packages\\sklearn\\metrics\\_regression.py:594: UndefinedMetricWarning: R^2 score is not well-defined with less than two samples.\n",
      "  warnings.warn(msg, UndefinedMetricWarning)\n",
      "C:\\Users\\Laurin\\Anaconda3\\lib\\site-packages\\sklearn\\metrics\\_regression.py:594: UndefinedMetricWarning: R^2 score is not well-defined with less than two samples.\n",
      "  warnings.warn(msg, UndefinedMetricWarning)\n",
      "C:\\Users\\Laurin\\Anaconda3\\lib\\site-packages\\sklearn\\metrics\\_regression.py:594: UndefinedMetricWarning: R^2 score is not well-defined with less than two samples.\n",
      "  warnings.warn(msg, UndefinedMetricWarning)\n",
      "C:\\Users\\Laurin\\Anaconda3\\lib\\site-packages\\sklearn\\metrics\\_regression.py:594: UndefinedMetricWarning: R^2 score is not well-defined with less than two samples.\n",
      "  warnings.warn(msg, UndefinedMetricWarning)\n",
      "C:\\Users\\Laurin\\Anaconda3\\lib\\site-packages\\sklearn\\metrics\\_regression.py:594: UndefinedMetricWarning: R^2 score is not well-defined with less than two samples.\n",
      "  warnings.warn(msg, UndefinedMetricWarning)\n",
      "C:\\Users\\Laurin\\Anaconda3\\lib\\site-packages\\sklearn\\metrics\\_regression.py:594: UndefinedMetricWarning: R^2 score is not well-defined with less than two samples.\n",
      "  warnings.warn(msg, UndefinedMetricWarning)\n",
      "C:\\Users\\Laurin\\Anaconda3\\lib\\site-packages\\sklearn\\metrics\\_regression.py:594: UndefinedMetricWarning: R^2 score is not well-defined with less than two samples.\n",
      "  warnings.warn(msg, UndefinedMetricWarning)\n"
     ]
    },
    {
     "name": "stdout",
     "output_type": "stream",
     "text": [
      "R2 nan +/- nan\n",
      "Paper: 0.204\n"
     ]
    },
    {
     "name": "stderr",
     "output_type": "stream",
     "text": [
      "C:\\Users\\Laurin\\Anaconda3\\lib\\site-packages\\sklearn\\metrics\\_regression.py:594: UndefinedMetricWarning: R^2 score is not well-defined with less than two samples.\n",
      "  warnings.warn(msg, UndefinedMetricWarning)\n",
      "C:\\Users\\Laurin\\Anaconda3\\lib\\site-packages\\sklearn\\metrics\\_regression.py:594: UndefinedMetricWarning: R^2 score is not well-defined with less than two samples.\n",
      "  warnings.warn(msg, UndefinedMetricWarning)\n",
      "C:\\Users\\Laurin\\Anaconda3\\lib\\site-packages\\sklearn\\metrics\\_regression.py:594: UndefinedMetricWarning: R^2 score is not well-defined with less than two samples.\n",
      "  warnings.warn(msg, UndefinedMetricWarning)\n",
      "C:\\Users\\Laurin\\Anaconda3\\lib\\site-packages\\sklearn\\metrics\\_regression.py:594: UndefinedMetricWarning: R^2 score is not well-defined with less than two samples.\n",
      "  warnings.warn(msg, UndefinedMetricWarning)\n",
      "C:\\Users\\Laurin\\Anaconda3\\lib\\site-packages\\sklearn\\metrics\\_regression.py:594: UndefinedMetricWarning: R^2 score is not well-defined with less than two samples.\n",
      "  warnings.warn(msg, UndefinedMetricWarning)\n"
     ]
    }
   ],
   "source": [
    "r2s = []\n",
    "\n",
    "for i in range(100):\n",
    "    cv = KFold(5, shuffle=True, random_state=i)\n",
    "    follower_base_cv = cross_validate(follower_base_multi2, X2, y2, cv=cv, scoring='r2')\n",
    "    r2 =follower_base_cv[\"test_score\"].mean()\n",
    "    r2s.append(r2)\n",
    "    \n",
    "m2=np.mean(r2s)\n",
    "    \n",
    "print(\"R2\", np.mean(r2s), \"+/-\", np.std(r2s))\n",
    "print(\"Paper: 0.204\")"
   ]
  },
  {
   "cell_type": "code",
   "execution_count": 58,
   "metadata": {},
   "outputs": [
    {
     "data": {
      "text/plain": [
       "nan"
      ]
     },
     "execution_count": 58,
     "metadata": {},
     "output_type": "execute_result"
    }
   ],
   "source": [
    "(m1+m2)/2"
   ]
  },
  {
   "cell_type": "code",
   "execution_count": 112,
   "metadata": {},
   "outputs": [
    {
     "name": "stdout",
     "output_type": "stream",
     "text": [
      "rs 0.7529571980820908 +/- 2.1851269857498463e-05\n",
      "Paper: 0.725\n"
     ]
    }
   ],
   "source": [
    "rss = []\n",
    "for i in range(100):\n",
    "    cv = KFold(5, shuffle=True, random_state=i)\n",
    "    follower_base_cv = cross_validate(follower_base_multi1, X1, y1, cv=cv, scoring=spearmanr_scorer)\n",
    "    rss.append(follower_base_cv[\"test_score\"].mean())\n",
    "rs1 =np.mean(rss)\n",
    "print(\"rs\", np.mean(rss), \"+/-\", np.std(rss))\n",
    "print(\"Paper: 0.725\")"
   ]
  },
  {
   "cell_type": "code",
   "execution_count": 113,
   "metadata": {},
   "outputs": [
    {
     "name": "stdout",
     "output_type": "stream",
     "text": [
      "rs 0.12779999999999997 +/- 0.23891245258462354\n",
      "Paper: 0.725\n"
     ]
    }
   ],
   "source": [
    "rss = []\n",
    "for i in range(100):\n",
    "    cv = KFold(5, shuffle=True, random_state=i)\n",
    "    follower_base_cv = cross_validate(follower_base_multi2, X2, y2, cv=cv, scoring=spearmanr_scorer)\n",
    "    rss.append(follower_base_cv[\"test_score\"].mean())\n",
    "rs2 =np.mean(rss)\n",
    "print(\"rs\", np.mean(rss), \"+/-\", np.std(rss))\n",
    "print(\"Paper: 0.725\")"
   ]
  },
  {
   "cell_type": "code",
   "execution_count": 114,
   "metadata": {},
   "outputs": [
    {
     "data": {
      "text/plain": [
       "0.44037859904104537"
      ]
     },
     "execution_count": 114,
     "metadata": {},
     "output_type": "execute_result"
    }
   ],
   "source": [
    "(rs1+rs2)/2"
   ]
  },
  {
   "cell_type": "code",
   "execution_count": null,
   "metadata": {},
   "outputs": [],
   "source": []
  },
  {
   "cell_type": "code",
   "execution_count": 115,
   "metadata": {},
   "outputs": [],
   "source": [
    "y1 = cluster_1[\"avg_views\"]\n",
    "X1 = cluster_1[[\"avg_likes\"]]\n",
    "y2 = cluster_2[\"avg_views\"]\n",
    "X2 = cluster_2[[\"avg_likes\"]]"
   ]
  },
  {
   "cell_type": "code",
   "execution_count": 116,
   "metadata": {},
   "outputs": [],
   "source": [
    "follower_base_multi1 = LinearRegression()\n",
    "follower_base_multi1.fit(X1, y1)\n",
    "y_pred_multi1 = follower_base_multi1.predict(X1)"
   ]
  },
  {
   "cell_type": "code",
   "execution_count": 117,
   "metadata": {},
   "outputs": [],
   "source": [
    "follower_base_multi2 = LinearRegression()\n",
    "follower_base_multi2.fit(X2, y2)\n",
    "y_pred_multi2 = follower_base_multi2.predict(X2)"
   ]
  },
  {
   "cell_type": "code",
   "execution_count": 118,
   "metadata": {},
   "outputs": [
    {
     "name": "stdout",
     "output_type": "stream",
     "text": [
      "R2 0.6841767849653192 +/- 0.0035781918074417733\n",
      "Paper: 0.204\n"
     ]
    }
   ],
   "source": [
    "r2s = []\n",
    "\n",
    "for i in range(100):\n",
    "    cv = KFold(5, shuffle=True, random_state=i)\n",
    "    follower_base_cv = cross_validate(follower_base_multi1, X1, y1, cv=cv, scoring='r2')\n",
    "    r2 =follower_base_cv[\"test_score\"].mean()\n",
    "    r2s.append(r2)\n",
    "    \n",
    "m1=np.mean(r2s)\n",
    "    \n",
    "print(\"R2\", np.mean(r2s), \"+/-\", np.std(r2s))\n",
    "print(\"Paper: 0.204\")"
   ]
  },
  {
   "cell_type": "code",
   "execution_count": 119,
   "metadata": {},
   "outputs": [
    {
     "name": "stdout",
     "output_type": "stream",
     "text": [
      "R2 -2.6390412257005176 +/- 2.94927758607524\n",
      "Paper: 0.204\n"
     ]
    }
   ],
   "source": [
    "r2s = []\n",
    "\n",
    "for i in range(100):\n",
    "    cv = KFold(5, shuffle=True, random_state=i)\n",
    "    follower_base_cv = cross_validate(follower_base_multi2, X2, y2, cv=cv, scoring='r2')\n",
    "    r2 =follower_base_cv[\"test_score\"].mean()\n",
    "    r2s.append(r2)\n",
    "    \n",
    "m2=np.mean(r2s)\n",
    "    \n",
    "print(\"R2\", np.mean(r2s), \"+/-\", np.std(r2s))\n",
    "print(\"Paper: 0.204\")"
   ]
  },
  {
   "cell_type": "code",
   "execution_count": 120,
   "metadata": {},
   "outputs": [
    {
     "data": {
      "text/plain": [
       "-0.9774322203675991"
      ]
     },
     "execution_count": 120,
     "metadata": {},
     "output_type": "execute_result"
    }
   ],
   "source": [
    "(m1+m2)/2"
   ]
  },
  {
   "cell_type": "code",
   "execution_count": 121,
   "metadata": {},
   "outputs": [
    {
     "name": "stdout",
     "output_type": "stream",
     "text": [
      "rs 0.8451527352374572 +/- 1.557532533105827e-05\n",
      "Paper: 0.725\n"
     ]
    }
   ],
   "source": [
    "rss = []\n",
    "for i in range(100):\n",
    "    cv = KFold(5, shuffle=True, random_state=i)\n",
    "    follower_base_cv = cross_validate(follower_base_multi1, X1, y1, cv=cv, scoring=spearmanr_scorer)\n",
    "    rss.append(follower_base_cv[\"test_score\"].mean())\n",
    "rs1 =np.mean(rss)\n",
    "print(\"rs\", np.mean(rss), \"+/-\", np.std(rss))\n",
    "print(\"Paper: 0.725\")"
   ]
  },
  {
   "cell_type": "code",
   "execution_count": 122,
   "metadata": {},
   "outputs": [
    {
     "name": "stdout",
     "output_type": "stream",
     "text": [
      "rs 0.14959999999999998 +/- 0.16575837837044616\n",
      "Paper: 0.725\n"
     ]
    }
   ],
   "source": [
    "rss = []\n",
    "for i in range(100):\n",
    "    cv = KFold(5, shuffle=True, random_state=i)\n",
    "    follower_base_cv = cross_validate(follower_base_multi2, X2, y2, cv=cv, scoring=spearmanr_scorer)\n",
    "    rss.append(follower_base_cv[\"test_score\"].mean())\n",
    "rs2 =np.mean(rss)\n",
    "print(\"rs\", np.mean(rss), \"+/-\", np.std(rss))\n",
    "print(\"Paper: 0.725\")"
   ]
  },
  {
   "cell_type": "code",
   "execution_count": 123,
   "metadata": {},
   "outputs": [
    {
     "data": {
      "text/plain": [
       "0.49737636761872855"
      ]
     },
     "execution_count": 123,
     "metadata": {},
     "output_type": "execute_result"
    }
   ],
   "source": [
    "(rs1+rs2)/2"
   ]
  },
  {
   "cell_type": "code",
   "execution_count": null,
   "metadata": {},
   "outputs": [],
   "source": []
  },
  {
   "cell_type": "markdown",
   "metadata": {},
   "source": [
    "### Ridge Regression"
   ]
  },
  {
   "cell_type": "code",
   "execution_count": 59,
   "metadata": {},
   "outputs": [],
   "source": [
    "y1 = cluster_1[\"avg_views\"]\n",
    "X1 = cluster_1.drop(\"avg_views\", axis=1)\n",
    "y2 = cluster_2[\"avg_views\"]\n",
    "X2 = cluster_2.drop(\"avg_views\", axis=1)"
   ]
  },
  {
   "cell_type": "code",
   "execution_count": 60,
   "metadata": {},
   "outputs": [],
   "source": [
    "cv_gen = KFold(5, shuffle=True, random_state=0)"
   ]
  },
  {
   "cell_type": "code",
   "execution_count": 61,
   "metadata": {},
   "outputs": [],
   "source": [
    "rr = Ridge(random_state=0)"
   ]
  },
  {
   "cell_type": "code",
   "execution_count": 62,
   "metadata": {},
   "outputs": [
    {
     "data": {
      "text/plain": [
       "0.6023528471122633"
      ]
     },
     "execution_count": 62,
     "metadata": {},
     "output_type": "execute_result"
    }
   ],
   "source": [
    "rr_cv = cross_validate(rr, X1, y1, cv=cv_gen, scoring='r2')\n",
    "r1=rr_cv[\"test_score\"].mean()\n",
    "r1\n",
    "# paper: 0.727"
   ]
  },
  {
   "cell_type": "code",
   "execution_count": 63,
   "metadata": {},
   "outputs": [
    {
     "name": "stderr",
     "output_type": "stream",
     "text": [
      "C:\\Users\\Laurin\\Anaconda3\\lib\\site-packages\\sklearn\\metrics\\_regression.py:594: UndefinedMetricWarning: R^2 score is not well-defined with less than two samples.\n",
      "  warnings.warn(msg, UndefinedMetricWarning)\n",
      "C:\\Users\\Laurin\\Anaconda3\\lib\\site-packages\\sklearn\\metrics\\_regression.py:594: UndefinedMetricWarning: R^2 score is not well-defined with less than two samples.\n",
      "  warnings.warn(msg, UndefinedMetricWarning)\n"
     ]
    },
    {
     "data": {
      "text/plain": [
       "nan"
      ]
     },
     "execution_count": 63,
     "metadata": {},
     "output_type": "execute_result"
    }
   ],
   "source": [
    "rr_cv = cross_validate(rr, X2, y2, cv=cv_gen, scoring='r2')\n",
    "r2=rr_cv[\"test_score\"].mean()\n",
    "r2\n",
    "# paper: 0.727"
   ]
  },
  {
   "cell_type": "code",
   "execution_count": 136,
   "metadata": {},
   "outputs": [
    {
     "data": {
      "text/plain": [
       "-33.44899838857622"
      ]
     },
     "execution_count": 136,
     "metadata": {},
     "output_type": "execute_result"
    }
   ],
   "source": [
    "(r1+r2)/2"
   ]
  },
  {
   "cell_type": "code",
   "execution_count": 133,
   "metadata": {},
   "outputs": [
    {
     "data": {
      "text/plain": [
       "0.8462637147607438"
      ]
     },
     "execution_count": 133,
     "metadata": {},
     "output_type": "execute_result"
    }
   ],
   "source": [
    "rr_cv = cross_validate(rr, X1, y1, cv=cv_gen, scoring=spearmanr_scorer)\n",
    "s1=rr_cv[\"test_score\"].mean()\n",
    "s1\n",
    "# paper: 0.821"
   ]
  },
  {
   "cell_type": "code",
   "execution_count": 134,
   "metadata": {},
   "outputs": [
    {
     "data": {
      "text/plain": [
       "0.12000000000000002"
      ]
     },
     "execution_count": 134,
     "metadata": {},
     "output_type": "execute_result"
    }
   ],
   "source": [
    "rr_cv = cross_validate(rr, X2, y2, cv=cv_gen, scoring=spearmanr_scorer)\n",
    "s2=rr_cv[\"test_score\"].mean()\n",
    "s2\n",
    "# paper: 0.821"
   ]
  },
  {
   "cell_type": "code",
   "execution_count": 135,
   "metadata": {},
   "outputs": [
    {
     "data": {
      "text/plain": [
       "0.4831318573803719"
      ]
     },
     "execution_count": 135,
     "metadata": {},
     "output_type": "execute_result"
    }
   ],
   "source": [
    "(s1+s2)/2"
   ]
  },
  {
   "cell_type": "markdown",
   "metadata": {},
   "source": [
    "## Minimal Ridge Regression Multiregression\n"
   ]
  },
  {
   "cell_type": "code",
   "execution_count": 64,
   "metadata": {},
   "outputs": [],
   "source": [
    "X1min = X1[[\"avg_likes\",\"comment_like_ratio\"]]\n",
    "X2min = X2[[\"avg_likes\",\"comment_like_ratio\"]]"
   ]
  },
  {
   "cell_type": "code",
   "execution_count": 65,
   "metadata": {},
   "outputs": [
    {
     "data": {
      "text/plain": [
       "0.6024609795894224"
      ]
     },
     "execution_count": 65,
     "metadata": {},
     "output_type": "execute_result"
    }
   ],
   "source": [
    "rr_cv = cross_validate(rr, X1min, y1, cv=cv_gen, scoring='r2')\n",
    "r1=rr_cv[\"test_score\"].mean()\n",
    "r1\n",
    "# paper: 0.727"
   ]
  },
  {
   "cell_type": "code",
   "execution_count": 66,
   "metadata": {},
   "outputs": [
    {
     "name": "stderr",
     "output_type": "stream",
     "text": [
      "C:\\Users\\Laurin\\Anaconda3\\lib\\site-packages\\sklearn\\metrics\\_regression.py:594: UndefinedMetricWarning: R^2 score is not well-defined with less than two samples.\n",
      "  warnings.warn(msg, UndefinedMetricWarning)\n",
      "C:\\Users\\Laurin\\Anaconda3\\lib\\site-packages\\sklearn\\metrics\\_regression.py:594: UndefinedMetricWarning: R^2 score is not well-defined with less than two samples.\n",
      "  warnings.warn(msg, UndefinedMetricWarning)\n"
     ]
    },
    {
     "data": {
      "text/plain": [
       "nan"
      ]
     },
     "execution_count": 66,
     "metadata": {},
     "output_type": "execute_result"
    }
   ],
   "source": [
    "rr_cv = cross_validate(rr, X2min, y2, cv=cv_gen, scoring='r2')\n",
    "r2=rr_cv[\"test_score\"].mean()\n",
    "r2\n",
    "# paper: 0.727"
   ]
  },
  {
   "cell_type": "code",
   "execution_count": null,
   "metadata": {},
   "outputs": [],
   "source": [
    "(r1+r2)/2"
   ]
  },
  {
   "cell_type": "code",
   "execution_count": 67,
   "metadata": {},
   "outputs": [
    {
     "data": {
      "text/plain": [
       "0.8361471739189785"
      ]
     },
     "execution_count": 67,
     "metadata": {},
     "output_type": "execute_result"
    }
   ],
   "source": [
    "rr_cv = cross_validate(rr, X1min, y1, cv=cv_gen, scoring=spearmanr_scorer)\n",
    "s1=rr_cv[\"test_score\"].mean()\n",
    "s1\n",
    "# paper: 0.818"
   ]
  },
  {
   "cell_type": "code",
   "execution_count": 68,
   "metadata": {},
   "outputs": [
    {
     "data": {
      "text/plain": [
       "nan"
      ]
     },
     "execution_count": 68,
     "metadata": {},
     "output_type": "execute_result"
    }
   ],
   "source": [
    "rr_cv = cross_validate(rr, X2min, y2, cv=cv_gen, scoring=spearmanr_scorer)\n",
    "s2=rr_cv[\"test_score\"].mean()\n",
    "s2\n",
    "# paper: 0.821"
   ]
  },
  {
   "cell_type": "code",
   "execution_count": 69,
   "metadata": {},
   "outputs": [
    {
     "data": {
      "text/plain": [
       "nan"
      ]
     },
     "execution_count": 69,
     "metadata": {},
     "output_type": "execute_result"
    }
   ],
   "source": [
    "(s1+s2)/2"
   ]
  },
  {
   "cell_type": "markdown",
   "metadata": {},
   "source": [
    "### Random Forest"
   ]
  },
  {
   "cell_type": "code",
   "execution_count": null,
   "metadata": {},
   "outputs": [],
   "source": [
    "y1 = cluster_1[\"avg_views\"]\n",
    "X1 = cluster_1.drop(\"avg_views\", axis=1)\n",
    "y2 = cluster_2[\"avg_views\"]\n",
    "X2 = cluster_2.drop(\"avg_views\", axis=1)"
   ]
  },
  {
   "cell_type": "code",
   "execution_count": 139,
   "metadata": {},
   "outputs": [],
   "source": [
    "rfr = RandomForestRegressor(random_state=0)"
   ]
  },
  {
   "cell_type": "code",
   "execution_count": 145,
   "metadata": {},
   "outputs": [
    {
     "name": "stdout",
     "output_type": "stream",
     "text": [
      "CPU times: user 37.6 ms, sys: 24.5 ms, total: 62.1 ms\n",
      "Wall time: 1min 45s\n"
     ]
    },
    {
     "data": {
      "text/plain": [
       "0.7395229287678871"
      ]
     },
     "execution_count": 145,
     "metadata": {},
     "output_type": "execute_result"
    }
   ],
   "source": [
    "%%time\n",
    "rfr_cv = cross_validate(rfr, X1, y1, cv=cv_gen, scoring='r2', n_jobs=-1)\n",
    "r1=rfr_cv[\"test_score\"].mean()\n",
    "r1\n",
    "# paper: 0.621"
   ]
  },
  {
   "cell_type": "code",
   "execution_count": 146,
   "metadata": {},
   "outputs": [
    {
     "name": "stdout",
     "output_type": "stream",
     "text": [
      "CPU times: user 11.1 ms, sys: 2.73 ms, total: 13.9 ms\n",
      "Wall time: 225 ms\n"
     ]
    },
    {
     "data": {
      "text/plain": [
       "-0.9528744953732071"
      ]
     },
     "execution_count": 146,
     "metadata": {},
     "output_type": "execute_result"
    }
   ],
   "source": [
    "%%time\n",
    "rfr_cv = cross_validate(rfr, X2, y2, cv=cv_gen, scoring='r2', n_jobs=-1)\n",
    "r2=rfr_cv[\"test_score\"].mean()\n",
    "r2\n",
    "# paper: 0.621"
   ]
  },
  {
   "cell_type": "code",
   "execution_count": 147,
   "metadata": {},
   "outputs": [
    {
     "data": {
      "text/plain": [
       "-0.10667578330266003"
      ]
     },
     "execution_count": 147,
     "metadata": {},
     "output_type": "execute_result"
    }
   ],
   "source": [
    "(r1+r2)/2"
   ]
  },
  {
   "cell_type": "code",
   "execution_count": 142,
   "metadata": {},
   "outputs": [
    {
     "name": "stdout",
     "output_type": "stream",
     "text": [
      "CPU times: user 36.6 ms, sys: 24.1 ms, total: 60.8 ms\n",
      "Wall time: 1min 47s\n"
     ]
    },
    {
     "data": {
      "text/plain": [
       "0.868155712668153"
      ]
     },
     "execution_count": 142,
     "metadata": {},
     "output_type": "execute_result"
    }
   ],
   "source": [
    "%%time\n",
    "rfr_cv = cross_validate(rfr, X1, y1, cv=cv_gen, scoring=spearmanr_scorer, n_jobs=-1)\n",
    "s1=rfr_cv[\"test_score\"].mean()\n",
    "s1\n",
    "# paper: 0.861 "
   ]
  },
  {
   "cell_type": "code",
   "execution_count": 143,
   "metadata": {},
   "outputs": [
    {
     "name": "stdout",
     "output_type": "stream",
     "text": [
      "CPU times: user 10.8 ms, sys: 2.69 ms, total: 13.5 ms\n",
      "Wall time: 408 ms\n"
     ]
    },
    {
     "data": {
      "text/plain": [
       "0.45999999999999996"
      ]
     },
     "execution_count": 143,
     "metadata": {},
     "output_type": "execute_result"
    }
   ],
   "source": [
    "%%time\n",
    "rfr_cv = cross_validate(rfr, X2, y2, cv=cv_gen, scoring=spearmanr_scorer, n_jobs=-1)\n",
    "s2=rfr_cv[\"test_score\"].mean()\n",
    "s2\n",
    "# paper: 0.861"
   ]
  },
  {
   "cell_type": "code",
   "execution_count": 144,
   "metadata": {},
   "outputs": [
    {
     "data": {
      "text/plain": [
       "0.6640778563340765"
      ]
     },
     "execution_count": 144,
     "metadata": {},
     "output_type": "execute_result"
    }
   ],
   "source": [
    "(s1+s2)/2"
   ]
  },
  {
   "cell_type": "markdown",
   "metadata": {},
   "source": [
    "## Minimal Random Forest Multiregression\n",
    "\n",
    "empty"
   ]
  },
  {
   "cell_type": "code",
   "execution_count": null,
   "metadata": {},
   "outputs": [],
   "source": []
  }
 ],
 "metadata": {
  "kernelspec": {
   "display_name": "Python 3",
   "language": "python",
   "name": "python3"
  },
  "language_info": {
   "codemirror_mode": {
    "name": "ipython",
    "version": 3
   },
   "file_extension": ".py",
   "mimetype": "text/x-python",
   "name": "python",
   "nbconvert_exporter": "python",
   "pygments_lexer": "ipython3",
   "version": "3.6.5"
  }
 },
 "nbformat": 4,
 "nbformat_minor": 4
}
