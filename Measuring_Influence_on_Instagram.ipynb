{
 "cells": [
  {
   "cell_type": "markdown",
   "metadata": {},
   "source": [
    "# Measuring Influence on Instagram"
   ]
  },
  {
   "cell_type": "code",
   "execution_count": 1,
   "metadata": {},
   "outputs": [],
   "source": [
    "import pandas as pd\n",
    "import numpy as np\n",
    "import matplotlib.pyplot as plt\n",
    "import math "
   ]
  },
  {
   "cell_type": "code",
   "execution_count": 2,
   "metadata": {},
   "outputs": [
    {
     "data": {
      "text/plain": [
       "(114781, 7)"
      ]
     },
     "metadata": {},
     "output_type": "display_data"
    },
    {
     "data": {
      "text/html": [
       "<div>\n",
       "<style scoped>\n",
       "    .dataframe tbody tr th:only-of-type {\n",
       "        vertical-align: middle;\n",
       "    }\n",
       "\n",
       "    .dataframe tbody tr th {\n",
       "        vertical-align: top;\n",
       "    }\n",
       "\n",
       "    .dataframe thead th {\n",
       "        text-align: right;\n",
       "    }\n",
       "</style>\n",
       "<table border=\"1\" class=\"dataframe\">\n",
       "  <thead>\n",
       "    <tr style=\"text-align: right;\">\n",
       "      <th></th>\n",
       "      <th>avg_likes</th>\n",
       "      <th>avg_comments</th>\n",
       "      <th>avg_followers</th>\n",
       "      <th>avg_posts</th>\n",
       "      <th>max_likes</th>\n",
       "      <th>min_likes</th>\n",
       "      <th>avg_views</th>\n",
       "    </tr>\n",
       "  </thead>\n",
       "  <tbody>\n",
       "    <tr>\n",
       "      <th>0</th>\n",
       "      <td>97.5000</td>\n",
       "      <td>3.0000</td>\n",
       "      <td>13178.0</td>\n",
       "      <td>1967.0</td>\n",
       "      <td>113</td>\n",
       "      <td>59</td>\n",
       "      <td>333.1667</td>\n",
       "    </tr>\n",
       "    <tr>\n",
       "      <th>1</th>\n",
       "      <td>91.7500</td>\n",
       "      <td>9.2500</td>\n",
       "      <td>4228.0</td>\n",
       "      <td>1402.0</td>\n",
       "      <td>174</td>\n",
       "      <td>39</td>\n",
       "      <td>308.6250</td>\n",
       "    </tr>\n",
       "    <tr>\n",
       "      <th>2</th>\n",
       "      <td>33.0000</td>\n",
       "      <td>3.5000</td>\n",
       "      <td>2212.0</td>\n",
       "      <td>2471.0</td>\n",
       "      <td>46</td>\n",
       "      <td>23</td>\n",
       "      <td>126.7500</td>\n",
       "    </tr>\n",
       "    <tr>\n",
       "      <th>3</th>\n",
       "      <td>20.0000</td>\n",
       "      <td>3.5000</td>\n",
       "      <td>203.0</td>\n",
       "      <td>1838.0</td>\n",
       "      <td>26</td>\n",
       "      <td>16</td>\n",
       "      <td>65.5000</td>\n",
       "    </tr>\n",
       "    <tr>\n",
       "      <th>4</th>\n",
       "      <td>13.2000</td>\n",
       "      <td>1.2000</td>\n",
       "      <td>132.0</td>\n",
       "      <td>309.0</td>\n",
       "      <td>18</td>\n",
       "      <td>9</td>\n",
       "      <td>61.2000</td>\n",
       "    </tr>\n",
       "    <tr>\n",
       "      <th>5</th>\n",
       "      <td>109.1111</td>\n",
       "      <td>8.8889</td>\n",
       "      <td>2074.0</td>\n",
       "      <td>1583.0</td>\n",
       "      <td>215</td>\n",
       "      <td>60</td>\n",
       "      <td>638.4444</td>\n",
       "    </tr>\n",
       "    <tr>\n",
       "      <th>6</th>\n",
       "      <td>153.0000</td>\n",
       "      <td>12.6667</td>\n",
       "      <td>1718.0</td>\n",
       "      <td>4865.0</td>\n",
       "      <td>246</td>\n",
       "      <td>37</td>\n",
       "      <td>428.6667</td>\n",
       "    </tr>\n",
       "    <tr>\n",
       "      <th>7</th>\n",
       "      <td>50.5000</td>\n",
       "      <td>12.5000</td>\n",
       "      <td>511.0</td>\n",
       "      <td>739.0</td>\n",
       "      <td>62</td>\n",
       "      <td>35</td>\n",
       "      <td>148.1667</td>\n",
       "    </tr>\n",
       "    <tr>\n",
       "      <th>8</th>\n",
       "      <td>35.0000</td>\n",
       "      <td>0.6000</td>\n",
       "      <td>1216.0</td>\n",
       "      <td>2435.0</td>\n",
       "      <td>42</td>\n",
       "      <td>25</td>\n",
       "      <td>117.6000</td>\n",
       "    </tr>\n",
       "    <tr>\n",
       "      <th>9</th>\n",
       "      <td>32.0000</td>\n",
       "      <td>6.0000</td>\n",
       "      <td>1019.0</td>\n",
       "      <td>8328.0</td>\n",
       "      <td>53</td>\n",
       "      <td>14</td>\n",
       "      <td>90.0000</td>\n",
       "    </tr>\n",
       "    <tr>\n",
       "      <th>10</th>\n",
       "      <td>6082.7500</td>\n",
       "      <td>185.0000</td>\n",
       "      <td>149786.0</td>\n",
       "      <td>827.0</td>\n",
       "      <td>7833</td>\n",
       "      <td>5197</td>\n",
       "      <td>27327.2500</td>\n",
       "    </tr>\n",
       "    <tr>\n",
       "      <th>11</th>\n",
       "      <td>63.2857</td>\n",
       "      <td>3.7143</td>\n",
       "      <td>3336.0</td>\n",
       "      <td>4268.0</td>\n",
       "      <td>100</td>\n",
       "      <td>45</td>\n",
       "      <td>239.8571</td>\n",
       "    </tr>\n",
       "    <tr>\n",
       "      <th>12</th>\n",
       "      <td>18.2500</td>\n",
       "      <td>1.1250</td>\n",
       "      <td>956.0</td>\n",
       "      <td>489.0</td>\n",
       "      <td>31</td>\n",
       "      <td>11</td>\n",
       "      <td>118.5000</td>\n",
       "    </tr>\n",
       "    <tr>\n",
       "      <th>13</th>\n",
       "      <td>13.3333</td>\n",
       "      <td>0.0000</td>\n",
       "      <td>775.0</td>\n",
       "      <td>2955.0</td>\n",
       "      <td>15</td>\n",
       "      <td>12</td>\n",
       "      <td>83.3333</td>\n",
       "    </tr>\n",
       "    <tr>\n",
       "      <th>14</th>\n",
       "      <td>46.6000</td>\n",
       "      <td>0.8000</td>\n",
       "      <td>66986.0</td>\n",
       "      <td>1665.0</td>\n",
       "      <td>57</td>\n",
       "      <td>42</td>\n",
       "      <td>588.0000</td>\n",
       "    </tr>\n",
       "    <tr>\n",
       "      <th>15</th>\n",
       "      <td>13.0769</td>\n",
       "      <td>0.6923</td>\n",
       "      <td>2451.0</td>\n",
       "      <td>12115.0</td>\n",
       "      <td>25</td>\n",
       "      <td>5</td>\n",
       "      <td>55.6923</td>\n",
       "    </tr>\n",
       "    <tr>\n",
       "      <th>16</th>\n",
       "      <td>17.2105</td>\n",
       "      <td>0.3158</td>\n",
       "      <td>1448.0</td>\n",
       "      <td>3540.0</td>\n",
       "      <td>35</td>\n",
       "      <td>4</td>\n",
       "      <td>94.6842</td>\n",
       "    </tr>\n",
       "    <tr>\n",
       "      <th>17</th>\n",
       "      <td>26.2500</td>\n",
       "      <td>0.5000</td>\n",
       "      <td>472.0</td>\n",
       "      <td>896.0</td>\n",
       "      <td>32</td>\n",
       "      <td>19</td>\n",
       "      <td>123.5000</td>\n",
       "    </tr>\n",
       "    <tr>\n",
       "      <th>18</th>\n",
       "      <td>80.5000</td>\n",
       "      <td>5.5000</td>\n",
       "      <td>1198.0</td>\n",
       "      <td>182.0</td>\n",
       "      <td>93</td>\n",
       "      <td>64</td>\n",
       "      <td>327.2500</td>\n",
       "    </tr>\n",
       "    <tr>\n",
       "      <th>19</th>\n",
       "      <td>36.2500</td>\n",
       "      <td>1.2500</td>\n",
       "      <td>335.0</td>\n",
       "      <td>1017.0</td>\n",
       "      <td>47</td>\n",
       "      <td>29</td>\n",
       "      <td>67.7500</td>\n",
       "    </tr>\n",
       "  </tbody>\n",
       "</table>\n",
       "</div>"
      ],
      "text/plain": [
       "    avg_likes  avg_comments  avg_followers  avg_posts  max_likes  min_likes  \\\n",
       "0     97.5000        3.0000        13178.0     1967.0        113         59   \n",
       "1     91.7500        9.2500         4228.0     1402.0        174         39   \n",
       "2     33.0000        3.5000         2212.0     2471.0         46         23   \n",
       "3     20.0000        3.5000          203.0     1838.0         26         16   \n",
       "4     13.2000        1.2000          132.0      309.0         18          9   \n",
       "5    109.1111        8.8889         2074.0     1583.0        215         60   \n",
       "6    153.0000       12.6667         1718.0     4865.0        246         37   \n",
       "7     50.5000       12.5000          511.0      739.0         62         35   \n",
       "8     35.0000        0.6000         1216.0     2435.0         42         25   \n",
       "9     32.0000        6.0000         1019.0     8328.0         53         14   \n",
       "10  6082.7500      185.0000       149786.0      827.0       7833       5197   \n",
       "11    63.2857        3.7143         3336.0     4268.0        100         45   \n",
       "12    18.2500        1.1250          956.0      489.0         31         11   \n",
       "13    13.3333        0.0000          775.0     2955.0         15         12   \n",
       "14    46.6000        0.8000        66986.0     1665.0         57         42   \n",
       "15    13.0769        0.6923         2451.0    12115.0         25          5   \n",
       "16    17.2105        0.3158         1448.0     3540.0         35          4   \n",
       "17    26.2500        0.5000          472.0      896.0         32         19   \n",
       "18    80.5000        5.5000         1198.0      182.0         93         64   \n",
       "19    36.2500        1.2500          335.0     1017.0         47         29   \n",
       "\n",
       "     avg_views  \n",
       "0     333.1667  \n",
       "1     308.6250  \n",
       "2     126.7500  \n",
       "3      65.5000  \n",
       "4      61.2000  \n",
       "5     638.4444  \n",
       "6     428.6667  \n",
       "7     148.1667  \n",
       "8     117.6000  \n",
       "9      90.0000  \n",
       "10  27327.2500  \n",
       "11    239.8571  \n",
       "12    118.5000  \n",
       "13     83.3333  \n",
       "14    588.0000  \n",
       "15     55.6923  \n",
       "16     94.6842  \n",
       "17    123.5000  \n",
       "18    327.2500  \n",
       "19     67.7500  "
      ]
     },
     "execution_count": 2,
     "metadata": {},
     "output_type": "execute_result"
    }
   ],
   "source": [
    "usersData = pd.read_csv('instagram_data/usersData.csv', sep=',')\n",
    "display(usersData.shape)\n",
    "usersData.head(20)"
   ]
  },
  {
   "cell_type": "code",
   "execution_count": 3,
   "metadata": {},
   "outputs": [
    {
     "data": {
      "text/html": [
       "<div>\n",
       "<style scoped>\n",
       "    .dataframe tbody tr th:only-of-type {\n",
       "        vertical-align: middle;\n",
       "    }\n",
       "\n",
       "    .dataframe tbody tr th {\n",
       "        vertical-align: top;\n",
       "    }\n",
       "\n",
       "    .dataframe thead th {\n",
       "        text-align: right;\n",
       "    }\n",
       "</style>\n",
       "<table border=\"1\" class=\"dataframe\">\n",
       "  <thead>\n",
       "    <tr style=\"text-align: right;\">\n",
       "      <th></th>\n",
       "      <th>avg_likes</th>\n",
       "      <th>avg_comments</th>\n",
       "      <th>avg_followers</th>\n",
       "      <th>avg_posts</th>\n",
       "      <th>max_likes</th>\n",
       "      <th>min_likes</th>\n",
       "      <th>avg_views</th>\n",
       "    </tr>\n",
       "  </thead>\n",
       "  <tbody>\n",
       "    <tr>\n",
       "      <th>count</th>\n",
       "      <td>1.147810e+05</td>\n",
       "      <td>114781.000000</td>\n",
       "      <td>1.147810e+05</td>\n",
       "      <td>114781.000000</td>\n",
       "      <td>1.147810e+05</td>\n",
       "      <td>1.147810e+05</td>\n",
       "      <td>1.147810e+05</td>\n",
       "    </tr>\n",
       "    <tr>\n",
       "      <th>mean</th>\n",
       "      <td>8.980949e+02</td>\n",
       "      <td>27.756262</td>\n",
       "      <td>6.016005e+04</td>\n",
       "      <td>995.570356</td>\n",
       "      <td>1.365752e+03</td>\n",
       "      <td>5.694098e+02</td>\n",
       "      <td>7.276758e+03</td>\n",
       "    </tr>\n",
       "    <tr>\n",
       "      <th>std</th>\n",
       "      <td>1.063233e+04</td>\n",
       "      <td>774.559009</td>\n",
       "      <td>1.115905e+06</td>\n",
       "      <td>1927.328265</td>\n",
       "      <td>1.490799e+04</td>\n",
       "      <td>7.615014e+03</td>\n",
       "      <td>7.385628e+04</td>\n",
       "    </tr>\n",
       "    <tr>\n",
       "      <th>min</th>\n",
       "      <td>1.000000e+00</td>\n",
       "      <td>0.000000</td>\n",
       "      <td>3.000000e+00</td>\n",
       "      <td>1.000000</td>\n",
       "      <td>1.000000e+00</td>\n",
       "      <td>1.000000e+00</td>\n",
       "      <td>1.500000e+00</td>\n",
       "    </tr>\n",
       "    <tr>\n",
       "      <th>25%</th>\n",
       "      <td>7.966670e+01</td>\n",
       "      <td>2.833300</td>\n",
       "      <td>1.384000e+03</td>\n",
       "      <td>194.000000</td>\n",
       "      <td>1.080000e+02</td>\n",
       "      <td>4.800000e+01</td>\n",
       "      <td>2.213333e+02</td>\n",
       "    </tr>\n",
       "    <tr>\n",
       "      <th>50%</th>\n",
       "      <td>1.579286e+02</td>\n",
       "      <td>6.571400</td>\n",
       "      <td>4.583000e+03</td>\n",
       "      <td>479.000000</td>\n",
       "      <td>2.150000e+02</td>\n",
       "      <td>1.050000e+02</td>\n",
       "      <td>6.073333e+02</td>\n",
       "    </tr>\n",
       "    <tr>\n",
       "      <th>75%</th>\n",
       "      <td>3.745000e+02</td>\n",
       "      <td>14.800000</td>\n",
       "      <td>1.626000e+04</td>\n",
       "      <td>1105.000000</td>\n",
       "      <td>5.460000e+02</td>\n",
       "      <td>2.400000e+02</td>\n",
       "      <td>2.072500e+03</td>\n",
       "    </tr>\n",
       "    <tr>\n",
       "      <th>max</th>\n",
       "      <td>1.629037e+06</td>\n",
       "      <td>242543.187500</td>\n",
       "      <td>2.316562e+08</td>\n",
       "      <td>140014.000000</td>\n",
       "      <td>2.068986e+06</td>\n",
       "      <td>1.279511e+06</td>\n",
       "      <td>1.283367e+07</td>\n",
       "    </tr>\n",
       "  </tbody>\n",
       "</table>\n",
       "</div>"
      ],
      "text/plain": [
       "          avg_likes   avg_comments  avg_followers      avg_posts  \\\n",
       "count  1.147810e+05  114781.000000   1.147810e+05  114781.000000   \n",
       "mean   8.980949e+02      27.756262   6.016005e+04     995.570356   \n",
       "std    1.063233e+04     774.559009   1.115905e+06    1927.328265   \n",
       "min    1.000000e+00       0.000000   3.000000e+00       1.000000   \n",
       "25%    7.966670e+01       2.833300   1.384000e+03     194.000000   \n",
       "50%    1.579286e+02       6.571400   4.583000e+03     479.000000   \n",
       "75%    3.745000e+02      14.800000   1.626000e+04    1105.000000   \n",
       "max    1.629037e+06  242543.187500   2.316562e+08  140014.000000   \n",
       "\n",
       "          max_likes     min_likes     avg_views  \n",
       "count  1.147810e+05  1.147810e+05  1.147810e+05  \n",
       "mean   1.365752e+03  5.694098e+02  7.276758e+03  \n",
       "std    1.490799e+04  7.615014e+03  7.385628e+04  \n",
       "min    1.000000e+00  1.000000e+00  1.500000e+00  \n",
       "25%    1.080000e+02  4.800000e+01  2.213333e+02  \n",
       "50%    2.150000e+02  1.050000e+02  6.073333e+02  \n",
       "75%    5.460000e+02  2.400000e+02  2.072500e+03  \n",
       "max    2.068986e+06  1.279511e+06  1.283367e+07  "
      ]
     },
     "execution_count": 3,
     "metadata": {},
     "output_type": "execute_result"
    }
   ],
   "source": [
    "usersData.describe()"
   ]
  },
  {
   "cell_type": "code",
   "execution_count": 4,
   "metadata": {},
   "outputs": [
    {
     "data": {
      "text/plain": [
       "(1422894, 2)"
      ]
     },
     "metadata": {},
     "output_type": "display_data"
    },
    {
     "data": {
      "text/html": [
       "<div>\n",
       "<style scoped>\n",
       "    .dataframe tbody tr th:only-of-type {\n",
       "        vertical-align: middle;\n",
       "    }\n",
       "\n",
       "    .dataframe tbody tr th {\n",
       "        vertical-align: top;\n",
       "    }\n",
       "\n",
       "    .dataframe thead th {\n",
       "        text-align: right;\n",
       "    }\n",
       "</style>\n",
       "<table border=\"1\" class=\"dataframe\">\n",
       "  <thead>\n",
       "    <tr style=\"text-align: right;\">\n",
       "      <th></th>\n",
       "      <th>followers</th>\n",
       "      <th>views</th>\n",
       "    </tr>\n",
       "  </thead>\n",
       "  <tbody>\n",
       "    <tr>\n",
       "      <th>0</th>\n",
       "      <td>13178</td>\n",
       "      <td>250</td>\n",
       "    </tr>\n",
       "    <tr>\n",
       "      <th>1</th>\n",
       "      <td>13178</td>\n",
       "      <td>604</td>\n",
       "    </tr>\n",
       "    <tr>\n",
       "      <th>2</th>\n",
       "      <td>13178</td>\n",
       "      <td>239</td>\n",
       "    </tr>\n",
       "    <tr>\n",
       "      <th>3</th>\n",
       "      <td>13178</td>\n",
       "      <td>858</td>\n",
       "    </tr>\n",
       "    <tr>\n",
       "      <th>4</th>\n",
       "      <td>13178</td>\n",
       "      <td>271</td>\n",
       "    </tr>\n",
       "    <tr>\n",
       "      <th>5</th>\n",
       "      <td>13178</td>\n",
       "      <td>317</td>\n",
       "    </tr>\n",
       "    <tr>\n",
       "      <th>6</th>\n",
       "      <td>13178</td>\n",
       "      <td>318</td>\n",
       "    </tr>\n",
       "    <tr>\n",
       "      <th>7</th>\n",
       "      <td>13178</td>\n",
       "      <td>126</td>\n",
       "    </tr>\n",
       "    <tr>\n",
       "      <th>8</th>\n",
       "      <td>4228</td>\n",
       "      <td>372</td>\n",
       "    </tr>\n",
       "    <tr>\n",
       "      <th>9</th>\n",
       "      <td>4228</td>\n",
       "      <td>404</td>\n",
       "    </tr>\n",
       "    <tr>\n",
       "      <th>10</th>\n",
       "      <td>4228</td>\n",
       "      <td>296</td>\n",
       "    </tr>\n",
       "    <tr>\n",
       "      <th>11</th>\n",
       "      <td>4228</td>\n",
       "      <td>313</td>\n",
       "    </tr>\n",
       "    <tr>\n",
       "      <th>12</th>\n",
       "      <td>4228</td>\n",
       "      <td>286</td>\n",
       "    </tr>\n",
       "    <tr>\n",
       "      <th>13</th>\n",
       "      <td>4228</td>\n",
       "      <td>264</td>\n",
       "    </tr>\n",
       "    <tr>\n",
       "      <th>14</th>\n",
       "      <td>4228</td>\n",
       "      <td>182</td>\n",
       "    </tr>\n",
       "    <tr>\n",
       "      <th>15</th>\n",
       "      <td>4228</td>\n",
       "      <td>328</td>\n",
       "    </tr>\n",
       "    <tr>\n",
       "      <th>16</th>\n",
       "      <td>4228</td>\n",
       "      <td>285</td>\n",
       "    </tr>\n",
       "    <tr>\n",
       "      <th>17</th>\n",
       "      <td>4228</td>\n",
       "      <td>234</td>\n",
       "    </tr>\n",
       "    <tr>\n",
       "      <th>18</th>\n",
       "      <td>4228</td>\n",
       "      <td>347</td>\n",
       "    </tr>\n",
       "    <tr>\n",
       "      <th>19</th>\n",
       "      <td>4228</td>\n",
       "      <td>350</td>\n",
       "    </tr>\n",
       "  </tbody>\n",
       "</table>\n",
       "</div>"
      ],
      "text/plain": [
       "    followers  views\n",
       "0       13178    250\n",
       "1       13178    604\n",
       "2       13178    239\n",
       "3       13178    858\n",
       "4       13178    271\n",
       "5       13178    317\n",
       "6       13178    318\n",
       "7       13178    126\n",
       "8        4228    372\n",
       "9        4228    404\n",
       "10       4228    296\n",
       "11       4228    313\n",
       "12       4228    286\n",
       "13       4228    264\n",
       "14       4228    182\n",
       "15       4228    328\n",
       "16       4228    285\n",
       "17       4228    234\n",
       "18       4228    347\n",
       "19       4228    350"
      ]
     },
     "execution_count": 4,
     "metadata": {},
     "output_type": "execute_result"
    }
   ],
   "source": [
    "followers_views = pd.read_csv('instagram_data/followers_views.csv', sep=',')\n",
    "display(followers_views.shape)\n",
    "followers_views.head(20)"
   ]
  },
  {
   "cell_type": "code",
   "execution_count": 5,
   "metadata": {},
   "outputs": [
    {
     "data": {
      "text/html": [
       "<div>\n",
       "<style scoped>\n",
       "    .dataframe tbody tr th:only-of-type {\n",
       "        vertical-align: middle;\n",
       "    }\n",
       "\n",
       "    .dataframe tbody tr th {\n",
       "        vertical-align: top;\n",
       "    }\n",
       "\n",
       "    .dataframe thead th {\n",
       "        text-align: right;\n",
       "    }\n",
       "</style>\n",
       "<table border=\"1\" class=\"dataframe\">\n",
       "  <thead>\n",
       "    <tr style=\"text-align: right;\">\n",
       "      <th></th>\n",
       "      <th>followers</th>\n",
       "      <th>views</th>\n",
       "    </tr>\n",
       "  </thead>\n",
       "  <tbody>\n",
       "    <tr>\n",
       "      <th>226</th>\n",
       "      <td>11592</td>\n",
       "      <td>20880</td>\n",
       "    </tr>\n",
       "    <tr>\n",
       "      <th>244</th>\n",
       "      <td>6693</td>\n",
       "      <td>12449</td>\n",
       "    </tr>\n",
       "    <tr>\n",
       "      <th>245</th>\n",
       "      <td>6693</td>\n",
       "      <td>7031</td>\n",
       "    </tr>\n",
       "    <tr>\n",
       "      <th>365</th>\n",
       "      <td>19985</td>\n",
       "      <td>23627</td>\n",
       "    </tr>\n",
       "    <tr>\n",
       "      <th>468</th>\n",
       "      <td>41142</td>\n",
       "      <td>69495</td>\n",
       "    </tr>\n",
       "    <tr>\n",
       "      <th>...</th>\n",
       "      <td>...</td>\n",
       "      <td>...</td>\n",
       "    </tr>\n",
       "    <tr>\n",
       "      <th>1422799</th>\n",
       "      <td>103</td>\n",
       "      <td>364</td>\n",
       "    </tr>\n",
       "    <tr>\n",
       "      <th>1422800</th>\n",
       "      <td>103</td>\n",
       "      <td>207</td>\n",
       "    </tr>\n",
       "    <tr>\n",
       "      <th>1422801</th>\n",
       "      <td>103</td>\n",
       "      <td>214</td>\n",
       "    </tr>\n",
       "    <tr>\n",
       "      <th>1422887</th>\n",
       "      <td>27493</td>\n",
       "      <td>95484</td>\n",
       "    </tr>\n",
       "    <tr>\n",
       "      <th>1422889</th>\n",
       "      <td>27493</td>\n",
       "      <td>54348</td>\n",
       "    </tr>\n",
       "  </tbody>\n",
       "</table>\n",
       "<p>112063 rows × 2 columns</p>\n",
       "</div>"
      ],
      "text/plain": [
       "         followers  views\n",
       "226          11592  20880\n",
       "244           6693  12449\n",
       "245           6693   7031\n",
       "365          19985  23627\n",
       "468          41142  69495\n",
       "...            ...    ...\n",
       "1422799        103    364\n",
       "1422800        103    207\n",
       "1422801        103    214\n",
       "1422887      27493  95484\n",
       "1422889      27493  54348\n",
       "\n",
       "[112063 rows x 2 columns]"
      ]
     },
     "execution_count": 5,
     "metadata": {},
     "output_type": "execute_result"
    }
   ],
   "source": [
    "followers_views[followers_views.followers<followers_views.views]"
   ]
  },
  {
   "cell_type": "code",
   "execution_count": 6,
   "metadata": {},
   "outputs": [
    {
     "data": {
      "text/html": [
       "<div>\n",
       "<style scoped>\n",
       "    .dataframe tbody tr th:only-of-type {\n",
       "        vertical-align: middle;\n",
       "    }\n",
       "\n",
       "    .dataframe tbody tr th {\n",
       "        vertical-align: top;\n",
       "    }\n",
       "\n",
       "    .dataframe thead th {\n",
       "        text-align: right;\n",
       "    }\n",
       "</style>\n",
       "<table border=\"1\" class=\"dataframe\">\n",
       "  <thead>\n",
       "    <tr style=\"text-align: right;\">\n",
       "      <th></th>\n",
       "      <th>followers</th>\n",
       "      <th>views</th>\n",
       "    </tr>\n",
       "  </thead>\n",
       "  <tbody>\n",
       "    <tr>\n",
       "      <th>count</th>\n",
       "      <td>1.422894e+06</td>\n",
       "      <td>1.422894e+06</td>\n",
       "    </tr>\n",
       "    <tr>\n",
       "      <th>mean</th>\n",
       "      <td>1.019482e+05</td>\n",
       "      <td>1.697887e+04</td>\n",
       "    </tr>\n",
       "    <tr>\n",
       "      <th>std</th>\n",
       "      <td>1.426782e+06</td>\n",
       "      <td>3.572234e+05</td>\n",
       "    </tr>\n",
       "    <tr>\n",
       "      <th>min</th>\n",
       "      <td>0.000000e+00</td>\n",
       "      <td>1.000000e+00</td>\n",
       "    </tr>\n",
       "    <tr>\n",
       "      <th>25%</th>\n",
       "      <td>1.786000e+03</td>\n",
       "      <td>2.620000e+02</td>\n",
       "    </tr>\n",
       "    <tr>\n",
       "      <th>50%</th>\n",
       "      <td>6.393000e+03</td>\n",
       "      <td>8.350000e+02</td>\n",
       "    </tr>\n",
       "    <tr>\n",
       "      <th>75%</th>\n",
       "      <td>2.342400e+04</td>\n",
       "      <td>3.814000e+03</td>\n",
       "    </tr>\n",
       "    <tr>\n",
       "      <th>max</th>\n",
       "      <td>2.312398e+08</td>\n",
       "      <td>2.825005e+08</td>\n",
       "    </tr>\n",
       "  </tbody>\n",
       "</table>\n",
       "</div>"
      ],
      "text/plain": [
       "          followers         views\n",
       "count  1.422894e+06  1.422894e+06\n",
       "mean   1.019482e+05  1.697887e+04\n",
       "std    1.426782e+06  3.572234e+05\n",
       "min    0.000000e+00  1.000000e+00\n",
       "25%    1.786000e+03  2.620000e+02\n",
       "50%    6.393000e+03  8.350000e+02\n",
       "75%    2.342400e+04  3.814000e+03\n",
       "max    2.312398e+08  2.825005e+08"
      ]
     },
     "execution_count": 6,
     "metadata": {},
     "output_type": "execute_result"
    }
   ],
   "source": [
    "followers_views.describe()"
   ]
  },
  {
   "cell_type": "code",
   "execution_count": 7,
   "metadata": {},
   "outputs": [
    {
     "data": {
      "text/plain": [
       "(1426188, 2)"
      ]
     },
     "metadata": {},
     "output_type": "display_data"
    },
    {
     "data": {
      "text/html": [
       "<div>\n",
       "<style scoped>\n",
       "    .dataframe tbody tr th:only-of-type {\n",
       "        vertical-align: middle;\n",
       "    }\n",
       "\n",
       "    .dataframe tbody tr th {\n",
       "        vertical-align: top;\n",
       "    }\n",
       "\n",
       "    .dataframe thead th {\n",
       "        text-align: right;\n",
       "    }\n",
       "</style>\n",
       "<table border=\"1\" class=\"dataframe\">\n",
       "  <thead>\n",
       "    <tr style=\"text-align: right;\">\n",
       "      <th></th>\n",
       "      <th>likes</th>\n",
       "      <th>views</th>\n",
       "    </tr>\n",
       "  </thead>\n",
       "  <tbody>\n",
       "    <tr>\n",
       "      <th>0</th>\n",
       "      <td>98</td>\n",
       "      <td>250</td>\n",
       "    </tr>\n",
       "    <tr>\n",
       "      <th>1</th>\n",
       "      <td>100</td>\n",
       "      <td>604</td>\n",
       "    </tr>\n",
       "    <tr>\n",
       "      <th>2</th>\n",
       "      <td>109</td>\n",
       "      <td>239</td>\n",
       "    </tr>\n",
       "    <tr>\n",
       "      <th>3</th>\n",
       "      <td>103</td>\n",
       "      <td>858</td>\n",
       "    </tr>\n",
       "    <tr>\n",
       "      <th>4</th>\n",
       "      <td>106</td>\n",
       "      <td>271</td>\n",
       "    </tr>\n",
       "    <tr>\n",
       "      <th>5</th>\n",
       "      <td>59</td>\n",
       "      <td>317</td>\n",
       "    </tr>\n",
       "    <tr>\n",
       "      <th>6</th>\n",
       "      <td>113</td>\n",
       "      <td>318</td>\n",
       "    </tr>\n",
       "    <tr>\n",
       "      <th>7</th>\n",
       "      <td>57</td>\n",
       "      <td>126</td>\n",
       "    </tr>\n",
       "    <tr>\n",
       "      <th>8</th>\n",
       "      <td>172</td>\n",
       "      <td>372</td>\n",
       "    </tr>\n",
       "    <tr>\n",
       "      <th>9</th>\n",
       "      <td>87</td>\n",
       "      <td>404</td>\n",
       "    </tr>\n",
       "    <tr>\n",
       "      <th>10</th>\n",
       "      <td>39</td>\n",
       "      <td>296</td>\n",
       "    </tr>\n",
       "    <tr>\n",
       "      <th>11</th>\n",
       "      <td>56</td>\n",
       "      <td>313</td>\n",
       "    </tr>\n",
       "    <tr>\n",
       "      <th>12</th>\n",
       "      <td>137</td>\n",
       "      <td>286</td>\n",
       "    </tr>\n",
       "    <tr>\n",
       "      <th>13</th>\n",
       "      <td>108</td>\n",
       "      <td>264</td>\n",
       "    </tr>\n",
       "    <tr>\n",
       "      <th>14</th>\n",
       "      <td>55</td>\n",
       "      <td>182</td>\n",
       "    </tr>\n",
       "    <tr>\n",
       "      <th>15</th>\n",
       "      <td>59</td>\n",
       "      <td>328</td>\n",
       "    </tr>\n",
       "    <tr>\n",
       "      <th>16</th>\n",
       "      <td>60</td>\n",
       "      <td>285</td>\n",
       "    </tr>\n",
       "    <tr>\n",
       "      <th>17</th>\n",
       "      <td>68</td>\n",
       "      <td>234</td>\n",
       "    </tr>\n",
       "    <tr>\n",
       "      <th>18</th>\n",
       "      <td>103</td>\n",
       "      <td>347</td>\n",
       "    </tr>\n",
       "    <tr>\n",
       "      <th>19</th>\n",
       "      <td>179</td>\n",
       "      <td>350</td>\n",
       "    </tr>\n",
       "  </tbody>\n",
       "</table>\n",
       "</div>"
      ],
      "text/plain": [
       "    likes  views\n",
       "0      98    250\n",
       "1     100    604\n",
       "2     109    239\n",
       "3     103    858\n",
       "4     106    271\n",
       "5      59    317\n",
       "6     113    318\n",
       "7      57    126\n",
       "8     172    372\n",
       "9      87    404\n",
       "10     39    296\n",
       "11     56    313\n",
       "12    137    286\n",
       "13    108    264\n",
       "14     55    182\n",
       "15     59    328\n",
       "16     60    285\n",
       "17     68    234\n",
       "18    103    347\n",
       "19    179    350"
      ]
     },
     "execution_count": 7,
     "metadata": {},
     "output_type": "execute_result"
    }
   ],
   "source": [
    "likes_views = pd.read_csv('instagram_data/likes_views.csv', sep=',')\n",
    "display(likes_views.shape)\n",
    "likes_views.head(20)"
   ]
  },
  {
   "cell_type": "code",
   "execution_count": 8,
   "metadata": {},
   "outputs": [
    {
     "data": {
      "text/html": [
       "<div>\n",
       "<style scoped>\n",
       "    .dataframe tbody tr th:only-of-type {\n",
       "        vertical-align: middle;\n",
       "    }\n",
       "\n",
       "    .dataframe tbody tr th {\n",
       "        vertical-align: top;\n",
       "    }\n",
       "\n",
       "    .dataframe thead th {\n",
       "        text-align: right;\n",
       "    }\n",
       "</style>\n",
       "<table border=\"1\" class=\"dataframe\">\n",
       "  <thead>\n",
       "    <tr style=\"text-align: right;\">\n",
       "      <th></th>\n",
       "      <th>likes</th>\n",
       "      <th>views</th>\n",
       "    </tr>\n",
       "  </thead>\n",
       "  <tbody>\n",
       "    <tr>\n",
       "      <th>308</th>\n",
       "      <td>105</td>\n",
       "      <td>3</td>\n",
       "    </tr>\n",
       "    <tr>\n",
       "      <th>330</th>\n",
       "      <td>129</td>\n",
       "      <td>122</td>\n",
       "    </tr>\n",
       "    <tr>\n",
       "      <th>574</th>\n",
       "      <td>127</td>\n",
       "      <td>68</td>\n",
       "    </tr>\n",
       "    <tr>\n",
       "      <th>575</th>\n",
       "      <td>139</td>\n",
       "      <td>75</td>\n",
       "    </tr>\n",
       "    <tr>\n",
       "      <th>576</th>\n",
       "      <td>123</td>\n",
       "      <td>121</td>\n",
       "    </tr>\n",
       "    <tr>\n",
       "      <th>...</th>\n",
       "      <td>...</td>\n",
       "      <td>...</td>\n",
       "    </tr>\n",
       "    <tr>\n",
       "      <th>1426176</th>\n",
       "      <td>13</td>\n",
       "      <td>5</td>\n",
       "    </tr>\n",
       "    <tr>\n",
       "      <th>1426177</th>\n",
       "      <td>17</td>\n",
       "      <td>5</td>\n",
       "    </tr>\n",
       "    <tr>\n",
       "      <th>1426178</th>\n",
       "      <td>12</td>\n",
       "      <td>5</td>\n",
       "    </tr>\n",
       "    <tr>\n",
       "      <th>1426179</th>\n",
       "      <td>21</td>\n",
       "      <td>12</td>\n",
       "    </tr>\n",
       "    <tr>\n",
       "      <th>1426180</th>\n",
       "      <td>15</td>\n",
       "      <td>6</td>\n",
       "    </tr>\n",
       "  </tbody>\n",
       "</table>\n",
       "<p>86888 rows × 2 columns</p>\n",
       "</div>"
      ],
      "text/plain": [
       "         likes  views\n",
       "308        105      3\n",
       "330        129    122\n",
       "574        127     68\n",
       "575        139     75\n",
       "576        123    121\n",
       "...        ...    ...\n",
       "1426176     13      5\n",
       "1426177     17      5\n",
       "1426178     12      5\n",
       "1426179     21     12\n",
       "1426180     15      6\n",
       "\n",
       "[86888 rows x 2 columns]"
      ]
     },
     "execution_count": 8,
     "metadata": {},
     "output_type": "execute_result"
    }
   ],
   "source": [
    "likes_views[likes_views.likes>likes_views.views]"
   ]
  },
  {
   "cell_type": "code",
   "execution_count": 9,
   "metadata": {},
   "outputs": [
    {
     "data": {
      "text/html": [
       "<div>\n",
       "<style scoped>\n",
       "    .dataframe tbody tr th:only-of-type {\n",
       "        vertical-align: middle;\n",
       "    }\n",
       "\n",
       "    .dataframe tbody tr th {\n",
       "        vertical-align: top;\n",
       "    }\n",
       "\n",
       "    .dataframe thead th {\n",
       "        text-align: right;\n",
       "    }\n",
       "</style>\n",
       "<table border=\"1\" class=\"dataframe\">\n",
       "  <thead>\n",
       "    <tr style=\"text-align: right;\">\n",
       "      <th></th>\n",
       "      <th>likes</th>\n",
       "      <th>views</th>\n",
       "    </tr>\n",
       "  </thead>\n",
       "  <tbody>\n",
       "    <tr>\n",
       "      <th>count</th>\n",
       "      <td>1.426188e+06</td>\n",
       "      <td>1.426188e+06</td>\n",
       "    </tr>\n",
       "    <tr>\n",
       "      <th>mean</th>\n",
       "      <td>1.512143e+03</td>\n",
       "      <td>1.706994e+04</td>\n",
       "    </tr>\n",
       "    <tr>\n",
       "      <th>std</th>\n",
       "      <td>1.306588e+04</td>\n",
       "      <td>3.570242e+05</td>\n",
       "    </tr>\n",
       "    <tr>\n",
       "      <th>min</th>\n",
       "      <td>1.000000e+00</td>\n",
       "      <td>1.000000e+00</td>\n",
       "    </tr>\n",
       "    <tr>\n",
       "      <th>25%</th>\n",
       "      <td>8.900000e+01</td>\n",
       "      <td>2.620000e+02</td>\n",
       "    </tr>\n",
       "    <tr>\n",
       "      <th>50%</th>\n",
       "      <td>1.930000e+02</td>\n",
       "      <td>8.350000e+02</td>\n",
       "    </tr>\n",
       "    <tr>\n",
       "      <th>75%</th>\n",
       "      <td>5.550000e+02</td>\n",
       "      <td>3.820000e+03</td>\n",
       "    </tr>\n",
       "    <tr>\n",
       "      <th>max</th>\n",
       "      <td>2.085029e+06</td>\n",
       "      <td>2.825005e+08</td>\n",
       "    </tr>\n",
       "  </tbody>\n",
       "</table>\n",
       "</div>"
      ],
      "text/plain": [
       "              likes         views\n",
       "count  1.426188e+06  1.426188e+06\n",
       "mean   1.512143e+03  1.706994e+04\n",
       "std    1.306588e+04  3.570242e+05\n",
       "min    1.000000e+00  1.000000e+00\n",
       "25%    8.900000e+01  2.620000e+02\n",
       "50%    1.930000e+02  8.350000e+02\n",
       "75%    5.550000e+02  3.820000e+03\n",
       "max    2.085029e+06  2.825005e+08"
      ]
     },
     "execution_count": 9,
     "metadata": {},
     "output_type": "execute_result"
    }
   ],
   "source": [
    "likes_views.describe()"
   ]
  },
  {
   "cell_type": "markdown",
   "metadata": {},
   "source": [
    "## Plots"
   ]
  },
  {
   "cell_type": "code",
   "execution_count": 10,
   "metadata": {},
   "outputs": [
    {
     "data": {
      "text/plain": [
       "578.2659697898988"
      ]
     },
     "execution_count": 10,
     "metadata": {},
     "output_type": "execute_result"
    }
   ],
   "source": [
    "log_avg_views=[]\n",
    "for i in range(len(usersData['avg_views'])):\n",
    "    log_avg_views.append(math.log((usersData['avg_views'])[i],10))\n",
    "    \n",
    "log_log_avg_views=[]\n",
    "for i in log_avg_views:\n",
    "    log_log_avg_views.append(math.log(i,10))\n",
    "    \n",
    "m = np.mean(log_log_avg_views)\n",
    "n = pow(10,m)\n",
    "res = pow(10,n)\n",
    "res"
   ]
  },
  {
   "cell_type": "code",
   "execution_count": 11,
   "metadata": {},
   "outputs": [
    {
     "data": {
      "image/png": "[encoded data removed]",
      "text/plain": [
       "<Figure size 720x576 with 1 Axes>"
      ]
     },
     "metadata": {
      "needs_background": "light"
     },
     "output_type": "display_data"
    }
   ],
   "source": [
    "plt.figure(figsize=(10,8))\n",
    "plt.hist(log_avg_views,bins=120)\n",
    "plt.ylabel('Number of Instagrammers')\n",
    "plt.xlabel('Log Average Views')\n",
    "plt.xscale('log')\n",
    "plt.xlim(0.9,11)\n",
    "plt.axvline(x=n, linestyle = '--', color = 'lawngreen')\n",
    "plt.show()"
   ]
  },
  {
   "cell_type": "code",
   "execution_count": 12,
   "metadata": {},
   "outputs": [
    {
     "data": {
      "image/png": "[encoded data removed]",
      "text/plain": [
       "<Figure size 576x288 with 1 Axes>"
      ]
     },
     "metadata": {
      "needs_background": "light"
     },
     "output_type": "display_data"
    }
   ],
   "source": [
    "f = plt.figure() \n",
    "f.set_figwidth(8) \n",
    "f.set_figheight(4) \n",
    "\n",
    "\n",
    "plt.scatter(followers_views['followers'],followers_views['views'],s=3)\n",
    "plt.xlabel('Followers')\n",
    "plt.ylabel('Views')\n",
    "plt.xscale(\"log\")\n",
    "plt.yscale(\"log\")\n",
    "plt.xlim(0.5,1000000000)\n",
    "plt.ylim(0.5,1000000000)\n",
    "x = np.linspace(followers_views['followers'].min(),followers_views['followers'].max(),1000)\n",
    "plt.plot(x,x, c=\"red\")\n",
    "plt.show()"
   ]
  },
  {
   "cell_type": "code",
   "execution_count": 13,
   "metadata": {},
   "outputs": [
    {
     "data": {
      "image/png": "[encoded data removed]",
      "text/plain": [
       "<Figure size 576x288 with 1 Axes>"
      ]
     },
     "metadata": {
      "needs_background": "light"
     },
     "output_type": "display_data"
    }
   ],
   "source": [
    "f = plt.figure() \n",
    "f.set_figwidth(8) \n",
    "f.set_figheight(4) \n",
    "\n",
    "plt.scatter(likes_views['likes'],likes_views['views'],s=3)\n",
    "plt.xlabel('Engagements')\n",
    "plt.ylabel('Views')\n",
    "plt.xscale(\"log\")\n",
    "plt.yscale(\"log\")\n",
    "plt.xlim(0.7,500000000)\n",
    "plt.ylim(0.7,500000000)\n",
    "x = np.linspace(likes_views['likes'].min(),likes_views['likes'].max(),1000)\n",
    "plt.plot(x,x, c=\"red\")\n",
    "plt.show()"
   ]
  },
  {
   "cell_type": "markdown",
   "metadata": {},
   "source": [
    "## Univariate Outliers Removal"
   ]
  },
  {
   "cell_type": "code",
   "execution_count": 14,
   "metadata": {},
   "outputs": [],
   "source": [
    "# Wir haben weniger user als im paper angegeben\n",
    "# vielleicht haben wir schon daten ohne outlier\n",
    "# überhaupt müsste man posts removen nicht users oder?\n",
    "# Wir haben für user avgerage statistics wo über posts mitteln oder?\n",
    "# Ja stimmt, außerdem wissen wir ja gar nicht welche views von den Tabellen followers_views und likes_views \n",
    "# zu welchen Usern gehören oder?"
   ]
  },
  {
   "cell_type": "markdown",
   "metadata": {},
   "source": [
    "## Transform Data"
   ]
  },
  {
   "cell_type": "code",
   "execution_count": 15,
   "metadata": {
    "scrolled": true
   },
   "outputs": [
    {
     "data": {
      "text/plain": [
       "avg_likes                4\n",
       "avg_comments             0\n",
       "avg_followers            0\n",
       "like_follow_geom_mean    0\n",
       "follower_post_ratio      0\n",
       "comment_like_ratio       0\n",
       "focus_ratio              0\n",
       "focus_diff               0\n",
       "avg_views                0\n",
       "dtype: int64"
      ]
     },
     "execution_count": 15,
     "metadata": {},
     "output_type": "execute_result"
    }
   ],
   "source": [
    "X = usersData[[\"avg_comments\"]]\n",
    "X.insert(0, \"avg_likes\", usersData[\"avg_likes\"] / np.log(usersData[\"avg_likes\"]))\n",
    "X.insert(2, \"avg_followers\", usersData[\"avg_followers\"] / np.log(usersData[\"avg_followers\"]))\n",
    "X.insert(3, \"like_follow_geom_mean\", np.sqrt(usersData[\"avg_likes\"] * usersData[\"avg_followers\"]))\n",
    "X.insert(4, \"follower_post_ratio\", usersData[\"avg_followers\"] / usersData[\"avg_posts\"])\n",
    "X.insert(5, \"comment_like_ratio\", usersData[\"avg_comments\"] / usersData[\"avg_likes\"])\n",
    "X.insert(6,\"focus_ratio\", usersData[\"max_likes\"] / usersData[\"min_likes\"])\n",
    "X.insert(7, \"focus_diff\", usersData[\"max_likes\"] - usersData[\"min_likes\"])\n",
    "X.insert(8, \"avg_views\", usersData[\"avg_views\"])\n",
    "\n",
    "X = X.replace(np.inf, np.nan)\n",
    "\n",
    "X.isna().sum() "
   ]
  },
  {
   "cell_type": "code",
   "execution_count": 16,
   "metadata": {},
   "outputs": [],
   "source": [
    "X = X.dropna()\n",
    "X_y = X"
   ]
  },
  {
   "cell_type": "code",
   "execution_count": 17,
   "metadata": {},
   "outputs": [],
   "source": [
    "y = X[\"avg_views\"] # influence\n",
    "X = X.drop(\"avg_views\", axis=1)"
   ]
  },
  {
   "cell_type": "code",
   "execution_count": 18,
   "metadata": {},
   "outputs": [
    {
     "data": {
      "text/html": [
       "<div>\n",
       "<style scoped>\n",
       "    .dataframe tbody tr th:only-of-type {\n",
       "        vertical-align: middle;\n",
       "    }\n",
       "\n",
       "    .dataframe tbody tr th {\n",
       "        vertical-align: top;\n",
       "    }\n",
       "\n",
       "    .dataframe thead th {\n",
       "        text-align: right;\n",
       "    }\n",
       "</style>\n",
       "<table border=\"1\" class=\"dataframe\">\n",
       "  <thead>\n",
       "    <tr style=\"text-align: right;\">\n",
       "      <th></th>\n",
       "      <th>avg_likes</th>\n",
       "      <th>avg_comments</th>\n",
       "      <th>avg_followers</th>\n",
       "      <th>like_follow_geom_mean</th>\n",
       "      <th>follower_post_ratio</th>\n",
       "      <th>comment_like_ratio</th>\n",
       "      <th>focus_ratio</th>\n",
       "      <th>focus_diff</th>\n",
       "    </tr>\n",
       "  </thead>\n",
       "  <tbody>\n",
       "    <tr>\n",
       "      <th>0</th>\n",
       "      <td>21.288896</td>\n",
       "      <td>3.0000</td>\n",
       "      <td>1389.160618</td>\n",
       "      <td>1133.514446</td>\n",
       "      <td>6.699542</td>\n",
       "      <td>0.030769</td>\n",
       "      <td>1.915254</td>\n",
       "      <td>54</td>\n",
       "    </tr>\n",
       "    <tr>\n",
       "      <th>1</th>\n",
       "      <td>20.302861</td>\n",
       "      <td>9.2500</td>\n",
       "      <td>506.378577</td>\n",
       "      <td>622.831438</td>\n",
       "      <td>3.015692</td>\n",
       "      <td>0.100817</td>\n",
       "      <td>4.461538</td>\n",
       "      <td>135</td>\n",
       "    </tr>\n",
       "    <tr>\n",
       "      <th>2</th>\n",
       "      <td>9.437989</td>\n",
       "      <td>3.5000</td>\n",
       "      <td>287.211094</td>\n",
       "      <td>270.177719</td>\n",
       "      <td>0.895184</td>\n",
       "      <td>0.106061</td>\n",
       "      <td>2.000000</td>\n",
       "      <td>23</td>\n",
       "    </tr>\n",
       "    <tr>\n",
       "      <th>3</th>\n",
       "      <td>6.676164</td>\n",
       "      <td>3.5000</td>\n",
       "      <td>38.206687</td>\n",
       "      <td>63.718129</td>\n",
       "      <td>0.110446</td>\n",
       "      <td>0.175000</td>\n",
       "      <td>1.625000</td>\n",
       "      <td>10</td>\n",
       "    </tr>\n",
       "    <tr>\n",
       "      <th>4</th>\n",
       "      <td>5.115849</td>\n",
       "      <td>1.2000</td>\n",
       "      <td>27.033659</td>\n",
       "      <td>41.742065</td>\n",
       "      <td>0.427184</td>\n",
       "      <td>0.090909</td>\n",
       "      <td>2.000000</td>\n",
       "      <td>9</td>\n",
       "    </tr>\n",
       "    <tr>\n",
       "      <th>...</th>\n",
       "      <td>...</td>\n",
       "      <td>...</td>\n",
       "      <td>...</td>\n",
       "      <td>...</td>\n",
       "      <td>...</td>\n",
       "      <td>...</td>\n",
       "      <td>...</td>\n",
       "      <td>...</td>\n",
       "    </tr>\n",
       "    <tr>\n",
       "      <th>114776</th>\n",
       "      <td>75.071265</td>\n",
       "      <td>14.6667</td>\n",
       "      <td>175.052309</td>\n",
       "      <td>757.955116</td>\n",
       "      <td>65.684211</td>\n",
       "      <td>0.031861</td>\n",
       "      <td>24.000000</td>\n",
       "      <td>1403</td>\n",
       "    </tr>\n",
       "    <tr>\n",
       "      <th>114777</th>\n",
       "      <td>17.430508</td>\n",
       "      <td>5.3333</td>\n",
       "      <td>251.898468</td>\n",
       "      <td>378.528647</td>\n",
       "      <td>18.831683</td>\n",
       "      <td>0.070796</td>\n",
       "      <td>5.192308</td>\n",
       "      <td>109</td>\n",
       "    </tr>\n",
       "    <tr>\n",
       "      <th>114778</th>\n",
       "      <td>15.425264</td>\n",
       "      <td>0.8000</td>\n",
       "      <td>22.223522</td>\n",
       "      <td>81.317895</td>\n",
       "      <td>12.875000</td>\n",
       "      <td>0.012461</td>\n",
       "      <td>10.818182</td>\n",
       "      <td>108</td>\n",
       "    </tr>\n",
       "    <tr>\n",
       "      <th>114779</th>\n",
       "      <td>14.393249</td>\n",
       "      <td>2.7059</td>\n",
       "      <td>113.035280</td>\n",
       "      <td>209.341763</td>\n",
       "      <td>0.415325</td>\n",
       "      <td>0.046185</td>\n",
       "      <td>8.833333</td>\n",
       "      <td>94</td>\n",
       "    </tr>\n",
       "    <tr>\n",
       "      <th>114780</th>\n",
       "      <td>203.032445</td>\n",
       "      <td>6.1429</td>\n",
       "      <td>2689.673514</td>\n",
       "      <td>6384.074678</td>\n",
       "      <td>247.684685</td>\n",
       "      <td>0.004144</td>\n",
       "      <td>63.065789</td>\n",
       "      <td>4717</td>\n",
       "    </tr>\n",
       "  </tbody>\n",
       "</table>\n",
       "<p>114777 rows × 8 columns</p>\n",
       "</div>"
      ],
      "text/plain": [
       "         avg_likes  avg_comments  avg_followers  like_follow_geom_mean  \\\n",
       "0        21.288896        3.0000    1389.160618            1133.514446   \n",
       "1        20.302861        9.2500     506.378577             622.831438   \n",
       "2         9.437989        3.5000     287.211094             270.177719   \n",
       "3         6.676164        3.5000      38.206687              63.718129   \n",
       "4         5.115849        1.2000      27.033659              41.742065   \n",
       "...            ...           ...            ...                    ...   \n",
       "114776   75.071265       14.6667     175.052309             757.955116   \n",
       "114777   17.430508        5.3333     251.898468             378.528647   \n",
       "114778   15.425264        0.8000      22.223522              81.317895   \n",
       "114779   14.393249        2.7059     113.035280             209.341763   \n",
       "114780  203.032445        6.1429    2689.673514            6384.074678   \n",
       "\n",
       "        follower_post_ratio  comment_like_ratio  focus_ratio  focus_diff  \n",
       "0                  6.699542            0.030769     1.915254          54  \n",
       "1                  3.015692            0.100817     4.461538         135  \n",
       "2                  0.895184            0.106061     2.000000          23  \n",
       "3                  0.110446            0.175000     1.625000          10  \n",
       "4                  0.427184            0.090909     2.000000           9  \n",
       "...                     ...                 ...          ...         ...  \n",
       "114776            65.684211            0.031861    24.000000        1403  \n",
       "114777            18.831683            0.070796     5.192308         109  \n",
       "114778            12.875000            0.012461    10.818182         108  \n",
       "114779             0.415325            0.046185     8.833333          94  \n",
       "114780           247.684685            0.004144    63.065789        4717  \n",
       "\n",
       "[114777 rows x 8 columns]"
      ]
     },
     "execution_count": 18,
     "metadata": {},
     "output_type": "execute_result"
    }
   ],
   "source": [
    "X"
   ]
  },
  {
   "cell_type": "code",
   "execution_count": 19,
   "metadata": {},
   "outputs": [
    {
     "data": {
      "text/plain": [
       "0           333.1667\n",
       "1           308.6250\n",
       "2           126.7500\n",
       "3            65.5000\n",
       "4            61.2000\n",
       "             ...    \n",
       "114776    15346.5000\n",
       "114777       76.5000\n",
       "114778      177.8000\n",
       "114779        8.7843\n",
       "114780    18363.4286\n",
       "Name: avg_views, Length: 114777, dtype: float64"
      ]
     },
     "execution_count": 19,
     "metadata": {},
     "output_type": "execute_result"
    }
   ],
   "source": [
    "y"
   ]
  },
  {
   "cell_type": "code",
   "execution_count": 20,
   "metadata": {},
   "outputs": [
    {
     "data": {
      "text/plain": [
       "(114777, 8)"
      ]
     },
     "execution_count": 20,
     "metadata": {},
     "output_type": "execute_result"
    }
   ],
   "source": [
    "n, p = X.shape\n",
    "(n, p)"
   ]
  },
  {
   "cell_type": "markdown",
   "metadata": {},
   "source": [
    "## Base Lines"
   ]
  },
  {
   "cell_type": "code",
   "execution_count": 21,
   "metadata": {},
   "outputs": [],
   "source": [
    "from sklearn.linear_model import LinearRegression\n",
    "from sklearn.linear_model import Ridge\n",
    "from sklearn.model_selection import cross_validate, cross_val_predict\n",
    "from scipy.stats import spearmanr\n",
    "from sklearn.metrics import r2_score\n",
    "from sklearn.metrics import make_scorer\n",
    "from sklearn.model_selection import KFold"
   ]
  },
  {
   "cell_type": "code",
   "execution_count": 22,
   "metadata": {},
   "outputs": [],
   "source": [
    "def spearmanr_metric(y, y_pred):\n",
    "    return spearmanr(y, y_pred).correlation\n",
    "\n",
    "spearmanr_scorer = make_scorer(spearmanr_metric)"
   ]
  },
  {
   "cell_type": "code",
   "execution_count": 23,
   "metadata": {},
   "outputs": [],
   "source": [
    "follower_base = LinearRegression()\n",
    "followers = X[[\"avg_followers\"]]"
   ]
  },
  {
   "cell_type": "code",
   "execution_count": 24,
   "metadata": {},
   "outputs": [],
   "source": [
    "follower_base.fit(followers, y)\n",
    "y_pred = follower_base.predict(followers)"
   ]
  },
  {
   "cell_type": "code",
   "execution_count": 25,
   "metadata": {},
   "outputs": [
    {
     "name": "stdout",
     "output_type": "stream",
     "text": [
      "R2 0.2622750205379367 +/- 0.059484070162379395\n",
      "Paper: 0.211\n"
     ]
    }
   ],
   "source": [
    "r2s = []\n",
    "#adj_r2s = []\n",
    "\n",
    "for i in range(100):\n",
    "    cv = KFold(5, shuffle=True, random_state=i)\n",
    "    follower_base_cv = cross_validate(follower_base, followers, y, cv=cv, scoring='r2')\n",
    "    r2 =follower_base_cv[\"test_score\"].mean()\n",
    "    r2s.append(r2)\n",
    "    #adj_r2s.append(1-(1-r2)*(n-1)/(n-p-1))\n",
    "    \n",
    "print(\"R2\", np.mean(r2s), \"+/-\", np.std(r2s))\n",
    "print(\"Paper: 0.211\")"
   ]
  },
  {
   "cell_type": "code",
   "execution_count": 26,
   "metadata": {},
   "outputs": [
    {
     "name": "stdout",
     "output_type": "stream",
     "text": [
      "rs 0.7530932960774865 +/- 1.9957492866263253e-05\n",
      "Paper: 0.757\n"
     ]
    }
   ],
   "source": [
    "rss = []\n",
    "for i in range(100):\n",
    "    cv = KFold(5, shuffle=True, random_state=i)\n",
    "    follower_base_cv = cross_validate(follower_base, followers, y, cv=cv, scoring=spearmanr_scorer)\n",
    "    rss.append(follower_base_cv[\"test_score\"].mean())\n",
    "print(\"rs\", np.mean(rss), \"+/-\", np.std(rss))\n",
    "print(\"Paper: 0.757\")"
   ]
  },
  {
   "cell_type": "code",
   "execution_count": 27,
   "metadata": {},
   "outputs": [],
   "source": [
    "likes_base = LinearRegression()\n",
    "likes = X[[\"avg_likes\"]]"
   ]
  },
  {
   "cell_type": "code",
   "execution_count": 28,
   "metadata": {},
   "outputs": [
    {
     "name": "stdout",
     "output_type": "stream",
     "text": [
      "R2 0.6820664657850227 +/- 0.02221072582895035\n",
      "Paper: 0.666\n"
     ]
    }
   ],
   "source": [
    "r2s = []\n",
    "for i in range(100):\n",
    "    cv = KFold(5, shuffle=True, random_state=i)\n",
    "    likes_base_cv = cross_validate(likes_base, likes, y, cv=cv, scoring='r2')\n",
    "    r2 = likes_base_cv[\"test_score\"].mean()\n",
    "    r2s.append(r2)\n",
    "\n",
    "\n",
    "print(\"R2\", np.mean(r2s), \"+/-\", np.std(r2s))\n",
    "print(\"Paper: 0.666\")"
   ]
  },
  {
   "cell_type": "code",
   "execution_count": 29,
   "metadata": {},
   "outputs": [
    {
     "name": "stdout",
     "output_type": "stream",
     "text": [
      "rs 0.8452386211217109 +/- 1.6489065019892967e-05\n",
      "Paper: 0.859\n"
     ]
    }
   ],
   "source": [
    "rss = []\n",
    "for i in range(100):\n",
    "    cv = KFold(5, shuffle=True, random_state=i)\n",
    "    likes_base_cv = cross_validate(likes_base, likes, y, cv=cv, scoring=spearmanr_scorer)\n",
    "    rss.append(likes_base_cv[\"test_score\"].mean())\n",
    "print(\"rs\", np.mean(rss), \"+/-\", np.std(rss))\n",
    "print(\"Paper: 0.859\")"
   ]
  },
  {
   "cell_type": "markdown",
   "metadata": {},
   "source": [
    "## Ridge Regression"
   ]
  },
  {
   "cell_type": "code",
   "execution_count": 30,
   "metadata": {},
   "outputs": [],
   "source": [
    "cv_gen = KFold(5, shuffle=True, random_state=0)"
   ]
  },
  {
   "cell_type": "code",
   "execution_count": 31,
   "metadata": {},
   "outputs": [],
   "source": [
    "rr = Ridge(random_state=0)"
   ]
  },
  {
   "cell_type": "code",
   "execution_count": 32,
   "metadata": {},
   "outputs": [
    {
     "data": {
      "text/plain": [
       "0.4902328765617865"
      ]
     },
     "execution_count": 32,
     "metadata": {},
     "output_type": "execute_result"
    }
   ],
   "source": [
    "rr_cv = cross_validate(rr, X, y, cv=cv_gen, scoring='r2')\n",
    "rr_cv[\"test_score\"].mean()\n",
    "# paper: 0.725"
   ]
  },
  {
   "cell_type": "code",
   "execution_count": 33,
   "metadata": {},
   "outputs": [
    {
     "data": {
      "text/plain": [
       "0.8262037992543467"
      ]
     },
     "execution_count": 33,
     "metadata": {},
     "output_type": "execute_result"
    }
   ],
   "source": [
    "rr_cv = cross_validate(rr, X, y, cv=cv_gen, scoring=spearmanr_scorer)\n",
    "rr_cv[\"test_score\"].mean()\n",
    "# paper: 0.848"
   ]
  },
  {
   "cell_type": "code",
   "execution_count": 34,
   "metadata": {},
   "outputs": [],
   "source": [
    "from sklearn.model_selection import GridSearchCV"
   ]
  },
  {
   "cell_type": "code",
   "execution_count": 35,
   "metadata": {},
   "outputs": [],
   "source": [
    "params = {\n",
    "    'random_state': [0,1,2,3,4],\n",
    "    'alpha': [0.001, 0.002, 0.005, 0.01, 0.02, 0.05, 0.1, 0.2, 0.5, 1., 2., 5., 10, 20, 50, 100]\n",
    "}"
   ]
  },
  {
   "cell_type": "code",
   "execution_count": 36,
   "metadata": {},
   "outputs": [
    {
     "name": "stdout",
     "output_type": "stream",
     "text": [
      "Fitting 5 folds for each of 80 candidates, totalling 400 fits\n"
     ]
    },
    {
     "name": "stderr",
     "output_type": "stream",
     "text": [
      "[Parallel(n_jobs=-1)]: Using backend LokyBackend with 4 concurrent workers.\n",
      "[Parallel(n_jobs=-1)]: Done  34 tasks      | elapsed:    3.1s\n",
      "[Parallel(n_jobs=-1)]: Done 400 out of 400 | elapsed:    7.1s finished\n"
     ]
    }
   ],
   "source": [
    "rr = Ridge()\n",
    "rr_gs = GridSearchCV(rr, params, n_jobs=-1, verbose=2)\n",
    "rr_gs.fit(X, y)\n",
    "rr_gs_res = rr_gs.cv_results_"
   ]
  },
  {
   "cell_type": "code",
   "execution_count": 37,
   "metadata": {},
   "outputs": [
    {
     "data": {
      "text/html": [
       "<div>\n",
       "<style scoped>\n",
       "    .dataframe tbody tr th:only-of-type {\n",
       "        vertical-align: middle;\n",
       "    }\n",
       "\n",
       "    .dataframe tbody tr th {\n",
       "        vertical-align: top;\n",
       "    }\n",
       "\n",
       "    .dataframe thead th {\n",
       "        text-align: right;\n",
       "    }\n",
       "</style>\n",
       "<table border=\"1\" class=\"dataframe\">\n",
       "  <thead>\n",
       "    <tr style=\"text-align: right;\">\n",
       "      <th></th>\n",
       "      <th>params</th>\n",
       "      <th>mean_test_score</th>\n",
       "    </tr>\n",
       "  </thead>\n",
       "  <tbody>\n",
       "    <tr>\n",
       "      <th>79</th>\n",
       "      <td>{'alpha': 100, 'random_state': 4}</td>\n",
       "      <td>0.624825</td>\n",
       "    </tr>\n",
       "    <tr>\n",
       "      <th>78</th>\n",
       "      <td>{'alpha': 100, 'random_state': 3}</td>\n",
       "      <td>0.624825</td>\n",
       "    </tr>\n",
       "    <tr>\n",
       "      <th>77</th>\n",
       "      <td>{'alpha': 100, 'random_state': 2}</td>\n",
       "      <td>0.624825</td>\n",
       "    </tr>\n",
       "    <tr>\n",
       "      <th>76</th>\n",
       "      <td>{'alpha': 100, 'random_state': 1}</td>\n",
       "      <td>0.624825</td>\n",
       "    </tr>\n",
       "    <tr>\n",
       "      <th>75</th>\n",
       "      <td>{'alpha': 100, 'random_state': 0}</td>\n",
       "      <td>0.624825</td>\n",
       "    </tr>\n",
       "    <tr>\n",
       "      <th>...</th>\n",
       "      <td>...</td>\n",
       "      <td>...</td>\n",
       "    </tr>\n",
       "    <tr>\n",
       "      <th>3</th>\n",
       "      <td>{'alpha': 0.001, 'random_state': 3}</td>\n",
       "      <td>0.624417</td>\n",
       "    </tr>\n",
       "    <tr>\n",
       "      <th>2</th>\n",
       "      <td>{'alpha': 0.001, 'random_state': 2}</td>\n",
       "      <td>0.624417</td>\n",
       "    </tr>\n",
       "    <tr>\n",
       "      <th>1</th>\n",
       "      <td>{'alpha': 0.001, 'random_state': 1}</td>\n",
       "      <td>0.624417</td>\n",
       "    </tr>\n",
       "    <tr>\n",
       "      <th>4</th>\n",
       "      <td>{'alpha': 0.001, 'random_state': 4}</td>\n",
       "      <td>0.624417</td>\n",
       "    </tr>\n",
       "    <tr>\n",
       "      <th>0</th>\n",
       "      <td>{'alpha': 0.001, 'random_state': 0}</td>\n",
       "      <td>0.624417</td>\n",
       "    </tr>\n",
       "  </tbody>\n",
       "</table>\n",
       "<p>80 rows × 2 columns</p>\n",
       "</div>"
      ],
      "text/plain": [
       "                                 params  mean_test_score\n",
       "79    {'alpha': 100, 'random_state': 4}         0.624825\n",
       "78    {'alpha': 100, 'random_state': 3}         0.624825\n",
       "77    {'alpha': 100, 'random_state': 2}         0.624825\n",
       "76    {'alpha': 100, 'random_state': 1}         0.624825\n",
       "75    {'alpha': 100, 'random_state': 0}         0.624825\n",
       "..                                  ...              ...\n",
       "3   {'alpha': 0.001, 'random_state': 3}         0.624417\n",
       "2   {'alpha': 0.001, 'random_state': 2}         0.624417\n",
       "1   {'alpha': 0.001, 'random_state': 1}         0.624417\n",
       "4   {'alpha': 0.001, 'random_state': 4}         0.624417\n",
       "0   {'alpha': 0.001, 'random_state': 0}         0.624417\n",
       "\n",
       "[80 rows x 2 columns]"
      ]
     },
     "execution_count": 37,
     "metadata": {},
     "output_type": "execute_result"
    }
   ],
   "source": [
    "pd.DataFrame(rr_gs_res)[[\"params\",\"mean_test_score\"]].sort_values(\"mean_test_score\", ascending=False)"
   ]
  },
  {
   "cell_type": "code",
   "execution_count": 38,
   "metadata": {},
   "outputs": [],
   "source": [
    "from sklearn.feature_selection import RFECV"
   ]
  },
  {
   "cell_type": "code",
   "execution_count": 39,
   "metadata": {},
   "outputs": [
    {
     "name": "stdout",
     "output_type": "stream",
     "text": [
      "Fitting estimator with 8 features.\n",
      "Fitting estimator with 7 features.\n",
      "Fitting estimator with 6 features.\n",
      "Fitting estimator with 5 features.\n",
      "Fitting estimator with 4 features.\n",
      "Fitting estimator with 3 features.\n",
      "CPU times: user 88.3 ms, sys: 26 ms, total: 114 ms\n",
      "Wall time: 498 ms\n"
     ]
    },
    {
     "data": {
      "text/plain": [
       "RFECV(cv=5, estimator=Ridge(random_state=0), n_jobs=-1, verbose=2)"
      ]
     },
     "execution_count": 39,
     "metadata": {},
     "output_type": "execute_result"
    }
   ],
   "source": [
    "%%time\n",
    "rr = Ridge(random_state=0)\n",
    "rr_rfe = RFECV(rr, step=1, cv=5, n_jobs=-1, verbose=2)\n",
    "rr_rfe.fit(X, y)"
   ]
  },
  {
   "cell_type": "code",
   "execution_count": 40,
   "metadata": {},
   "outputs": [
    {
     "data": {
      "text/plain": [
       "array([1, 2, 6, 5, 7, 1, 3, 4])"
      ]
     },
     "execution_count": 40,
     "metadata": {},
     "output_type": "execute_result"
    }
   ],
   "source": [
    "rr_rfe.ranking_"
   ]
  },
  {
   "cell_type": "code",
   "execution_count": 41,
   "metadata": {},
   "outputs": [
    {
     "data": {
      "text/plain": [
       "array([ True, False, False, False, False,  True, False, False])"
      ]
     },
     "execution_count": 41,
     "metadata": {},
     "output_type": "execute_result"
    }
   ],
   "source": [
    "rr_rfe.support_"
   ]
  },
  {
   "cell_type": "code",
   "execution_count": 42,
   "metadata": {},
   "outputs": [
    {
     "data": {
      "text/plain": [
       "2"
      ]
     },
     "execution_count": 42,
     "metadata": {},
     "output_type": "execute_result"
    }
   ],
   "source": [
    "rr_rfe.n_features_"
   ]
  },
  {
   "cell_type": "markdown",
   "metadata": {},
   "source": [
    "## Random Forest"
   ]
  },
  {
   "cell_type": "code",
   "execution_count": 43,
   "metadata": {},
   "outputs": [],
   "source": [
    "from sklearn.ensemble import RandomForestRegressor"
   ]
  },
  {
   "cell_type": "code",
   "execution_count": 44,
   "metadata": {},
   "outputs": [],
   "source": [
    "rfr = RandomForestRegressor(random_state=0)"
   ]
  },
  {
   "cell_type": "code",
   "execution_count": 45,
   "metadata": {},
   "outputs": [
    {
     "name": "stdout",
     "output_type": "stream",
     "text": [
      "CPU times: user 42 ms, sys: 43.5 ms, total: 85.5 ms\n",
      "Wall time: 4min 8s\n"
     ]
    },
    {
     "data": {
      "text/plain": [
       "0.5337963772471165"
      ]
     },
     "execution_count": 45,
     "metadata": {},
     "output_type": "execute_result"
    }
   ],
   "source": [
    "%%time\n",
    "rfr_cv = cross_validate(rfr, X, y, cv=cv_gen, scoring='r2', n_jobs=-1)\n",
    "rfr_cv[\"test_score\"].mean()\n",
    "# paper: 0.626"
   ]
  },
  {
   "cell_type": "code",
   "execution_count": 46,
   "metadata": {},
   "outputs": [
    {
     "name": "stdout",
     "output_type": "stream",
     "text": [
      "CPU times: user 42.3 ms, sys: 45.1 ms, total: 87.4 ms\n",
      "Wall time: 4min 4s\n"
     ]
    },
    {
     "data": {
      "text/plain": [
       "0.867989744529938"
      ]
     },
     "execution_count": 46,
     "metadata": {},
     "output_type": "execute_result"
    }
   ],
   "source": [
    "%%time\n",
    "rfr_cv = cross_validate(rfr, X, y, cv=cv_gen, scoring=spearmanr_scorer, n_jobs=-1)\n",
    "rfr_cv[\"test_score\"].mean()\n",
    "# paper: 0.869 "
   ]
  },
  {
   "cell_type": "code",
   "execution_count": 47,
   "metadata": {},
   "outputs": [
    {
     "name": "stdout",
     "output_type": "stream",
     "text": [
      "CPU times: user 3min 36s, sys: 1.1 s, total: 3min 37s\n",
      "Wall time: 20min 19s\n"
     ]
    },
    {
     "data": {
      "text/plain": [
       "RFECV(cv=5, estimator=RandomForestRegressor(random_state=0), n_jobs=-1,\n",
       "      verbose=2)"
      ]
     },
     "execution_count": 47,
     "metadata": {},
     "output_type": "execute_result"
    }
   ],
   "source": [
    "%%time\n",
    "rfr = RandomForestRegressor(random_state=0)\n",
    "rfr_rfe = RFECV(rfr, step=1, cv=5, n_jobs=-1, verbose=2)\n",
    "rfr_rfe.fit(X, y)"
   ]
  },
  {
   "cell_type": "code",
   "execution_count": 51,
   "metadata": {},
   "outputs": [
    {
     "data": {
      "text/plain": [
       "array([1, 1, 1, 1, 1, 1, 1, 1])"
      ]
     },
     "execution_count": 51,
     "metadata": {},
     "output_type": "execute_result"
    }
   ],
   "source": [
    "rfr_rfe.ranking_"
   ]
  },
  {
   "cell_type": "code",
   "execution_count": 52,
   "metadata": {},
   "outputs": [
    {
     "data": {
      "text/plain": [
       "array([ True,  True,  True,  True,  True,  True,  True,  True])"
      ]
     },
     "execution_count": 52,
     "metadata": {},
     "output_type": "execute_result"
    }
   ],
   "source": [
    "rfr_rfe.support_"
   ]
  },
  {
   "cell_type": "code",
   "execution_count": 53,
   "metadata": {},
   "outputs": [
    {
     "data": {
      "text/plain": [
       "8"
      ]
     },
     "execution_count": 53,
     "metadata": {},
     "output_type": "execute_result"
    }
   ],
   "source": [
    "rfr_rfe.n_features_"
   ]
  },
  {
   "cell_type": "markdown",
   "metadata": {},
   "source": [
    "### PCA"
   ]
  },
  {
   "cell_type": "code",
   "execution_count": 224,
   "metadata": {},
   "outputs": [
    {
     "name": "stdout",
     "output_type": "stream",
     "text": [
      "8\n",
      "[3.80853253 1.02988249 0.99377011 0.97501083 0.70099375 0.34800646\n",
      " 0.13451436 0.00935916]\n"
     ]
    }
   ],
   "source": [
    "from sklearn.decomposition import PCA\n",
    "from sklearn.preprocessing import StandardScaler\n",
    "\n",
    "scaler = StandardScaler()\n",
    "scaler.fit(X)\n",
    "scaled_data = scaler.transform(X)\n",
    "\n",
    "X_pca = PCA(n_components=None, svd_solver='full')\n",
    "X_pca.fit(scaled_data)\n",
    "x_pca = X_pca.transform(scaled_data)\n",
    "print(X_pca.n_components_)\n",
    "print(X_pca.explained_variance_)"
   ]
  },
  {
   "cell_type": "code",
   "execution_count": 225,
   "metadata": {},
   "outputs": [
    {
     "data": {
      "image/png": "[encoded data removed]",
      "text/plain": [
       "<Figure size 432x288 with 1 Axes>"
      ]
     },
     "metadata": {
      "needs_background": "light"
     },
     "output_type": "display_data"
    }
   ],
   "source": [
    "plt.plot(np.cumsum(X_pca.explained_variance_ratio_))\n",
    "plt.xlabel(\"Nr. of components\")\n",
    "plt.ylabel(\"Explained variance\")\n",
    "plt.savefig(\"PCA.pdf\")"
   ]
  },
  {
   "cell_type": "code",
   "execution_count": 226,
   "metadata": {},
   "outputs": [
    {
     "data": {
      "text/plain": [
       "0.9385155379034155"
      ]
     },
     "execution_count": 226,
     "metadata": {},
     "output_type": "execute_result"
    }
   ],
   "source": [
    "np.cumsum(X_pca.explained_variance_ratio_)[4] # seems to be sufficient"
   ]
  },
  {
   "cell_type": "code",
   "execution_count": 228,
   "metadata": {},
   "outputs": [],
   "source": [
    "x_pca=x_pca[:,0:5]"
   ]
  },
  {
   "cell_type": "markdown",
   "metadata": {},
   "source": [
    "### Minimal Ridge Regression"
   ]
  },
  {
   "cell_type": "code",
   "execution_count": 229,
   "metadata": {},
   "outputs": [],
   "source": [
    "cv_gen = KFold(5, shuffle=True, random_state=0)"
   ]
  },
  {
   "cell_type": "code",
   "execution_count": 230,
   "metadata": {},
   "outputs": [],
   "source": [
    "rr = Ridge(random_state=0)"
   ]
  },
  {
   "cell_type": "code",
   "execution_count": 233,
   "metadata": {},
   "outputs": [
    {
     "data": {
      "text/plain": [
       "0.02288542856179112"
      ]
     },
     "execution_count": 233,
     "metadata": {},
     "output_type": "execute_result"
    }
   ],
   "source": [
    "rr_cv = cross_validate(rr, x_pca, y, cv=cv_gen, scoring='r2')\n",
    "rr_cv[\"test_score\"].mean()\n",
    "# paper: 0.727"
   ]
  },
  {
   "cell_type": "code",
   "execution_count": 234,
   "metadata": {},
   "outputs": [
    {
     "data": {
      "text/plain": [
       "0.7307951446925444"
      ]
     },
     "execution_count": 234,
     "metadata": {},
     "output_type": "execute_result"
    }
   ],
   "source": [
    "rr_cv = cross_validate(rr, x_pca, y, cv=cv_gen, scoring=spearmanr_scorer)\n",
    "rr_cv[\"test_score\"].mean()\n",
    "# paper: 0.818"
   ]
  },
  {
   "cell_type": "markdown",
   "metadata": {},
   "source": [
    "### Minimal Random Forest"
   ]
  },
  {
   "cell_type": "code",
   "execution_count": 236,
   "metadata": {},
   "outputs": [],
   "source": [
    "rfr = RandomForestRegressor(random_state=0)"
   ]
  },
  {
   "cell_type": "code",
   "execution_count": 237,
   "metadata": {},
   "outputs": [
    {
     "name": "stdout",
     "output_type": "stream",
     "text": [
      "CPU times: user 58.6 ms, sys: 87.2 ms, total: 146 ms\n",
      "Wall time: 1min 18s\n"
     ]
    },
    {
     "data": {
      "text/plain": [
       "0.47604191202412016"
      ]
     },
     "execution_count": 237,
     "metadata": {},
     "output_type": "execute_result"
    }
   ],
   "source": [
    "%%time\n",
    "rfr_cv = cross_validate(rfr, x_pca, y, cv=cv_gen, scoring='r2', n_jobs=-1)\n",
    "rfr_cv[\"test_score\"].mean()\n",
    "# paper: 0.611"
   ]
  },
  {
   "cell_type": "code",
   "execution_count": 238,
   "metadata": {},
   "outputs": [
    {
     "name": "stdout",
     "output_type": "stream",
     "text": [
      "CPU times: user 34.8 ms, sys: 19.6 ms, total: 54.5 ms\n",
      "Wall time: 1min 18s\n"
     ]
    },
    {
     "data": {
      "text/plain": [
       "0.8594882462530032"
      ]
     },
     "execution_count": 238,
     "metadata": {},
     "output_type": "execute_result"
    }
   ],
   "source": [
    "%%time\n",
    "rfr_cv = cross_validate(rfr, x_pca, y, cv=cv_gen, scoring=spearmanr_scorer, n_jobs=-1)\n",
    "rfr_cv[\"test_score\"].mean()\n",
    "# paper: 0.859"
   ]
  },
  {
   "cell_type": "code",
   "execution_count": null,
   "metadata": {},
   "outputs": [],
   "source": []
  },
  {
   "cell_type": "markdown",
   "metadata": {},
   "source": [
    "## Multi-Regression"
   ]
  },
  {
   "cell_type": "code",
   "execution_count": null,
   "metadata": {},
   "outputs": [],
   "source": [
    "# glaubt ihr es ist hier sowas in der Art gemeint? ich komm nur leider auf ganz komische Ergebnisse.."
   ]
  },
  {
   "cell_type": "code",
   "execution_count": 51,
   "metadata": {},
   "outputs": [],
   "source": [
    "from sklearn.cluster import KMeans\n",
    "from sklearn.metrics import silhouette_score"
   ]
  },
  {
   "cell_type": "markdown",
   "metadata": {},
   "source": [
    "### Baselines"
   ]
  },
  {
   "cell_type": "code",
   "execution_count": 168,
   "metadata": {},
   "outputs": [
    {
     "data": {
      "text/plain": [
       "KMeans(n_clusters=2)"
      ]
     },
     "execution_count": 168,
     "metadata": {},
     "output_type": "execute_result"
    }
   ],
   "source": [
    "kmeans = KMeans(n_clusters=2)\n",
    "kmeans.fit(X[['avg_followers']],y)"
   ]
  },
  {
   "cell_type": "code",
   "execution_count": 169,
   "metadata": {},
   "outputs": [
    {
     "data": {
      "text/plain": [
       "(0.5, 1000000000)"
      ]
     },
     "execution_count": 169,
     "metadata": {},
     "output_type": "execute_result"
    },
    {
     "data": {
      "image/png": "[encoded data removed]",
      "text/plain": [
       "<Figure size 432x288 with 1 Axes>"
      ]
     },
     "metadata": {
      "needs_background": "light"
     },
     "output_type": "display_data"
    }
   ],
   "source": [
    "plt.scatter(X[['avg_followers']], y, c=kmeans.labels_, cmap='winter',s=3)\n",
    "plt.xscale(\"log\")\n",
    "plt.yscale(\"log\")\n",
    "plt.xlim(0.5,1000000000)\n",
    "plt.ylim(0.5,1000000000)"
   ]
  },
  {
   "cell_type": "code",
   "execution_count": 89,
   "metadata": {},
   "outputs": [
    {
     "data": {
      "image/png": "[encoded data removed]",
      "text/plain": [
       "<Figure size 432x288 with 1 Axes>"
      ]
     },
     "metadata": {
      "needs_background": "light"
     },
     "output_type": "display_data"
    }
   ],
   "source": [
    "upper_bound = 30\n",
    "\n",
    "models = []\n",
    "inertia = []\n",
    "iterations = []\n",
    "\n",
    "for k in range(1,upper_bound+1):\n",
    "    kmeans = KMeans(n_clusters=k)\n",
    "    kmeans.fit(X_y[['avg_followers','avg_views']])\n",
    "    models.append(kmeans)\n",
    "    inertia.append(kmeans.inertia_)\n",
    "    iterations.append(kmeans.n_iter_)\n",
    "\n",
    "plt.plot(range(1,upper_bound+1),inertia)\n",
    "plt.show()"
   ]
  },
  {
   "cell_type": "code",
   "execution_count": 90,
   "metadata": {
    "collapsed": true
   },
   "outputs": [
    {
     "name": "stdout",
     "output_type": "stream",
     "text": [
      "*\n",
      "*\n",
      "*\n",
      "*\n",
      "*\n",
      "*\n",
      "*\n",
      "*\n",
      "*\n",
      "*\n"
     ]
    },
    {
     "ename": "KeyboardInterrupt",
     "evalue": "",
     "output_type": "error",
     "traceback": [
      "\u001b[0;31m---------------------------------------------------------------------------\u001b[0m",
      "\u001b[0;31mKeyboardInterrupt\u001b[0m                         Traceback (most recent call last)",
      "\u001b[0;32m<ipython-input-90-325d71de3a50>\u001b[0m in \u001b[0;36m<module>\u001b[0;34m\u001b[0m\n\u001b[1;32m      2\u001b[0m \u001b[0;32mfor\u001b[0m \u001b[0mmodel\u001b[0m \u001b[0;32min\u001b[0m  \u001b[0mmodels\u001b[0m\u001b[0;34m[\u001b[0m\u001b[0;36m1\u001b[0m\u001b[0;34m:\u001b[0m\u001b[0;34m]\u001b[0m\u001b[0;34m:\u001b[0m\u001b[0;34m\u001b[0m\u001b[0;34m\u001b[0m\u001b[0m\n\u001b[1;32m      3\u001b[0m     silhouette_scores.append(\n\u001b[0;32m----> 4\u001b[0;31m         silhouette_score(X = X_y[['avg_followers','avg_views']] , labels = model.labels_ , metric='euclidean'))\n\u001b[0m\u001b[1;32m      5\u001b[0m     \u001b[0mprint\u001b[0m\u001b[0;34m(\u001b[0m\u001b[0;34m'*'\u001b[0m\u001b[0;34m)\u001b[0m\u001b[0;34m\u001b[0m\u001b[0;34m\u001b[0m\u001b[0m\n\u001b[1;32m      6\u001b[0m \u001b[0mplt\u001b[0m\u001b[0;34m.\u001b[0m\u001b[0mplot\u001b[0m\u001b[0;34m(\u001b[0m\u001b[0mrange\u001b[0m\u001b[0;34m(\u001b[0m\u001b[0;36m2\u001b[0m\u001b[0;34m,\u001b[0m\u001b[0mupper_bound\u001b[0m\u001b[0;34m+\u001b[0m\u001b[0;36m1\u001b[0m\u001b[0;34m)\u001b[0m\u001b[0;34m,\u001b[0m\u001b[0msilhouette_scores\u001b[0m\u001b[0;34m)\u001b[0m\u001b[0;34m\u001b[0m\u001b[0;34m\u001b[0m\u001b[0m\n",
      "\u001b[0;32m~/opt/anaconda3/lib/python3.8/site-packages/sklearn/utils/validation.py\u001b[0m in \u001b[0;36minner_f\u001b[0;34m(*args, **kwargs)\u001b[0m\n\u001b[1;32m     71\u001b[0m                           FutureWarning)\n\u001b[1;32m     72\u001b[0m         \u001b[0mkwargs\u001b[0m\u001b[0;34m.\u001b[0m\u001b[0mupdate\u001b[0m\u001b[0;34m(\u001b[0m\u001b[0;34m{\u001b[0m\u001b[0mk\u001b[0m\u001b[0;34m:\u001b[0m \u001b[0marg\u001b[0m \u001b[0;32mfor\u001b[0m \u001b[0mk\u001b[0m\u001b[0;34m,\u001b[0m \u001b[0marg\u001b[0m \u001b[0;32min\u001b[0m \u001b[0mzip\u001b[0m\u001b[0;34m(\u001b[0m\u001b[0msig\u001b[0m\u001b[0;34m.\u001b[0m\u001b[0mparameters\u001b[0m\u001b[0;34m,\u001b[0m \u001b[0margs\u001b[0m\u001b[0;34m)\u001b[0m\u001b[0;34m}\u001b[0m\u001b[0;34m)\u001b[0m\u001b[0;34m\u001b[0m\u001b[0;34m\u001b[0m\u001b[0m\n\u001b[0;32m---> 73\u001b[0;31m         \u001b[0;32mreturn\u001b[0m \u001b[0mf\u001b[0m\u001b[0;34m(\u001b[0m\u001b[0;34m**\u001b[0m\u001b[0mkwargs\u001b[0m\u001b[0;34m)\u001b[0m\u001b[0;34m\u001b[0m\u001b[0;34m\u001b[0m\u001b[0m\n\u001b[0m\u001b[1;32m     74\u001b[0m     \u001b[0;32mreturn\u001b[0m \u001b[0minner_f\u001b[0m\u001b[0;34m\u001b[0m\u001b[0;34m\u001b[0m\u001b[0m\n\u001b[1;32m     75\u001b[0m \u001b[0;34m\u001b[0m\u001b[0m\n",
      "\u001b[0;32m~/opt/anaconda3/lib/python3.8/site-packages/sklearn/metrics/cluster/_unsupervised.py\u001b[0m in \u001b[0;36msilhouette_score\u001b[0;34m(X, labels, metric, sample_size, random_state, **kwds)\u001b[0m\n\u001b[1;32m    115\u001b[0m         \u001b[0;32melse\u001b[0m\u001b[0;34m:\u001b[0m\u001b[0;34m\u001b[0m\u001b[0;34m\u001b[0m\u001b[0m\n\u001b[1;32m    116\u001b[0m             \u001b[0mX\u001b[0m\u001b[0;34m,\u001b[0m \u001b[0mlabels\u001b[0m \u001b[0;34m=\u001b[0m \u001b[0mX\u001b[0m\u001b[0;34m[\u001b[0m\u001b[0mindices\u001b[0m\u001b[0;34m]\u001b[0m\u001b[0;34m,\u001b[0m \u001b[0mlabels\u001b[0m\u001b[0;34m[\u001b[0m\u001b[0mindices\u001b[0m\u001b[0;34m]\u001b[0m\u001b[0;34m\u001b[0m\u001b[0;34m\u001b[0m\u001b[0m\n\u001b[0;32m--> 117\u001b[0;31m     \u001b[0;32mreturn\u001b[0m \u001b[0mnp\u001b[0m\u001b[0;34m.\u001b[0m\u001b[0mmean\u001b[0m\u001b[0;34m(\u001b[0m\u001b[0msilhouette_samples\u001b[0m\u001b[0;34m(\u001b[0m\u001b[0mX\u001b[0m\u001b[0;34m,\u001b[0m \u001b[0mlabels\u001b[0m\u001b[0;34m,\u001b[0m \u001b[0mmetric\u001b[0m\u001b[0;34m=\u001b[0m\u001b[0mmetric\u001b[0m\u001b[0;34m,\u001b[0m \u001b[0;34m**\u001b[0m\u001b[0mkwds\u001b[0m\u001b[0;34m)\u001b[0m\u001b[0;34m)\u001b[0m\u001b[0;34m\u001b[0m\u001b[0;34m\u001b[0m\u001b[0m\n\u001b[0m\u001b[1;32m    118\u001b[0m \u001b[0;34m\u001b[0m\u001b[0m\n\u001b[1;32m    119\u001b[0m \u001b[0;34m\u001b[0m\u001b[0m\n",
      "\u001b[0;32m~/opt/anaconda3/lib/python3.8/site-packages/sklearn/utils/validation.py\u001b[0m in \u001b[0;36minner_f\u001b[0;34m(*args, **kwargs)\u001b[0m\n\u001b[1;32m     71\u001b[0m                           FutureWarning)\n\u001b[1;32m     72\u001b[0m         \u001b[0mkwargs\u001b[0m\u001b[0;34m.\u001b[0m\u001b[0mupdate\u001b[0m\u001b[0;34m(\u001b[0m\u001b[0;34m{\u001b[0m\u001b[0mk\u001b[0m\u001b[0;34m:\u001b[0m \u001b[0marg\u001b[0m \u001b[0;32mfor\u001b[0m \u001b[0mk\u001b[0m\u001b[0;34m,\u001b[0m \u001b[0marg\u001b[0m \u001b[0;32min\u001b[0m \u001b[0mzip\u001b[0m\u001b[0;34m(\u001b[0m\u001b[0msig\u001b[0m\u001b[0;34m.\u001b[0m\u001b[0mparameters\u001b[0m\u001b[0;34m,\u001b[0m \u001b[0margs\u001b[0m\u001b[0;34m)\u001b[0m\u001b[0;34m}\u001b[0m\u001b[0;34m)\u001b[0m\u001b[0;34m\u001b[0m\u001b[0;34m\u001b[0m\u001b[0m\n\u001b[0;32m---> 73\u001b[0;31m         \u001b[0;32mreturn\u001b[0m \u001b[0mf\u001b[0m\u001b[0;34m(\u001b[0m\u001b[0;34m**\u001b[0m\u001b[0mkwargs\u001b[0m\u001b[0;34m)\u001b[0m\u001b[0;34m\u001b[0m\u001b[0;34m\u001b[0m\u001b[0m\n\u001b[0m\u001b[1;32m     74\u001b[0m     \u001b[0;32mreturn\u001b[0m \u001b[0minner_f\u001b[0m\u001b[0;34m\u001b[0m\u001b[0;34m\u001b[0m\u001b[0m\n\u001b[1;32m     75\u001b[0m \u001b[0;34m\u001b[0m\u001b[0m\n",
      "\u001b[0;32m~/opt/anaconda3/lib/python3.8/site-packages/sklearn/metrics/cluster/_unsupervised.py\u001b[0m in \u001b[0;36msilhouette_samples\u001b[0;34m(X, labels, metric, **kwds)\u001b[0m\n\u001b[1;32m    232\u001b[0m     reduce_func = functools.partial(_silhouette_reduce,\n\u001b[1;32m    233\u001b[0m                                     labels=labels, label_freqs=label_freqs)\n\u001b[0;32m--> 234\u001b[0;31m     results = zip(*pairwise_distances_chunked(X, reduce_func=reduce_func,\n\u001b[0m\u001b[1;32m    235\u001b[0m                                               **kwds))\n\u001b[1;32m    236\u001b[0m     \u001b[0mintra_clust_dists\u001b[0m\u001b[0;34m,\u001b[0m \u001b[0minter_clust_dists\u001b[0m \u001b[0;34m=\u001b[0m \u001b[0mresults\u001b[0m\u001b[0;34m\u001b[0m\u001b[0;34m\u001b[0m\u001b[0m\n",
      "\u001b[0;32m~/opt/anaconda3/lib/python3.8/site-packages/sklearn/metrics/pairwise.py\u001b[0m in \u001b[0;36mpairwise_distances_chunked\u001b[0;34m(X, Y, reduce_func, metric, n_jobs, working_memory, **kwds)\u001b[0m\n\u001b[1;32m   1610\u001b[0m         \u001b[0;32melse\u001b[0m\u001b[0;34m:\u001b[0m\u001b[0;34m\u001b[0m\u001b[0;34m\u001b[0m\u001b[0m\n\u001b[1;32m   1611\u001b[0m             \u001b[0mX_chunk\u001b[0m \u001b[0;34m=\u001b[0m \u001b[0mX\u001b[0m\u001b[0;34m[\u001b[0m\u001b[0msl\u001b[0m\u001b[0;34m]\u001b[0m\u001b[0;34m\u001b[0m\u001b[0;34m\u001b[0m\u001b[0m\n\u001b[0;32m-> 1612\u001b[0;31m         D_chunk = pairwise_distances(X_chunk, Y, metric=metric,\n\u001b[0m\u001b[1;32m   1613\u001b[0m                                      n_jobs=n_jobs, **kwds)\n\u001b[1;32m   1614\u001b[0m         if ((X is Y or Y is None)\n",
      "\u001b[0;32m~/opt/anaconda3/lib/python3.8/site-packages/sklearn/utils/validation.py\u001b[0m in \u001b[0;36minner_f\u001b[0;34m(*args, **kwargs)\u001b[0m\n\u001b[1;32m     71\u001b[0m                           FutureWarning)\n\u001b[1;32m     72\u001b[0m         \u001b[0mkwargs\u001b[0m\u001b[0;34m.\u001b[0m\u001b[0mupdate\u001b[0m\u001b[0;34m(\u001b[0m\u001b[0;34m{\u001b[0m\u001b[0mk\u001b[0m\u001b[0;34m:\u001b[0m \u001b[0marg\u001b[0m \u001b[0;32mfor\u001b[0m \u001b[0mk\u001b[0m\u001b[0;34m,\u001b[0m \u001b[0marg\u001b[0m \u001b[0;32min\u001b[0m \u001b[0mzip\u001b[0m\u001b[0;34m(\u001b[0m\u001b[0msig\u001b[0m\u001b[0;34m.\u001b[0m\u001b[0mparameters\u001b[0m\u001b[0;34m,\u001b[0m \u001b[0margs\u001b[0m\u001b[0;34m)\u001b[0m\u001b[0;34m}\u001b[0m\u001b[0;34m)\u001b[0m\u001b[0;34m\u001b[0m\u001b[0;34m\u001b[0m\u001b[0m\n\u001b[0;32m---> 73\u001b[0;31m         \u001b[0;32mreturn\u001b[0m \u001b[0mf\u001b[0m\u001b[0;34m(\u001b[0m\u001b[0;34m**\u001b[0m\u001b[0mkwargs\u001b[0m\u001b[0;34m)\u001b[0m\u001b[0;34m\u001b[0m\u001b[0;34m\u001b[0m\u001b[0m\n\u001b[0m\u001b[1;32m     74\u001b[0m     \u001b[0;32mreturn\u001b[0m \u001b[0minner_f\u001b[0m\u001b[0;34m\u001b[0m\u001b[0;34m\u001b[0m\u001b[0m\n\u001b[1;32m     75\u001b[0m \u001b[0;34m\u001b[0m\u001b[0m\n",
      "\u001b[0;32m~/opt/anaconda3/lib/python3.8/site-packages/sklearn/metrics/pairwise.py\u001b[0m in \u001b[0;36mpairwise_distances\u001b[0;34m(X, Y, metric, n_jobs, force_all_finite, **kwds)\u001b[0m\n\u001b[1;32m   1773\u001b[0m         \u001b[0mfunc\u001b[0m \u001b[0;34m=\u001b[0m \u001b[0mpartial\u001b[0m\u001b[0;34m(\u001b[0m\u001b[0mdistance\u001b[0m\u001b[0;34m.\u001b[0m\u001b[0mcdist\u001b[0m\u001b[0;34m,\u001b[0m \u001b[0mmetric\u001b[0m\u001b[0;34m=\u001b[0m\u001b[0mmetric\u001b[0m\u001b[0;34m,\u001b[0m \u001b[0;34m**\u001b[0m\u001b[0mkwds\u001b[0m\u001b[0;34m)\u001b[0m\u001b[0;34m\u001b[0m\u001b[0;34m\u001b[0m\u001b[0m\n\u001b[1;32m   1774\u001b[0m \u001b[0;34m\u001b[0m\u001b[0m\n\u001b[0;32m-> 1775\u001b[0;31m     \u001b[0;32mreturn\u001b[0m \u001b[0m_parallel_pairwise\u001b[0m\u001b[0;34m(\u001b[0m\u001b[0mX\u001b[0m\u001b[0;34m,\u001b[0m \u001b[0mY\u001b[0m\u001b[0;34m,\u001b[0m \u001b[0mfunc\u001b[0m\u001b[0;34m,\u001b[0m \u001b[0mn_jobs\u001b[0m\u001b[0;34m,\u001b[0m \u001b[0;34m**\u001b[0m\u001b[0mkwds\u001b[0m\u001b[0;34m)\u001b[0m\u001b[0;34m\u001b[0m\u001b[0;34m\u001b[0m\u001b[0m\n\u001b[0m\u001b[1;32m   1776\u001b[0m \u001b[0;34m\u001b[0m\u001b[0m\n\u001b[1;32m   1777\u001b[0m \u001b[0;34m\u001b[0m\u001b[0m\n",
      "\u001b[0;32m~/opt/anaconda3/lib/python3.8/site-packages/sklearn/metrics/pairwise.py\u001b[0m in \u001b[0;36m_parallel_pairwise\u001b[0;34m(X, Y, func, n_jobs, **kwds)\u001b[0m\n\u001b[1;32m   1357\u001b[0m \u001b[0;34m\u001b[0m\u001b[0m\n\u001b[1;32m   1358\u001b[0m     \u001b[0;32mif\u001b[0m \u001b[0meffective_n_jobs\u001b[0m\u001b[0;34m(\u001b[0m\u001b[0mn_jobs\u001b[0m\u001b[0;34m)\u001b[0m \u001b[0;34m==\u001b[0m \u001b[0;36m1\u001b[0m\u001b[0;34m:\u001b[0m\u001b[0;34m\u001b[0m\u001b[0;34m\u001b[0m\u001b[0m\n\u001b[0;32m-> 1359\u001b[0;31m         \u001b[0;32mreturn\u001b[0m \u001b[0mfunc\u001b[0m\u001b[0;34m(\u001b[0m\u001b[0mX\u001b[0m\u001b[0;34m,\u001b[0m \u001b[0mY\u001b[0m\u001b[0;34m,\u001b[0m \u001b[0;34m**\u001b[0m\u001b[0mkwds\u001b[0m\u001b[0;34m)\u001b[0m\u001b[0;34m\u001b[0m\u001b[0;34m\u001b[0m\u001b[0m\n\u001b[0m\u001b[1;32m   1360\u001b[0m \u001b[0;34m\u001b[0m\u001b[0m\n\u001b[1;32m   1361\u001b[0m     \u001b[0;31m# enforce a threading backend to prevent data communication overhead\u001b[0m\u001b[0;34m\u001b[0m\u001b[0;34m\u001b[0m\u001b[0;34m\u001b[0m\u001b[0m\n",
      "\u001b[0;32m~/opt/anaconda3/lib/python3.8/site-packages/sklearn/utils/validation.py\u001b[0m in \u001b[0;36minner_f\u001b[0;34m(*args, **kwargs)\u001b[0m\n\u001b[1;32m     71\u001b[0m                           FutureWarning)\n\u001b[1;32m     72\u001b[0m         \u001b[0mkwargs\u001b[0m\u001b[0;34m.\u001b[0m\u001b[0mupdate\u001b[0m\u001b[0;34m(\u001b[0m\u001b[0;34m{\u001b[0m\u001b[0mk\u001b[0m\u001b[0;34m:\u001b[0m \u001b[0marg\u001b[0m \u001b[0;32mfor\u001b[0m \u001b[0mk\u001b[0m\u001b[0;34m,\u001b[0m \u001b[0marg\u001b[0m \u001b[0;32min\u001b[0m \u001b[0mzip\u001b[0m\u001b[0;34m(\u001b[0m\u001b[0msig\u001b[0m\u001b[0;34m.\u001b[0m\u001b[0mparameters\u001b[0m\u001b[0;34m,\u001b[0m \u001b[0margs\u001b[0m\u001b[0;34m)\u001b[0m\u001b[0;34m}\u001b[0m\u001b[0;34m)\u001b[0m\u001b[0;34m\u001b[0m\u001b[0;34m\u001b[0m\u001b[0m\n\u001b[0;32m---> 73\u001b[0;31m         \u001b[0;32mreturn\u001b[0m \u001b[0mf\u001b[0m\u001b[0;34m(\u001b[0m\u001b[0;34m**\u001b[0m\u001b[0mkwargs\u001b[0m\u001b[0;34m)\u001b[0m\u001b[0;34m\u001b[0m\u001b[0;34m\u001b[0m\u001b[0m\n\u001b[0m\u001b[1;32m     74\u001b[0m     \u001b[0;32mreturn\u001b[0m \u001b[0minner_f\u001b[0m\u001b[0;34m\u001b[0m\u001b[0;34m\u001b[0m\u001b[0m\n\u001b[1;32m     75\u001b[0m \u001b[0;34m\u001b[0m\u001b[0m\n",
      "\u001b[0;32m~/opt/anaconda3/lib/python3.8/site-packages/sklearn/metrics/pairwise.py\u001b[0m in \u001b[0;36meuclidean_distances\u001b[0;34m(X, Y, Y_norm_squared, squared, X_norm_squared)\u001b[0m\n\u001b[1;32m    317\u001b[0m         \u001b[0mnp\u001b[0m\u001b[0;34m.\u001b[0m\u001b[0mfill_diagonal\u001b[0m\u001b[0;34m(\u001b[0m\u001b[0mdistances\u001b[0m\u001b[0;34m,\u001b[0m \u001b[0;36m0\u001b[0m\u001b[0;34m)\u001b[0m\u001b[0;34m\u001b[0m\u001b[0;34m\u001b[0m\u001b[0m\n\u001b[1;32m    318\u001b[0m \u001b[0;34m\u001b[0m\u001b[0m\n\u001b[0;32m--> 319\u001b[0;31m     \u001b[0;32mreturn\u001b[0m \u001b[0mdistances\u001b[0m \u001b[0;32mif\u001b[0m \u001b[0msquared\u001b[0m \u001b[0;32melse\u001b[0m \u001b[0mnp\u001b[0m\u001b[0;34m.\u001b[0m\u001b[0msqrt\u001b[0m\u001b[0;34m(\u001b[0m\u001b[0mdistances\u001b[0m\u001b[0;34m,\u001b[0m \u001b[0mout\u001b[0m\u001b[0;34m=\u001b[0m\u001b[0mdistances\u001b[0m\u001b[0;34m)\u001b[0m\u001b[0;34m\u001b[0m\u001b[0;34m\u001b[0m\u001b[0m\n\u001b[0m\u001b[1;32m    320\u001b[0m \u001b[0;34m\u001b[0m\u001b[0m\n\u001b[1;32m    321\u001b[0m \u001b[0;34m\u001b[0m\u001b[0m\n",
      "\u001b[0;31mKeyboardInterrupt\u001b[0m: "
     ]
    }
   ],
   "source": [
    "silhouette_scores = []\n",
    "for model in  models[1:]:\n",
    "    silhouette_scores.append(\n",
    "        silhouette_score(X = X_y[['avg_followers','avg_views']] , labels = model.labels_ , metric='euclidean'))\n",
    "    print('*')\n",
    "plt.plot(range(2,upper_bound+1),silhouette_scores)\n",
    "plt.show()"
   ]
  },
  {
   "cell_type": "code",
   "execution_count": 91,
   "metadata": {},
   "outputs": [
    {
     "data": {
      "text/plain": [
       "[0.9968915338303932,\n",
       " 0.9894194087558161,\n",
       " 0.9894294843231253,\n",
       " 0.9768492781044915,\n",
       " 0.9603744707896552,\n",
       " 0.9624776558833047,\n",
       " 0.9637271761488337,\n",
       " 0.9615535912436831,\n",
       " 0.958967585172242,\n",
       " 0.9383551013426222]"
      ]
     },
     "execution_count": 91,
     "metadata": {},
     "output_type": "execute_result"
    }
   ],
   "source": [
    "silhouette_scores"
   ]
  },
  {
   "cell_type": "code",
   "execution_count": 92,
   "metadata": {},
   "outputs": [
    {
     "data": {
      "text/plain": [
       "KMeans(n_clusters=2)"
      ]
     },
     "execution_count": 92,
     "metadata": {},
     "output_type": "execute_result"
    }
   ],
   "source": [
    "def argmax(iterable):\n",
    "    return max(enumerate(iterable), key=lambda x: x[1])[0]\n",
    "\n",
    "kmeans = models[argmax(silhouette_scores)+1] \n",
    "kmeans"
   ]
  },
  {
   "cell_type": "code",
   "execution_count": 71,
   "metadata": {},
   "outputs": [],
   "source": [
    "y = kmeans.labels_\n",
    "cluster_1 = X_y[y == 0] \n",
    "cluster_2 = X_y[y == 1] "
   ]
  },
  {
   "cell_type": "code",
   "execution_count": 106,
   "metadata": {},
   "outputs": [],
   "source": [
    "y1 = cluster_1[\"avg_views\"]\n",
    "X1 = cluster_1[[\"avg_followers\"]]\n",
    "y2 = cluster_2[\"avg_views\"]\n",
    "X2 = cluster_2[[\"avg_followers\"]]"
   ]
  },
  {
   "cell_type": "code",
   "execution_count": 107,
   "metadata": {},
   "outputs": [],
   "source": [
    "follower_base_multi1 = LinearRegression()\n",
    "follower_base_multi1.fit(X1, y1)\n",
    "y_pred_multi1 = follower_base_multi1.predict(X1)"
   ]
  },
  {
   "cell_type": "code",
   "execution_count": 108,
   "metadata": {},
   "outputs": [],
   "source": [
    "follower_base_multi2 = LinearRegression()\n",
    "follower_base_multi2.fit(X2, y2)\n",
    "y_pred_multi2 = follower_base_multi2.predict(X2)"
   ]
  },
  {
   "cell_type": "code",
   "execution_count": 109,
   "metadata": {},
   "outputs": [
    {
     "name": "stdout",
     "output_type": "stream",
     "text": [
      "R2 0.30411176338201995 +/- 0.004639624572857719\n",
      "Paper: 0.204\n"
     ]
    }
   ],
   "source": [
    "r2s = []\n",
    "\n",
    "for i in range(100):\n",
    "    cv = KFold(5, shuffle=True, random_state=i)\n",
    "    follower_base_cv = cross_validate(follower_base_multi1, X1, y1, cv=cv, scoring='r2')\n",
    "    r2 =follower_base_cv[\"test_score\"].mean()\n",
    "    r2s.append(r2)\n",
    "    \n",
    "m1=np.mean(r2s)\n",
    "    \n",
    "print(\"R2\", np.mean(r2s), \"+/-\", np.std(r2s))\n",
    "print(\"Paper: 0.204\")"
   ]
  },
  {
   "cell_type": "code",
   "execution_count": 110,
   "metadata": {},
   "outputs": [
    {
     "name": "stdout",
     "output_type": "stream",
     "text": [
      "R2 -2.3125523391208436 +/- 3.3345273202925556\n",
      "Paper: 0.204\n"
     ]
    }
   ],
   "source": [
    "r2s = []\n",
    "\n",
    "for i in range(100):\n",
    "    cv = KFold(5, shuffle=True, random_state=i)\n",
    "    follower_base_cv = cross_validate(follower_base_multi2, X2, y2, cv=cv, scoring='r2')\n",
    "    r2 =follower_base_cv[\"test_score\"].mean()\n",
    "    r2s.append(r2)\n",
    "    \n",
    "m2=np.mean(r2s)\n",
    "    \n",
    "print(\"R2\", np.mean(r2s), \"+/-\", np.std(r2s))\n",
    "print(\"Paper: 0.204\")"
   ]
  },
  {
   "cell_type": "code",
   "execution_count": 111,
   "metadata": {},
   "outputs": [
    {
     "data": {
      "text/plain": [
       "-1.0042202878694118"
      ]
     },
     "execution_count": 111,
     "metadata": {},
     "output_type": "execute_result"
    }
   ],
   "source": [
    "(m1+m2)/2"
   ]
  },
  {
   "cell_type": "code",
   "execution_count": 112,
   "metadata": {},
   "outputs": [
    {
     "name": "stdout",
     "output_type": "stream",
     "text": [
      "rs 0.7529571980820908 +/- 2.1851269857498463e-05\n",
      "Paper: 0.725\n"
     ]
    }
   ],
   "source": [
    "rss = []\n",
    "for i in range(100):\n",
    "    cv = KFold(5, shuffle=True, random_state=i)\n",
    "    follower_base_cv = cross_validate(follower_base_multi1, X1, y1, cv=cv, scoring=spearmanr_scorer)\n",
    "    rss.append(follower_base_cv[\"test_score\"].mean())\n",
    "rs1 =np.mean(rss)\n",
    "print(\"rs\", np.mean(rss), \"+/-\", np.std(rss))\n",
    "print(\"Paper: 0.725\")"
   ]
  },
  {
   "cell_type": "code",
   "execution_count": 113,
   "metadata": {},
   "outputs": [
    {
     "name": "stdout",
     "output_type": "stream",
     "text": [
      "rs 0.12779999999999997 +/- 0.23891245258462354\n",
      "Paper: 0.725\n"
     ]
    }
   ],
   "source": [
    "rss = []\n",
    "for i in range(100):\n",
    "    cv = KFold(5, shuffle=True, random_state=i)\n",
    "    follower_base_cv = cross_validate(follower_base_multi2, X2, y2, cv=cv, scoring=spearmanr_scorer)\n",
    "    rss.append(follower_base_cv[\"test_score\"].mean())\n",
    "rs2 =np.mean(rss)\n",
    "print(\"rs\", np.mean(rss), \"+/-\", np.std(rss))\n",
    "print(\"Paper: 0.725\")"
   ]
  },
  {
   "cell_type": "code",
   "execution_count": 114,
   "metadata": {},
   "outputs": [
    {
     "data": {
      "text/plain": [
       "0.44037859904104537"
      ]
     },
     "execution_count": 114,
     "metadata": {},
     "output_type": "execute_result"
    }
   ],
   "source": [
    "(rs1+rs2)/2"
   ]
  },
  {
   "cell_type": "code",
   "execution_count": null,
   "metadata": {},
   "outputs": [],
   "source": []
  },
  {
   "cell_type": "code",
   "execution_count": 115,
   "metadata": {},
   "outputs": [],
   "source": [
    "y1 = cluster_1[\"avg_views\"]\n",
    "X1 = cluster_1[[\"avg_likes\"]]\n",
    "y2 = cluster_2[\"avg_views\"]\n",
    "X2 = cluster_2[[\"avg_likes\"]]"
   ]
  },
  {
   "cell_type": "code",
   "execution_count": 116,
   "metadata": {},
   "outputs": [],
   "source": [
    "follower_base_multi1 = LinearRegression()\n",
    "follower_base_multi1.fit(X1, y1)\n",
    "y_pred_multi1 = follower_base_multi1.predict(X1)"
   ]
  },
  {
   "cell_type": "code",
   "execution_count": 117,
   "metadata": {},
   "outputs": [],
   "source": [
    "follower_base_multi2 = LinearRegression()\n",
    "follower_base_multi2.fit(X2, y2)\n",
    "y_pred_multi2 = follower_base_multi2.predict(X2)"
   ]
  },
  {
   "cell_type": "code",
   "execution_count": 118,
   "metadata": {},
   "outputs": [
    {
     "name": "stdout",
     "output_type": "stream",
     "text": [
      "R2 0.6841767849653192 +/- 0.0035781918074417733\n",
      "Paper: 0.204\n"
     ]
    }
   ],
   "source": [
    "r2s = []\n",
    "\n",
    "for i in range(100):\n",
    "    cv = KFold(5, shuffle=True, random_state=i)\n",
    "    follower_base_cv = cross_validate(follower_base_multi1, X1, y1, cv=cv, scoring='r2')\n",
    "    r2 =follower_base_cv[\"test_score\"].mean()\n",
    "    r2s.append(r2)\n",
    "    \n",
    "m1=np.mean(r2s)\n",
    "    \n",
    "print(\"R2\", np.mean(r2s), \"+/-\", np.std(r2s))\n",
    "print(\"Paper: 0.204\")"
   ]
  },
  {
   "cell_type": "code",
   "execution_count": 119,
   "metadata": {},
   "outputs": [
    {
     "name": "stdout",
     "output_type": "stream",
     "text": [
      "R2 -2.6390412257005176 +/- 2.94927758607524\n",
      "Paper: 0.204\n"
     ]
    }
   ],
   "source": [
    "r2s = []\n",
    "\n",
    "for i in range(100):\n",
    "    cv = KFold(5, shuffle=True, random_state=i)\n",
    "    follower_base_cv = cross_validate(follower_base_multi2, X2, y2, cv=cv, scoring='r2')\n",
    "    r2 =follower_base_cv[\"test_score\"].mean()\n",
    "    r2s.append(r2)\n",
    "    \n",
    "m2=np.mean(r2s)\n",
    "    \n",
    "print(\"R2\", np.mean(r2s), \"+/-\", np.std(r2s))\n",
    "print(\"Paper: 0.204\")"
   ]
  },
  {
   "cell_type": "code",
   "execution_count": 120,
   "metadata": {},
   "outputs": [
    {
     "data": {
      "text/plain": [
       "-0.9774322203675991"
      ]
     },
     "execution_count": 120,
     "metadata": {},
     "output_type": "execute_result"
    }
   ],
   "source": [
    "(m1+m2)/2"
   ]
  },
  {
   "cell_type": "code",
   "execution_count": 121,
   "metadata": {},
   "outputs": [
    {
     "name": "stdout",
     "output_type": "stream",
     "text": [
      "rs 0.8451527352374572 +/- 1.557532533105827e-05\n",
      "Paper: 0.725\n"
     ]
    }
   ],
   "source": [
    "rss = []\n",
    "for i in range(100):\n",
    "    cv = KFold(5, shuffle=True, random_state=i)\n",
    "    follower_base_cv = cross_validate(follower_base_multi1, X1, y1, cv=cv, scoring=spearmanr_scorer)\n",
    "    rss.append(follower_base_cv[\"test_score\"].mean())\n",
    "rs1 =np.mean(rss)\n",
    "print(\"rs\", np.mean(rss), \"+/-\", np.std(rss))\n",
    "print(\"Paper: 0.725\")"
   ]
  },
  {
   "cell_type": "code",
   "execution_count": 122,
   "metadata": {},
   "outputs": [
    {
     "name": "stdout",
     "output_type": "stream",
     "text": [
      "rs 0.14959999999999998 +/- 0.16575837837044616\n",
      "Paper: 0.725\n"
     ]
    }
   ],
   "source": [
    "rss = []\n",
    "for i in range(100):\n",
    "    cv = KFold(5, shuffle=True, random_state=i)\n",
    "    follower_base_cv = cross_validate(follower_base_multi2, X2, y2, cv=cv, scoring=spearmanr_scorer)\n",
    "    rss.append(follower_base_cv[\"test_score\"].mean())\n",
    "rs2 =np.mean(rss)\n",
    "print(\"rs\", np.mean(rss), \"+/-\", np.std(rss))\n",
    "print(\"Paper: 0.725\")"
   ]
  },
  {
   "cell_type": "code",
   "execution_count": 123,
   "metadata": {},
   "outputs": [
    {
     "data": {
      "text/plain": [
       "0.49737636761872855"
      ]
     },
     "execution_count": 123,
     "metadata": {},
     "output_type": "execute_result"
    }
   ],
   "source": [
    "(rs1+rs2)/2"
   ]
  },
  {
   "cell_type": "code",
   "execution_count": null,
   "metadata": {},
   "outputs": [],
   "source": []
  },
  {
   "cell_type": "markdown",
   "metadata": {},
   "source": [
    "### Ridge Regression"
   ]
  },
  {
   "cell_type": "code",
   "execution_count": 125,
   "metadata": {},
   "outputs": [],
   "source": [
    "y1 = cluster_1[\"avg_views\"]\n",
    "X1 = cluster_1.drop(\"avg_views\", axis=1)\n",
    "y2 = cluster_2[\"avg_views\"]\n",
    "X2 = cluster_2.drop(\"avg_views\", axis=1)"
   ]
  },
  {
   "cell_type": "code",
   "execution_count": 126,
   "metadata": {},
   "outputs": [],
   "source": [
    "cv_gen = KFold(5, shuffle=True, random_state=0)"
   ]
  },
  {
   "cell_type": "code",
   "execution_count": 127,
   "metadata": {},
   "outputs": [],
   "source": [
    "rr = Ridge(random_state=0)"
   ]
  },
  {
   "cell_type": "code",
   "execution_count": 131,
   "metadata": {},
   "outputs": [
    {
     "data": {
      "text/plain": [
       "0.7011290816986406"
      ]
     },
     "execution_count": 131,
     "metadata": {},
     "output_type": "execute_result"
    }
   ],
   "source": [
    "rr_cv = cross_validate(rr, X1, y1, cv=cv_gen, scoring='r2')\n",
    "r1=rr_cv[\"test_score\"].mean()\n",
    "r1\n",
    "# paper: 0.727"
   ]
  },
  {
   "cell_type": "code",
   "execution_count": 132,
   "metadata": {},
   "outputs": [
    {
     "data": {
      "text/plain": [
       "-67.59912585885108"
      ]
     },
     "execution_count": 132,
     "metadata": {},
     "output_type": "execute_result"
    }
   ],
   "source": [
    "rr_cv = cross_validate(rr, X2, y2, cv=cv_gen, scoring='r2')\n",
    "r2=rr_cv[\"test_score\"].mean()\n",
    "r2\n",
    "# paper: 0.727"
   ]
  },
  {
   "cell_type": "code",
   "execution_count": 136,
   "metadata": {},
   "outputs": [
    {
     "data": {
      "text/plain": [
       "-33.44899838857622"
      ]
     },
     "execution_count": 136,
     "metadata": {},
     "output_type": "execute_result"
    }
   ],
   "source": [
    "(r1+r2)/2"
   ]
  },
  {
   "cell_type": "code",
   "execution_count": 133,
   "metadata": {},
   "outputs": [
    {
     "data": {
      "text/plain": [
       "0.8462637147607438"
      ]
     },
     "execution_count": 133,
     "metadata": {},
     "output_type": "execute_result"
    }
   ],
   "source": [
    "rr_cv = cross_validate(rr, X1, y1, cv=cv_gen, scoring=spearmanr_scorer)\n",
    "s1=rr_cv[\"test_score\"].mean()\n",
    "s1\n",
    "# paper: 0.821"
   ]
  },
  {
   "cell_type": "code",
   "execution_count": 134,
   "metadata": {},
   "outputs": [
    {
     "data": {
      "text/plain": [
       "0.12000000000000002"
      ]
     },
     "execution_count": 134,
     "metadata": {},
     "output_type": "execute_result"
    }
   ],
   "source": [
    "rr_cv = cross_validate(rr, X2, y2, cv=cv_gen, scoring=spearmanr_scorer)\n",
    "s2=rr_cv[\"test_score\"].mean()\n",
    "s2\n",
    "# paper: 0.821"
   ]
  },
  {
   "cell_type": "code",
   "execution_count": 135,
   "metadata": {},
   "outputs": [
    {
     "data": {
      "text/plain": [
       "0.4831318573803719"
      ]
     },
     "execution_count": 135,
     "metadata": {},
     "output_type": "execute_result"
    }
   ],
   "source": [
    "(s1+s2)/2"
   ]
  },
  {
   "cell_type": "code",
   "execution_count": null,
   "metadata": {},
   "outputs": [],
   "source": []
  },
  {
   "cell_type": "markdown",
   "metadata": {},
   "source": [
    "### Random Forest"
   ]
  },
  {
   "cell_type": "code",
   "execution_count": null,
   "metadata": {},
   "outputs": [],
   "source": [
    "y1 = cluster_1[\"avg_views\"]\n",
    "X1 = cluster_1.drop(\"avg_views\", axis=1)\n",
    "y2 = cluster_2[\"avg_views\"]\n",
    "X2 = cluster_2.drop(\"avg_views\", axis=1)"
   ]
  },
  {
   "cell_type": "code",
   "execution_count": 139,
   "metadata": {},
   "outputs": [],
   "source": [
    "rfr = RandomForestRegressor(random_state=0)"
   ]
  },
  {
   "cell_type": "code",
   "execution_count": 145,
   "metadata": {},
   "outputs": [
    {
     "name": "stdout",
     "output_type": "stream",
     "text": [
      "CPU times: user 37.6 ms, sys: 24.5 ms, total: 62.1 ms\n",
      "Wall time: 1min 45s\n"
     ]
    },
    {
     "data": {
      "text/plain": [
       "0.7395229287678871"
      ]
     },
     "execution_count": 145,
     "metadata": {},
     "output_type": "execute_result"
    }
   ],
   "source": [
    "%%time\n",
    "rfr_cv = cross_validate(rfr, X1, y1, cv=cv_gen, scoring='r2', n_jobs=-1)\n",
    "r1=rfr_cv[\"test_score\"].mean()\n",
    "r1\n",
    "# paper: 0.621"
   ]
  },
  {
   "cell_type": "code",
   "execution_count": 146,
   "metadata": {},
   "outputs": [
    {
     "name": "stdout",
     "output_type": "stream",
     "text": [
      "CPU times: user 11.1 ms, sys: 2.73 ms, total: 13.9 ms\n",
      "Wall time: 225 ms\n"
     ]
    },
    {
     "data": {
      "text/plain": [
       "-0.9528744953732071"
      ]
     },
     "execution_count": 146,
     "metadata": {},
     "output_type": "execute_result"
    }
   ],
   "source": [
    "%%time\n",
    "rfr_cv = cross_validate(rfr, X2, y2, cv=cv_gen, scoring='r2', n_jobs=-1)\n",
    "r2=rfr_cv[\"test_score\"].mean()\n",
    "r2\n",
    "# paper: 0.621"
   ]
  },
  {
   "cell_type": "code",
   "execution_count": 147,
   "metadata": {},
   "outputs": [
    {
     "data": {
      "text/plain": [
       "-0.10667578330266003"
      ]
     },
     "execution_count": 147,
     "metadata": {},
     "output_type": "execute_result"
    }
   ],
   "source": [
    "(r1+r2)/2"
   ]
  },
  {
   "cell_type": "code",
   "execution_count": 142,
   "metadata": {},
   "outputs": [
    {
     "name": "stdout",
     "output_type": "stream",
     "text": [
      "CPU times: user 36.6 ms, sys: 24.1 ms, total: 60.8 ms\n",
      "Wall time: 1min 47s\n"
     ]
    },
    {
     "data": {
      "text/plain": [
       "0.868155712668153"
      ]
     },
     "execution_count": 142,
     "metadata": {},
     "output_type": "execute_result"
    }
   ],
   "source": [
    "%%time\n",
    "rfr_cv = cross_validate(rfr, X1, y1, cv=cv_gen, scoring=spearmanr_scorer, n_jobs=-1)\n",
    "s1=rfr_cv[\"test_score\"].mean()\n",
    "s1\n",
    "# paper: 0.861 "
   ]
  },
  {
   "cell_type": "code",
   "execution_count": 143,
   "metadata": {},
   "outputs": [
    {
     "name": "stdout",
     "output_type": "stream",
     "text": [
      "CPU times: user 10.8 ms, sys: 2.69 ms, total: 13.5 ms\n",
      "Wall time: 408 ms\n"
     ]
    },
    {
     "data": {
      "text/plain": [
       "0.45999999999999996"
      ]
     },
     "execution_count": 143,
     "metadata": {},
     "output_type": "execute_result"
    }
   ],
   "source": [
    "%%time\n",
    "rfr_cv = cross_validate(rfr, X2, y2, cv=cv_gen, scoring=spearmanr_scorer, n_jobs=-1)\n",
    "s2=rfr_cv[\"test_score\"].mean()\n",
    "s2\n",
    "# paper: 0.861"
   ]
  },
  {
   "cell_type": "code",
   "execution_count": 144,
   "metadata": {},
   "outputs": [
    {
     "data": {
      "text/plain": [
       "0.6640778563340765"
      ]
     },
     "execution_count": 144,
     "metadata": {},
     "output_type": "execute_result"
    }
   ],
   "source": [
    "(s1+s2)/2"
   ]
  },
  {
   "cell_type": "code",
   "execution_count": null,
   "metadata": {},
   "outputs": [],
   "source": []
  }
 ],
 "metadata": {
  "kernelspec": {
   "display_name": "Python 3",
   "language": "python",
   "name": "python3"
  },
  "language_info": {
   "codemirror_mode": {
    "name": "ipython",
    "version": 3
   },
   "file_extension": ".py",
   "mimetype": "text/x-python",
   "name": "python",
   "nbconvert_exporter": "python",
   "pygments_lexer": "ipython3",
   "version": "3.8.5"
  }
 },
 "nbformat": 4,
 "nbformat_minor": 4
}
